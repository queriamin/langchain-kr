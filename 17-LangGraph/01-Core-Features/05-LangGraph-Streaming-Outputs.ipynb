{
 "cells": [
  {
   "cell_type": "markdown",
   "id": "eec680f5",
   "metadata": {},
   "source": [
    "# LangGraph 단계별 스트리밍 출력\n",
    "\n",
    "이번에는 LangGrpah 의 `stream()` 출력 함수에 대한 조금 더 자세한 설명을 진행합니다.\n",
    "\n",
    "LangGraph 의 스트리밍 출력 함수는 그래프의 각 단계를 스트리밍하는 기능을 제공합니다.\n",
    "\n"
   ]
  },
  {
   "cell_type": "markdown",
   "id": "1b2184f4",
   "metadata": {},
   "source": [
    "참고: 아래의 LangGraph 예제는 이전 섹션의 예제와 동일합니다."
   ]
  },
  {
   "cell_type": "code",
   "execution_count": 1,
   "id": "de9d9d8d",
   "metadata": {},
   "outputs": [
    {
     "data": {
      "text/plain": [
       "True"
      ]
     },
     "execution_count": 1,
     "metadata": {},
     "output_type": "execute_result"
    }
   ],
   "source": [
    "# API 키를 환경변수로 관리하기 위한 설정 파일\n",
    "from dotenv import load_dotenv\n",
    "\n",
    "# API 키 정보 로드\n",
    "load_dotenv()"
   ]
  },
  {
   "cell_type": "code",
   "execution_count": 2,
   "id": "6b5c6228",
   "metadata": {},
   "outputs": [
    {
     "name": "stdout",
     "output_type": "stream",
     "text": [
      "LangSmith 추적을 시작합니다.\n",
      "[프로젝트명]\n",
      "CH17-LangGraph-Modules\n"
     ]
    }
   ],
   "source": [
    "# LangSmith 추적을 설정합니다. https://smith.langchain.com\n",
    "# !pip install -qU langchain-teddynote\n",
    "from langchain_teddynote import logging\n",
    "\n",
    "# 프로젝트 이름을 입력합니다.\n",
    "logging.langsmith(\"CH17-LangGraph-Modules\")"
   ]
  },
  {
   "cell_type": "code",
   "execution_count": 3,
   "id": "51549b1d",
   "metadata": {},
   "outputs": [
    {
     "name": "stderr",
     "output_type": "stream",
     "text": [
      "/Users/minjeong/Library/Caches/pypoetry/virtualenvs/langchain-kr-szXyjQUn-py3.11/lib/python3.11/site-packages/pydantic/_internal/_config.py:373: UserWarning: Valid config keys have changed in V2:\n",
      "* 'allow_population_by_field_name' has been renamed to 'validate_by_name'\n",
      "* 'smart_union' has been removed\n",
      "  warnings.warn(message, UserWarning)\n"
     ]
    },
    {
     "data": {
      "image/png": "[encoded data removed]",
      "text/plain": [
       "<IPython.core.display.Image object>"
      ]
     },
     "metadata": {},
     "output_type": "display_data"
    }
   ],
   "source": [
    "from typing import Annotated, List, Dict\n",
    "from typing_extensions import TypedDict\n",
    "\n",
    "from langchain_core.tools import tool\n",
    "from langchain_openai import ChatOpenAI\n",
    "from langgraph.checkpoint.memory import MemorySaver\n",
    "from langgraph.graph import StateGraph, START, END\n",
    "from langgraph.graph.message import add_messages\n",
    "from langgraph.prebuilt import ToolNode, tools_condition\n",
    "from langchain_teddynote.graphs import visualize_graph\n",
    "from langchain_teddynote.tools import GoogleNews\n",
    "\n",
    "\n",
    "########## 1. 상태 정의 ##########\n",
    "# 상태 정의\n",
    "class State(TypedDict):\n",
    "    # 메시지 목록 주석 추가\n",
    "    messages: Annotated[list, add_messages]\n",
    "    dummy_data: Annotated[str, \"dummy\"]\n",
    "\n",
    "\n",
    "########## 2. 도구 정의 및 바인딩 ##########\n",
    "# 도구 초기화\n",
    "# 키워드로 뉴스 검색하는 도구 생성\n",
    "news_tool = GoogleNews()\n",
    "\n",
    "\n",
    "@tool\n",
    "def search_keyword(query: str) -> List[Dict[str, str]]:\n",
    "    \"\"\"Look up news by keyword\"\"\"\n",
    "    news_tool = GoogleNews()\n",
    "    return news_tool.search_by_keyword(query, k=5)\n",
    "\n",
    "\n",
    "tools = [search_keyword]\n",
    "\n",
    "# LLM 초기화\n",
    "llm = ChatOpenAI(model=\"gpt-4o-mini\")\n",
    "\n",
    "# 도구와 LLM 결합\n",
    "llm_with_tools = llm.bind_tools(tools)\n",
    "\n",
    "\n",
    "########## 3. 노드 추가 ##########\n",
    "# 챗봇 함수 정의\n",
    "def chatbot(state: State):\n",
    "    # 메시지 호출 및 반환\n",
    "    return {\n",
    "        \"messages\": [llm_with_tools.invoke(state[\"messages\"])],\n",
    "        \"dummy_data\": \"[chatbot] 호출, dummy data\",  # 테스트를 위하여 더미 데이터를 추가합니다.\n",
    "    }\n",
    "\n",
    "\n",
    "# 상태 그래프 생성\n",
    "graph_builder = StateGraph(State)\n",
    "\n",
    "# 챗봇 노드 추가\n",
    "graph_builder.add_node(\"chatbot\", chatbot)\n",
    "\n",
    "\n",
    "# 도구 노드 생성 및 추가\n",
    "tool_node = ToolNode(tools=tools)\n",
    "\n",
    "# 도구 노드 추가\n",
    "graph_builder.add_node(\"tools\", tool_node)\n",
    "\n",
    "# 조건부 엣지\n",
    "graph_builder.add_conditional_edges(\n",
    "    \"chatbot\",\n",
    "    tools_condition,\n",
    ")\n",
    "\n",
    "########## 4. 엣지 추가 ##########\n",
    "\n",
    "# tools > chatbot\n",
    "graph_builder.add_edge(\"tools\", \"chatbot\")\n",
    "\n",
    "# START > chatbot\n",
    "graph_builder.add_edge(START, \"chatbot\")\n",
    "\n",
    "# chatbot > END\n",
    "graph_builder.add_edge(\"chatbot\", END)\n",
    "\n",
    "########## 5. 그래프 컴파일 ##########\n",
    "\n",
    "# 그래프 빌더 컴파일\n",
    "graph = graph_builder.compile()\n",
    "\n",
    "########## 6. 그래프 시각화 ##########\n",
    "# 그래프 시각화\n",
    "visualize_graph(graph)"
   ]
  },
  {
   "cell_type": "markdown",
   "id": "bea7dc51",
   "metadata": {},
   "source": [
    "## StateGraph의 `stream` 메서드\n",
    "\n",
    "`stream` 메서드는 단일 입력에 대한 그래프 단계를 스트리밍하는 기능을 제공합니다.\n",
    "\n",
    "**매개변수**\n",
    "- `input` (Union[dict[str, Any], Any]): 그래프에 대한 입력\n",
    "- `config` (Optional[RunnableConfig]): 실행 구성\n",
    "- `stream_mode` (Optional[Union[StreamMode, list[StreamMode]]]): 출력 스트리밍 모드\n",
    "- `output_keys` (Optional[Union[str, Sequence[str]]]): 스트리밍할 키\n",
    "- `interrupt_before` (Optional[Union[All, Sequence[str]]]): 실행 전에 중단할 노드\n",
    "- `interrupt_after` (Optional[Union[All, Sequence[str]]]): 실행 후에 중단할 노드\n",
    "- `debug` (Optional[bool]): 디버그 정보 출력 여부\n",
    "- `subgraphs` (bool): 하위 그래프 스트리밍 여부\n",
    "\n",
    "**반환값**\n",
    "- Iterator[Union[dict[str, Any], Any]]: 그래프의 각 단계 출력. 출력 형태는 `stream_mode`에 따라 다름\n",
    "\n",
    "**주요 기능**\n",
    "1. 입력된 설정에 따라 그래프 실행을 스트리밍 방식으로 처리\n",
    "2. 다양한 스트리밍 모드 지원 (`values`, `updates`, `debug`)\n",
    "3. 콜백 관리 및 오류 처리\n",
    "4. 재귀 제한 및 중단 조건 처리\n",
    "\n",
    "**스트리밍 모드**\n",
    "- `values`: 각 단계의 현재 상태 값 출력\n",
    "- `updates`: 각 단계의 상태 업데이트만 출력\n",
    "- `debug`: 각 단계의 디버그 이벤트 출력"
   ]
  },
  {
   "cell_type": "code",
   "execution_count": 4,
   "id": "3ae917b7",
   "metadata": {},
   "outputs": [],
   "source": [
    "from langchain_core.runnables import RunnableConfig\n",
    "\n",
    "# 질문\n",
    "question = \"2024년 노벨 문학상 관련 뉴스를 알려주세요.\"\n",
    "\n",
    "# 초기 입력 상태를 정의\n",
    "input = State(dummy_data=\"테스트 문자열\", messages=[(\"user\", question)])\n",
    "\n",
    "# config 설정\n",
    "config = RunnableConfig(\n",
    "    recursion_limit=10,  # 최대 10개의 노드까지 방문. 그 이상은 RecursionError 발생\n",
    "    configurable={\"thread_id\": \"1\"},  # 스레드 ID 설정\n",
    "    tags=[\"my-tag\"],  # Tag\n",
    ")"
   ]
  },
  {
   "cell_type": "markdown",
   "id": "e931823b",
   "metadata": {},
   "source": [
    "`config` 를 설정하고 스트리밍 출력을 진행합니다."
   ]
  },
  {
   "cell_type": "code",
   "execution_count": 5,
   "id": "ab5c0bad",
   "metadata": {},
   "outputs": [
    {
     "name": "stdout",
     "output_type": "stream",
     "text": [
      "\n",
      "[ chatbot ]\n",
      "\n",
      "==================================\u001b[1m Ai Message \u001b[0m==================================\n",
      "Tool Calls:\n",
      "  search_keyword (call_hkfjNa4ldNLWVigNdrFKxCiL)\n",
      " Call ID: call_hkfjNa4ldNLWVigNdrFKxCiL\n",
      "  Args:\n",
      "    query: 2024 Nobel Prize in Literature news\n",
      "\n",
      "[ tools ]\n",
      "\n",
      "=================================\u001b[1m Tool Message \u001b[0m=================================\n",
      "Name: search_keyword\n",
      "\n",
      "[{\"url\": \"https://news.google.com/rss/articles/CBMiW0FVX3lxTFBDZXNtSG4yODItOXZkOThPRldVX0Z4TzFNVkh4dGpFaF9lbXBsa1RiZlRsR29uT1BJNkVsczhadnBtNWV0ZWhTaVVhaXBYVzg0MnhmQWtQcnRyaVk?oc=5\", \"content\": \"Nobel Prize winner Han Kang expresses shock from news of martial law in 2024 - KBS 뉴스\"}, {\"url\": \"https://news.google.com/rss/articles/CBMiU0FVX3lxTE9JSVhmSnZicUJFRG43VUJUa3NUUWFEa0otR0oybmIwTnF5QmYxbklueURuNGRqbmNqSkYyYXJZMDBHM1VmejNrNHplbE5QRHhXa1dB?oc=5\", \"content\": \"Han Gang receives Nobel Prize in Literature as first Asian female author - 네이트 뉴스\"}, {\"url\": \"https://news.google.com/rss/articles/CBMiW0FVX3lxTE1vbTFGRXhfTVBkRGlSRjZXdnZ1M1dxaVc1LVdZTVBZSkkteTl2elVOUzBhZjlnSk80bDVBdndxY3A2ZHJPeDJQN1piSGpIMksxRHRzelBqaGpRU00?oc=5\", \"content\": \"한국 첫 노벨 문학상 탄생…'채식주의자' 작가 한강 영예 - 연합뉴스\"}, {\"url\": \"https://news.google.com/rss/articles/CBMiX0FVX3lxTE4weUo4UjItSU5KSHRJTTMzbTA3OGo3ZUJ4NnBaZm1kdVdYS1Btcl9oeUpSSU5pa0RKUHp6dV9VaU0ySWp3ckQzeXNVQXJYZnJldVFyblQ5QUFjY3dSRlZr?oc=5\", \"content\": \"Han Kang Wins Nobel Prize in Literature: A Moment of Honor - 미주한국일보\"}, {\"url\": \"https://news.google.com/rss/articles/CBMiugFBVV95cUxOcVpNRWgxNDRzRzZzTC1saGRPZ3RvUnVZNlpGZUdMYWRQNkdDa0FQS3dDWE04UnhwNmpzWHVUbng1dGNUbklOUk1lS0x4c2J0NXZEX3VEUWJoUjk0QUVlcnR1ZENDYm9sZ3FfREMxQlpyYjQ2S1diRExROHFGZmtnWWNjVDBPN1ZQQlY1NUI1R3owamFoa2Fka1lfQURJaG05NEQ3VElvMlh3bC1TdFZTbzl4b1laODRqcHc?oc=5\", \"content\": \"Pythagoras, AI and Han Kang (KOR) - Korea JoongAng Daily\"}]\n",
      "\n",
      "[ chatbot ]\n",
      "\n",
      "==================================\u001b[1m Ai Message \u001b[0m==================================\n",
      "\n",
      "2024년 노벨 문학상에 대한 뉴스는 다음과 같습니다:\n",
      "\n",
      "1. **한강, 2024년 노벨 문학상 수상**: 한국의 첫 번째 여성 작가인 한강이 2024년 노벨 문학상을 수상했습니다. (출처: [연합뉴스](https://news.google.com/rss/articles/CBMiW0FVX3lxTE1vbTFGRXhfTVBkRGlSRjZXdnZ1M1dxaVc1LVdZTVBZSkkteTl2elVOUzBhZjlnSk80bDVBdndxY3A2ZHJPeDJQN1piSGpIMksxRHRzelBqaGpRU00?oc=5))\n",
      "\n",
      "2. **한강, 계엄령 소식에 충격**: 노벨 문학상 수상자인 한강은 2024년 계엄령 소식에 충격을 받았다고 전했습니다. (출처: [KBS 뉴스](https://news.google.com/rss/articles/CBMiW0FVX3lxTFBDZXNtSG4yODItOXZkOThPRldVX0Z4TzFNVkh4dGpFaF9lbXBsa1RiZlRsR29uT1BJNkVsczhadnBtNWV0ZWhTaVVhaXBYVzg0MnhmQWtQcnRyaVk?oc=5))\n",
      "\n",
      "3. **한강의 영예로운 수상 소식**: 한강의 노벨 문학상 수상 소식은 한국 문학의 큰 영예로 평가받고 있습니다. (출처: [미주한국일보](https://news.google.com/rss/articles/CBMiX0FVX3lxTE4weUo4UjItSU5KSHRJTTMzbTA3OGo3ZUJ4NnBaZm1kdVdYS1Btcl9oeUpSSU5pa0RKUHp6dV9VaU0ySWp3ckQzeXNVQXJYZnJldVFyblQ5QUFjY3dSRlZr?oc=5))\n",
      "\n",
      "4. **한강의 독창적인 문학 세계**: 한국 문학에서의 한강의 중요성과 그녀의 작품이 갖는 의미에 대해 논의하는 기사도 다수 있습니다. (출처: [Korea JoongAng Daily](https://news.google.com/rss/articles/CBMiugFBVV95cUxOcVpNRWgxNDRzRzZzTC1saGRPZ3RvUnVZNlpGZUdMYWRQNkdDa0FQS3dDWE04UnhwNmpzWHVUbng1dGNUbklOUk1lS0x4c2J0NXZEX3VEUWJoUjk0QUVlcnR1ZENDYm9sZ3FfREMxQlpyYjQ2S1diRExROHFGZmtnWWNjVDBPN1ZQQlY1NUI1R3owamFoa2Fka1lfQURJaG05NEQ3VElvMlh3bC1TdFZTbzl4b1laODRqcHc?oc=5))\n",
      "\n",
      "이 뉴스를 통해 한강의 노벨 문학상 수상이 한국 문학에 미친 영향을 알 수 있습니다.\n"
     ]
    }
   ],
   "source": [
    "for event in graph.stream(input=input, config=config):\n",
    "    for key, value in event.items():\n",
    "        print(f\"\\n[ {key} ]\\n\")\n",
    "        # value 에 messages 가 존재하는 경우\n",
    "        if \"messages\" in value:\n",
    "            messages = value[\"messages\"]\n",
    "            # 가장 최근 메시지 1개만 출력합니다.\n",
    "            value[\"messages\"][-1].pretty_print()"
   ]
  },
  {
   "cell_type": "markdown",
   "id": "b0d00b51",
   "metadata": {},
   "source": [
    "### `output_keys` 옵션\n",
    "\n",
    "`output_keys` 옵션은 스트리밍할 키를 지정하는 데 사용됩니다.\n",
    "\n",
    "list 형식으로 지정할 수 있으며, **channels 에 정의된 키 중 하나** 여야 합니다.\n",
    "\n",
    "**팁(tip)**\n",
    "\n",
    "- 매 단계마다 출력되는 State key 가 많은 경우, 일부만 스트리밍하고 싶은 경우에 유용합니다."
   ]
  },
  {
   "cell_type": "code",
   "execution_count": 6,
   "id": "efe63155",
   "metadata": {},
   "outputs": [
    {
     "name": "stdout",
     "output_type": "stream",
     "text": [
      "['messages', 'dummy_data', '__start__', '__pregel_tasks', 'branch:to:chatbot', 'branch:to:tools']\n"
     ]
    }
   ],
   "source": [
    "# channels 에 정의된 키 목록을 출력합니다.\n",
    "print(list(graph.channels.keys()))"
   ]
  },
  {
   "cell_type": "code",
   "execution_count": 7,
   "id": "87efc73e",
   "metadata": {},
   "outputs": [
    {
     "name": "stdout",
     "output_type": "stream",
     "text": [
      "\n",
      "[ chatbot ]\n",
      "\n",
      "dict_keys(['dummy_data'])\n",
      "[chatbot] 호출, dummy data\n",
      "\n",
      "[ tools ]\n",
      "\n",
      "\n",
      "[ chatbot ]\n",
      "\n",
      "dict_keys(['dummy_data'])\n",
      "[chatbot] 호출, dummy data\n"
     ]
    }
   ],
   "source": [
    "# 질문\n",
    "question = \"2024년 노벨 문학상 관련 뉴스를 알려주세요.\"\n",
    "\n",
    "# 초기 입력 State 를 정의\n",
    "input = State(dummy_data=\"테스트 문자열\", messages=[(\"user\", question)])\n",
    "\n",
    "# config 설정\n",
    "config = RunnableConfig(\n",
    "    recursion_limit=10,  # 최대 10개의 노드까지 방문. 그 이상은 RecursionError 발생\n",
    "    configurable={\"thread_id\": \"1\"},  # 스레드 ID 설정\n",
    "    tags=[\"my-rag\"],  # Tag\n",
    ")\n",
    "\n",
    "for event in graph.stream(\n",
    "    input=input,\n",
    "    config=config,\n",
    "    output_keys=[\"dummy_data\"],  # messages 를 추가해 보세요!\n",
    "):\n",
    "    for key, value in event.items():\n",
    "        # key 는 노드 이름\n",
    "        print(f\"\\n[ {key} ]\\n\")\n",
    "\n",
    "        # dummy_data 가 존재하는 경우\n",
    "        if value:\n",
    "            # value 는 노드의 출력값\n",
    "            print(value.keys())\n",
    "            # dummy_data key 가 존재하는 경우\n",
    "            if \"dummy_data\" in value:\n",
    "                print(value[\"dummy_data\"])"
   ]
  },
  {
   "cell_type": "code",
   "execution_count": 8,
   "id": "9cecf357",
   "metadata": {},
   "outputs": [
    {
     "name": "stdout",
     "output_type": "stream",
     "text": [
      "\n",
      "[ chatbot ]\n",
      "\n",
      "\n",
      "\n",
      "[ tools ]\n",
      "\n",
      "[{\"url\": \"https://news.google.com/rss/articles/CBMibEFVX3lxTE9rbmNqTWRWSlo5dmJnMWJPT0FTN3BScndCUDE1WG9zaDJ0S094OVo3UXBIVVBGZnBWdjAyd2NxTWZvcmFFSU9sTXNYZms0M1BVbTJ1Q01ENUZXUVBmOVE1d3hSY0t2cjEtbFBlTA?oc=5\", \"content\": \"해냄에듀, 노벨 문학상 수상 ‘한강을 읽는 시간’ 출간 - 베이비뉴스\"}, {\"url\": \"https://news.google.com/rss/articles/CBMiO0FVX3lxTE1uR1NkbkhkeTFrSFg0cFZXMU13U3otd01DWFAwQ2ZSVlhPUzFLUWxxcVBHT0ItbmFMRVBN?oc=5\", \"content\": \"노벨문학상 수상 한강 작가의 주요 소설을 청소년 독자 수준으로 풀어 설명한 문학 감상집 ‘한강을 읽는 시간’ - 백뉴스\"}, {\"url\": \"https://news.google.com/rss/articles/CBMiYEFVX3lxTE5Ic3NCblZtRkhxbE8tbmFnV0xNY0FxejRnamNHWTdkZFlVdGRJMmtnZkhldGtnVWR5RDlHejRGb2t0Y01xZjNtLUZJOG9Fek5Mb0k1UW9FaVp0aHM4MUxmdg?oc=5\", \"content\": \"해냄에듀, 노벨 문학상 수상 ‘한강을 읽는 시간’ 출간 - 경인뷰\"}, {\"url\": \"https://news.google.com/rss/articles/CBMiaEFVX3lxTE4xVV96b1c5cjZNWHl5VFd3aGZkcDNoSDN0Vmp6a3RNVVl2VG1FOW96RTFOUnpBYkR2OEx3VGRsS3RaQTdvQ3FkcmFRQmd5UmtMd1labGFQS2J6YmpKZ1p4S2xXTUVXQjVS0gFsQVVfeXFMTlctOUd6VTVQRXF6dWpTNnJ2S1d1dndJdGFGN2I1Yjl1bEhVNU03UmpSNUtONFZZZ045bmNZMGgxX3NlQjJydGwzUnpwamR6V0hSTWVFbEVKWVA5b3JxQ1NQWmNfVXRhR1AyZ2lG?oc=5\", \"content\": \"2024 노벨문학상의 주인공, ‘한강’의 대표 문장 6 - 덴 매거진\"}, {\"url\": \"https://news.google.com/rss/articles/CBMickFVX3lxTE4wN0V1b3M2aG5oNXc3aEFiY2k2YTZMS19SWnQzMFFIWk9HQ1Rsb19BRmEwQkEwNXlLQmo5MmNaalJOVFNKcG85czNrMjZaWV94TlI2dmtxOEpxMmJSekNGZndiVkhwOXRtd1ZyNDg5eDB1QQ?oc=5\", \"content\": \"[영상] “너무 추웠던 9년”…봄으로 가는 한강에게 노벨문학상이 왔다 - 한겨레\"}]\n",
      "\n",
      "[ chatbot ]\n",
      "\n",
      "2024년 노벨 문학상에 관한 최근 뉴스는 다음과 같습니다:\n",
      "\n",
      "1. **[해냄에듀, 노벨 문학상 수상 ‘한강을 읽는 시간’ 출간 - 베이비뉴스](https://news.google.com/rss/articles/CBMibEFVX3lxTE9rbmNqTWRWSlo5dmJnMWJPT0FTN3BScndCUDE1WG9zaDJ0S094OVo3UXBIVVBGZnBWdjAyd2NxTWZvcmFFSU9sTXNYZms0M1BVbTJ1Q01ENUZXUVBmOVE1d3hSY0t2cjEtbFBlTA?oc=5)**  \n",
      "   한강 작가의 주요 소설을 청소년 독자 수준으로 풀어 설명한 문학 감상집이 출간되었습니다.\n",
      "\n",
      "2. **[노벨문학상 수상 한강 작가의 주요 소설을 청소년 독자 수준으로 풀어 설명한 문학 감상집 ‘한강을 읽는 시간’ - 백뉴스](https://news.google.com/rss/articles/CBMiO0FVX3lxTE1uR1NkbkhkeTFrSFg0cFZXMU13U3otd01DWFAwQ2ZSVlhPUzFLUWxxcVBHT0ItbmFMRVBN?oc=5)**  \n",
      "   새로운 문학 감상집이 청소년 독자들을 위해 출판되었습니다.\n",
      "\n",
      "3. **[해냄에듀, 노벨 문학상 수상 ‘한강을 읽는 시간’ 출간 - 경인뷰](https://news.google.com/rss/articles/CBMiYEFVX3lxTE5Ic3NCblZtRkhxbE8tbmFnV0xNY0FxejRnamNHWTdkZFlVdGRJMmtnZkhldGtnVWR5RDlHejRGb2t0Y01xZjNtLUZJOG9Fek5Mb0k1UW9FaVp0aHM4MUxmdg?oc=5)**  \n",
      "   한강 작가의 소설을 다룬 새로운 책이 출간되었습니다.\n",
      "\n",
      "4. **[2024 노벨문학상의 주인공, ‘한강’의 대표 문장 6 - 덴 매거진](https://news.google.com/rss/articles/CBMiaEFVX3lxTE4xVV96b1c5cjZNWHl5VFd3aGZkcDNoSDN0Vmp6a3RNVVl2VG1FOW96RTFOUnpBYkR2OEx3VGRsS3RaQTdvQ3FkcmFRQmd5UmtMd1labGFQS2J6YmpKZ1p4S2xXTUVXQjVS0gFsQVVfeXFMTlctOUd6VTVQRXF6dWpTNnJ2S1d1dndJdGFGN2I1Yjl1bEhVNU03UmpSNUtONFZZZ045bmNZMGgxX3NlQjJydGwzUnpwamR6V0hSTWVFbEVKWVA5b3JxQ1NQWmNfVXRhR1AyZ2lG?oc=5)**  \n",
      "   한강 작가의 대표적인 문장을 소개하는 기사가 게재되었습니다.\n",
      "\n",
      "5. **[영상] “너무 추웠던 9년”…봄으로 가는 한강에게 노벨문학상이 왔다 - 한겨레](https://news.google.com/rss/articles/CBMickFVX3lxTE4wN0V1b3M2aG5oNXc3aEFiY2k2YTZMS19SWnQzMFFIWk9HQ1Rsb19BRmEwQkEwNXlLQmo5MmNaalJOVFNKcG85czNrMjZaWV94TlI2dmtxOEpxMmJSekNGZndiVkhwOXRtd1ZyNDg5eDB1QQ?oc=5)**  \n",
      "   한강 작가의 수상에 대한 영상 콘텐츠가 공개되었습니다.\n",
      "\n",
      "이러한 뉴스들은 한강 작가의 작품과 노벨 문학상 수상에 대한 관심을 반영하고 있습니다. 추가적인 정보가 필요하시면 말씀해 주세요!\n"
     ]
    }
   ],
   "source": [
    "# 질문\n",
    "question = \"2024년 노벨 문학상 관련 뉴스를 알려주세요.\"\n",
    "\n",
    "# 초기 입력 State 를 정의\n",
    "input = State(dummy_data=\"테스트 문자열\", messages=[(\"user\", question)])\n",
    "\n",
    "# config 설정\n",
    "config = RunnableConfig(\n",
    "    recursion_limit=10,  # 최대 10개의 노드까지 방문. 그 이상은 RecursionError 발생\n",
    "    configurable={\"thread_id\": \"1\"},  # 스레드 ID 설정\n",
    "    tags=[\"my-rag\"],  # Tag\n",
    ")\n",
    "\n",
    "for event in graph.stream(\n",
    "    input=input,\n",
    "    config=config,\n",
    "    output_keys=[\"messages\"],  # messages 만 출력\n",
    "):\n",
    "    for key, value in event.items():\n",
    "        # messages 가 존재하는 경우\n",
    "        if value and \"messages\" in value:\n",
    "            # key 는 노드 이름\n",
    "            print(f\"\\n[ {key} ]\\n\")\n",
    "            # messages 의 마지막 요소의 content 를 출력합니다.\n",
    "            print(value[\"messages\"][-1].content)"
   ]
  },
  {
   "cell_type": "markdown",
   "id": "6f6be39d",
   "metadata": {},
   "source": [
    "### `stream_mode` 옵션\n",
    "\n",
    "`stream_mode` 옵션은 스트리밍 출력 모드를 지정하는 데 사용됩니다.\n",
    "\n",
    "- `values`: 각 단계의 현재 상태 값 출력 \n",
    "- `updates`: 각 단계의 상태 업데이트만 출력 (기본값)"
   ]
  },
  {
   "cell_type": "markdown",
   "id": "86f700fc",
   "metadata": {},
   "source": [
    "#### `stream_mode = \"values\"`\n",
    "\n",
    "`values` 모드는 각 단계의 현재 상태 값을 출력합니다.\n",
    "\n",
    "**참고**\n",
    "\n",
    "`event.items()`\n",
    "\n",
    "- `key`: State 의 key 값\n",
    "- `value`: State 의 key 에 대한하는 value"
   ]
  },
  {
   "cell_type": "code",
   "execution_count": 9,
   "id": "89eff21c",
   "metadata": {},
   "outputs": [
    {
     "name": "stdout",
     "output_type": "stream",
     "text": [
      "\n",
      "[ messages ]\n",
      "\n",
      "메시지 개수: 1\n",
      "\n",
      "[ dummy_data ]\n",
      "\n",
      "==============================  단계  ==============================\n",
      "\n",
      "[ messages ]\n",
      "\n",
      "메시지 개수: 2\n",
      "\n",
      "[ dummy_data ]\n",
      "\n",
      "==============================  단계  ==============================\n",
      "\n",
      "[ messages ]\n",
      "\n",
      "메시지 개수: 3\n",
      "\n",
      "[ dummy_data ]\n",
      "\n",
      "==============================  단계  ==============================\n",
      "\n",
      "[ messages ]\n",
      "\n",
      "메시지 개수: 4\n",
      "\n",
      "[ dummy_data ]\n",
      "\n",
      "==============================  단계  ==============================\n"
     ]
    }
   ],
   "source": [
    "# 질문\n",
    "question = \"2024년 노벨 문학상 관련 뉴스를 알려주세요.\"\n",
    "\n",
    "# 초기 입력 State 를 정의\n",
    "input = State(dummy_data=\"테스트 문자열\", messages=[(\"user\", question)])\n",
    "\n",
    "# config 설정\n",
    "config = RunnableConfig(\n",
    "    recursion_limit=10,  # 최대 10개의 노드까지 방문. 그 이상은 RecursionError 발생\n",
    "    configurable={\"thread_id\": \"1\"},  # 스레드 ID 설정\n",
    "    tags=[\"my-rag\"],  # Tag\n",
    ")\n",
    "\n",
    "# values 모드로 스트리밍 출력\n",
    "for event in graph.stream(\n",
    "    input=input,\n",
    "    stream_mode=\"values\",  # 기본값\n",
    "):\n",
    "    for key, value in event.items():\n",
    "        # key 는 state 의 key 값\n",
    "        print(f\"\\n[ {key} ]\\n\")\n",
    "        if key == \"messages\":\n",
    "            print(f\"메시지 개수: {len(value)}\")\n",
    "            # print(value)\n",
    "    print(\"===\" * 10, \" 단계 \", \"===\" * 10)"
   ]
  },
  {
   "cell_type": "markdown",
   "id": "ef295683",
   "metadata": {},
   "source": [
    "#### `stream_mode = \"updates\"`\n",
    "\n",
    "`updates` 모드는 각 단계에 대한 업데이트된 State 만 내보냅니다. \n",
    "\n",
    "- 출력은 노드 이름을 key 로, 업데이트된 값을 values 으로 하는 `dictionary` 입니다.\n",
    "\n",
    "**참고**\n",
    "\n",
    "`event.items()`\n",
    "\n",
    "- `key`: 노드(Node) 의 이름\n",
    "- `value`: 해당 노드(Node) 단계에서의 출력 값(dictionary). 즉, 여러 개의 key-value 쌍을 가진 dictionary 입니다."
   ]
  },
  {
   "cell_type": "code",
   "execution_count": 10,
   "id": "2124b916",
   "metadata": {},
   "outputs": [
    {
     "name": "stdout",
     "output_type": "stream",
     "text": [
      "\n",
      "[ chatbot ]\n",
      "\n",
      "dict_keys(['messages', 'dummy_data'])\n",
      "메시지 개수: 1\n",
      "==============================  단계  ==============================\n",
      "\n",
      "[ tools ]\n",
      "\n",
      "dict_keys(['messages'])\n",
      "메시지 개수: 1\n",
      "==============================  단계  ==============================\n",
      "\n",
      "[ chatbot ]\n",
      "\n",
      "dict_keys(['messages', 'dummy_data'])\n",
      "메시지 개수: 1\n",
      "==============================  단계  ==============================\n"
     ]
    }
   ],
   "source": [
    "# 질문\n",
    "question = \"2024년 노벨 문학상 관련 뉴스를 알려주세요.\"\n",
    "\n",
    "# 초기 입력 State 를 정의\n",
    "input = State(dummy_data=\"테스트 문자열\", messages=[(\"user\", question)])\n",
    "\n",
    "# config 설정\n",
    "config = RunnableConfig(\n",
    "    recursion_limit=10,  # 최대 10개의 노드까지 방문. 그 이상은 RecursionError 발생\n",
    "    configurable={\"thread_id\": \"1\"},  # 스레드 ID 설정\n",
    "    tags=[\"my-rag\"],  # Tag\n",
    ")\n",
    "\n",
    "# updates 모드로 스트리밍 출력\n",
    "for event in graph.stream(\n",
    "    input=input,\n",
    "    stream_mode=\"updates\",  # 기본값\n",
    "):\n",
    "    for key, value in event.items():\n",
    "        # key 는 노드 이름\n",
    "        print(f\"\\n[ {key} ]\\n\")\n",
    "\n",
    "        # value 는 노드의 출력값\n",
    "        print(value.keys())\n",
    "\n",
    "        # value 에는 state 가 dict 형태로 저장(values 의 key 값)\n",
    "        if \"messages\" in value:\n",
    "            print(f\"메시지 개수: {len(value['messages'])}\")\n",
    "            # print(value[\"messages\"])\n",
    "    print(\"===\" * 10, \" 단계 \", \"===\" * 10)"
   ]
  },
  {
   "cell_type": "markdown",
   "id": "d98b21a8",
   "metadata": {},
   "source": [
    "### `interrupt_before` 와 `interrupt_after` 옵션\n",
    "\n",
    "`interrupt_before` 와 `interrupt_after` 옵션은 스트리밍 중단 시점을 지정하는 데 사용됩니다.\n",
    "\n",
    "- `interrupt_before`: 지정된 노드 이전에 스트리밍 중단\n",
    "- `interrupt_after`: 지정된 노드 이후에 스트리밍 중단\n"
   ]
  },
  {
   "cell_type": "code",
   "execution_count": 11,
   "id": "6f583a38",
   "metadata": {},
   "outputs": [
    {
     "name": "stdout",
     "output_type": "stream",
     "text": [
      "\n",
      "[chatbot]\n",
      "\n",
      "dict_keys(['messages', 'dummy_data'])\n",
      "[AIMessage(content='', additional_kwargs={'tool_calls': [{'id': 'call_RXg0uwgALB1io7YJo67ciw7T', 'function': {'arguments': '{\"query\":\"2024년 노벨 문학상\"}', 'name': 'search_keyword'}, 'type': 'function'}], 'refusal': None}, response_metadata={'token_usage': {'completion_tokens': 21, 'prompt_tokens': 57, 'total_tokens': 78, 'completion_tokens_details': {'accepted_prediction_tokens': 0, 'audio_tokens': 0, 'reasoning_tokens': 0, 'rejected_prediction_tokens': 0}, 'prompt_tokens_details': {'audio_tokens': 0, 'cached_tokens': 0}}, 'model_name': 'gpt-4o-mini-2024-07-18', 'system_fingerprint': None, 'finish_reason': 'tool_calls', 'logprobs': None}, id='run--3b70b116-cbf6-4c8e-b429-58f11b51e478-0', tool_calls=[{'name': 'search_keyword', 'args': {'query': '2024년 노벨 문학상'}, 'id': 'call_RXg0uwgALB1io7YJo67ciw7T', 'type': 'tool_call'}], usage_metadata={'input_tokens': 57, 'output_tokens': 21, 'total_tokens': 78, 'input_token_details': {'audio': 0, 'cache_read': 0}, 'output_token_details': {'audio': 0, 'reasoning': 0}})]\n",
      "메시지 개수: 1\n",
      "==============================  단계  ==============================\n",
      "\n",
      "[__interrupt__]\n",
      "\n",
      "==============================  단계  ==============================\n"
     ]
    }
   ],
   "source": [
    "# 질문\n",
    "question = \"2024년 노벨 문학상 관련 뉴스를 알려주세요.\"\n",
    "\n",
    "# 초기 입력 State 를 정의\n",
    "input = State(dummy_data=\"테스트 문자열\", messages=[(\"user\", question)])\n",
    "\n",
    "# config 설정\n",
    "config = RunnableConfig(\n",
    "    recursion_limit=10,  # 최대 10개의 노드까지 방문. 그 이상은 RecursionError 발생\n",
    "    configurable={\"thread_id\": \"1\"},  # 스레드 ID 설정\n",
    "    tags=[\"my-rag\"],  # Tag\n",
    ")\n",
    "\n",
    "for event in graph.stream(\n",
    "    input=input,\n",
    "    config=config,\n",
    "    stream_mode=\"updates\",  # 기본값\n",
    "    interrupt_before=[\"tools\"],  # tools 노드 이전에 스트리밍 중단\n",
    "):\n",
    "    for key, value in event.items():\n",
    "        # key 는 노드 이름\n",
    "        print(f\"\\n[{key}]\\n\")\n",
    "\n",
    "        # value 는 노드의 출력값\n",
    "        if isinstance(value, dict):\n",
    "            print(value.keys())\n",
    "            if \"messages\" in value:\n",
    "                print(value[\"messages\"])\n",
    "\n",
    "        # value 에는 state 가 dict 형태로 저장(values 의 key 값)\n",
    "        if \"messages\" in value:\n",
    "            print(f\"메시지 개수: {len(value['messages'])}\")\n",
    "    print(\"===\" * 10, \" 단계 \", \"===\" * 10)"
   ]
  },
  {
   "cell_type": "code",
   "execution_count": 12,
   "id": "33dc67a2",
   "metadata": {},
   "outputs": [
    {
     "name": "stdout",
     "output_type": "stream",
     "text": [
      "\n",
      "[__interrupt__]\n",
      "\n",
      "dict_keys(['messages', 'dummy_data'])\n",
      "[AIMessage(content='', additional_kwargs={'tool_calls': [{'id': 'call_pL5ROk3Z4ESFHMfw21JV0heU', 'function': {'arguments': '{\"query\":\"2024 노벨 문학상\"}', 'name': 'search_keyword'}, 'type': 'function'}], 'refusal': None}, response_metadata={'token_usage': {'completion_tokens': 20, 'prompt_tokens': 57, 'total_tokens': 77, 'completion_tokens_details': {'accepted_prediction_tokens': 0, 'audio_tokens': 0, 'reasoning_tokens': 0, 'rejected_prediction_tokens': 0}, 'prompt_tokens_details': {'audio_tokens': 0, 'cached_tokens': 0}}, 'model_name': 'gpt-4o-mini-2024-07-18', 'system_fingerprint': None, 'finish_reason': 'tool_calls', 'logprobs': None}, id='run--82c4aaa2-f339-420f-996a-62719633f2af-0', tool_calls=[{'name': 'search_keyword', 'args': {'query': '2024 노벨 문학상'}, 'id': 'call_pL5ROk3Z4ESFHMfw21JV0heU', 'type': 'tool_call'}], usage_metadata={'input_tokens': 57, 'output_tokens': 20, 'total_tokens': 77, 'input_token_details': {'audio': 0, 'cache_read': 0}, 'output_token_details': {'audio': 0, 'reasoning': 0}})]\n",
      "메시지 개수: 1\n",
      "\n",
      "[__interrupt__]\n",
      "\n",
      "dict_keys(['messages'])\n",
      "[ToolMessage(content='[{\"url\": \"https://news.google.com/rss/articles/CBMiO0FVX3lxTE1uR1NkbkhkeTFrSFg0cFZXMU13U3otd01DWFAwQ2ZSVlhPUzFLUWxxcVBHT0ItbmFMRVBN?oc=5\", \"content\": \"노벨문학상 수상 한강 작가의 주요 소설을 청소년 독자 수준으로 풀어 설명한 문학 감상집 ‘한강을 읽는 시간’ - 백뉴스\"}, {\"url\": \"https://news.google.com/rss/articles/CBMiW0FVX3lxTE5CbDJEWU1nZUxVTkZmS3lHTTRycEVPZ2lpRUFPYVlwVVYwbGNKaTdnbWpkS25wY2tZU1pEa0JkZFltQnNRX05teHp5WWd4VXpWbFl3TTNNQVpqZzjSAWBBVV95cUxPTU01d0ZUbWtnX1p6S2FZOFJiZGQwcGYzZWRvZFFIOTlxOUR2SGdaejFqdEI3enVCLXRDc2o5YTVnUUdic1lrNVg5SS1adlBhUUx0MHRZaXVlMk43cGF5WXI?oc=5\", \"content\": \"한강, 한국 첫 노벨문학상…\\\\\"어두운 밤에도 우릴 잇는 건 언어\\\\\"(종합2보) - 연합뉴스\"}, {\"url\": \"https://news.google.com/rss/articles/CBMickFVX3lxTE4wN0V1b3M2aG5oNXc3aEFiY2k2YTZMS19SWnQzMFFIWk9HQ1Rsb19BRmEwQkEwNXlLQmo5MmNaalJOVFNKcG85czNrMjZaWV94TlI2dmtxOEpxMmJSekNGZndiVkhwOXRtd1ZyNDg5eDB1QQ?oc=5\", \"content\": \"[영상] “너무 추웠던 9년”…봄으로 가는 한강에게 노벨문학상이 왔다 - 한겨레\"}, {\"url\": \"https://news.google.com/rss/articles/CBMibEFVX3lxTE9saEhrVVp3RWFCR1B4SWlDVGhtQ2ItcWRXTFdkd05TOXVUMnNqbjBHRVZHV3NKTng0U3A4Zl8yMVFNenZpZ0N5UUtSX2p2RDBvY2k3TjJpQTZDemo1cUhrTjBzUlJYMlVMbWZZQQ?oc=5\", \"content\": \"한강, “언어는 우리를 잇는 실”...‘노벨문학상 수상 강연’ 전문 - 재외동포신문\"}, {\"url\": \"https://news.google.com/rss/articles/CBMiW0FVX3lxTE1MX2ZTT1pRLUsyVl9tSVJKSEo1Z01IYzhvWlJwWk0xQ1ZIaHAwTEVHWVhFYnU4UzQ2cWJDS3otQ1p6cVZkTXdRR2RXVmFEc0R5NkFfXzhGVHJFZ0k?oc=5\", \"content\": \"오늘, 2024 노벨상 시상식… 한강, 한국 최초 ‘문학상’ 수상 - KBS 뉴스\"}]', name='search_keyword', id='47d3b6a7-3271-4fa5-b27d-191075b83226', tool_call_id='call_pL5ROk3Z4ESFHMfw21JV0heU')]\n",
      "메시지 개수: 1\n",
      "\n",
      "[__interrupt__]\n",
      "\n"
     ]
    }
   ],
   "source": [
    "# 질문\n",
    "question = \"2024년 노벨 문학상 관련 뉴스를 알려주세요.\"\n",
    "\n",
    "# 초기 입력 State 를 정의\n",
    "input = State(dummy_data=\"테스트 문자열\", messages=[(\"user\", question)])\n",
    "\n",
    "# config 설정\n",
    "config = RunnableConfig(\n",
    "    recursion_limit=10,  # 최대 10개의 노드까지 방문. 그 이상은 RecursionError 발생\n",
    "    configurable={\"thread_id\": \"1\"},  # 스레드 ID 설정\n",
    "    tags=[\"my-rag\"],  # Tag\n",
    ")\n",
    "\n",
    "for event in graph.stream(\n",
    "    input=input,\n",
    "    config=config,\n",
    "    stream_mode=\"updates\",\n",
    "    interrupt_after=[\"tools\"],  # tools 실행 후 interrupt\n",
    "):\n",
    "    for value in event.values():\n",
    "        # key 는 노드 이름\n",
    "        print(f\"\\n[{key}]\\n\")\n",
    "\n",
    "        if isinstance(value, dict):\n",
    "            # value 는 노드의 출력값\n",
    "            print(value.keys())\n",
    "            if \"messages\" in value:\n",
    "                print(value[\"messages\"])\n",
    "\n",
    "        # value 에는 state 가 dict 형태로 저장(values 의 key 값)\n",
    "        if \"messages\" in value:\n",
    "            print(f\"메시지 개수: {len(value['messages'])}\")"
   ]
  }
 ],
 "metadata": {
  "kernelspec": {
   "display_name": "langchain-kr-szXyjQUn-py3.11",
   "language": "python",
   "name": "python3"
  },
  "language_info": {
   "codemirror_mode": {
    "name": "ipython",
    "version": 3
   },
   "file_extension": ".py",
   "mimetype": "text/x-python",
   "name": "python",
   "nbconvert_exporter": "python",
   "pygments_lexer": "ipython3",
   "version": "3.11.9"
  }
 },
 "nbformat": 4,
 "nbformat_minor": 5
}
