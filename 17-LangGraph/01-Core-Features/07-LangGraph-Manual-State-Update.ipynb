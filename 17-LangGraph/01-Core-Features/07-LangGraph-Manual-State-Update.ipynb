{
 "cells": [
  {
   "cell_type": "markdown",
   "id": "eec680f5",
   "metadata": {},
   "source": [
    "# 중간 단계의 상태(State) 수동 업데이트\n",
    "\n",
    "LangGraph는 **중간 단계의 상태를 수동으로 업데이트** 할 수 있는 방안을 제공하고 있습니다.\n",
    "\n",
    "상태를 업데이트하면 **에이전트의 행동을 수정하여 경로를 제어** 할 수 있으며, 심지어 과거를 수정할 수도 있습니다. \n",
    "\n",
    "이 기능은 **에이전트의 실수를 수정** 하거나, **대체 경로를 탐색** 하거나, 특정 목표에 따라 **에이전트의 동작을 변경** 할 때 특히 유용합니다.\n",
    "\n",
    "- 참고: 본 튜토리얼에서 사용하는 에이전트는 이전 튜토리얼과 동일한 그래프를 정의합니다."
   ]
  },
  {
   "cell_type": "code",
   "execution_count": 36,
   "id": "de9d9d8d",
   "metadata": {},
   "outputs": [
    {
     "data": {
      "text/plain": [
       "True"
      ]
     },
     "execution_count": 36,
     "metadata": {},
     "output_type": "execute_result"
    }
   ],
   "source": [
    "# API 키를 환경변수로 관리하기 위한 설정 파일\n",
    "from dotenv import load_dotenv\n",
    "\n",
    "# API 키 정보 로드\n",
    "load_dotenv()"
   ]
  },
  {
   "cell_type": "code",
   "execution_count": 1,
   "id": "6b5c6228",
   "metadata": {},
   "outputs": [
    {
     "name": "stdout",
     "output_type": "stream",
     "text": [
      "LangSmith 추적을 시작합니다.\n",
      "[프로젝트명]\n",
      "CH17-LangGraph-Modules\n"
     ]
    }
   ],
   "source": [
    "# LangSmith 추적을 설정합니다. https://smith.langchain.com\n",
    "# !pip install -qU langchain-teddynote\n",
    "from langchain_teddynote import logging\n",
    "\n",
    "# 프로젝트 이름을 입력합니다.\n",
    "logging.langsmith(\"CH17-LangGraph-Modules\")"
   ]
  },
  {
   "cell_type": "code",
   "execution_count": 2,
   "id": "e5d857b9",
   "metadata": {},
   "outputs": [
    {
     "name": "stderr",
     "output_type": "stream",
     "text": [
      "/Users/minjeong/Library/Caches/pypoetry/virtualenvs/langchain-kr-szXyjQUn-py3.11/lib/python3.11/site-packages/pydantic/_internal/_config.py:373: UserWarning: Valid config keys have changed in V2:\n",
      "* 'allow_population_by_field_name' has been renamed to 'validate_by_name'\n",
      "* 'smart_union' has been removed\n",
      "  warnings.warn(message, UserWarning)\n"
     ]
    },
    {
     "data": {
      "image/png": "[encoded data removed]",
      "text/plain": [
       "<IPython.core.display.Image object>"
      ]
     },
     "metadata": {},
     "output_type": "display_data"
    }
   ],
   "source": [
    "from typing import Annotated\n",
    "from typing_extensions import TypedDict\n",
    "\n",
    "from langchain_teddynote.tools.tavily import TavilySearch\n",
    "from langchain_openai import ChatOpenAI\n",
    "from langgraph.checkpoint.memory import MemorySaver\n",
    "from langgraph.graph import StateGraph, START, END\n",
    "from langgraph.graph.message import add_messages\n",
    "from langgraph.prebuilt import ToolNode, tools_condition\n",
    "from langchain_teddynote.graphs import visualize_graph\n",
    "\n",
    "\n",
    "########## 1. 상태 정의 ##########\n",
    "# 상태 정의\n",
    "class State(TypedDict):\n",
    "    # 메시지 목록 주석 추가\n",
    "    messages: Annotated[list, add_messages]\n",
    "\n",
    "\n",
    "########## 2. 도구 정의 및 바인딩 ##########\n",
    "# 도구 초기화\n",
    "tool = TavilySearch(max_results=3)\n",
    "\n",
    "# 도구 목록 정의\n",
    "tools = [tool]\n",
    "\n",
    "# LLM 초기화\n",
    "llm = ChatOpenAI(model=\"gpt-4o-mini\")\n",
    "\n",
    "# 도구와 LLM 결합\n",
    "llm_with_tools = llm.bind_tools(tools)\n",
    "\n",
    "\n",
    "########## 3. 노드 추가 ##########\n",
    "# 챗봇 함수 정의\n",
    "def chatbot(state: State):\n",
    "    # 메시지 호출 및 반환\n",
    "    return {\"messages\": [llm_with_tools.invoke(state[\"messages\"])]}\n",
    "\n",
    "\n",
    "# 상태 그래프 생성\n",
    "graph_builder = StateGraph(State)\n",
    "\n",
    "# 챗봇 노드 추가\n",
    "graph_builder.add_node(\"chatbot\", chatbot)\n",
    "\n",
    "\n",
    "# 도구 노드 생성 및 추가\n",
    "tool_node = ToolNode(tools=tools)\n",
    "\n",
    "# 도구 노드 추가\n",
    "graph_builder.add_node(\"tools\", tool_node)\n",
    "\n",
    "# 조건부 엣지\n",
    "graph_builder.add_conditional_edges(\n",
    "    \"chatbot\",\n",
    "    tools_condition,\n",
    ")\n",
    "\n",
    "########## 4. 엣지 추가 ##########\n",
    "\n",
    "# tools > chatbot\n",
    "graph_builder.add_edge(\"tools\", \"chatbot\")\n",
    "\n",
    "# START > chatbot\n",
    "graph_builder.add_edge(START, \"chatbot\")\n",
    "\n",
    "# chatbot > END\n",
    "graph_builder.add_edge(\"chatbot\", END)\n",
    "\n",
    "########## 5. 그래프 컴파일 ##########\n",
    "# 메모리 저장소 초기화\n",
    "memory = MemorySaver()\n",
    "\n",
    "# 그래프 빌더 컴파일\n",
    "graph = graph_builder.compile(checkpointer=memory)\n",
    "\n",
    "########## 6. 그래프 시각화 ##########\n",
    "# 그래프 시각화\n",
    "visualize_graph(graph)"
   ]
  },
  {
   "cell_type": "code",
   "execution_count": 3,
   "id": "d0b61953",
   "metadata": {},
   "outputs": [],
   "source": [
    "from langchain_core.runnables import RunnableConfig\n",
    "\n",
    "# 질문\n",
    "question = \"LangGraph 가 무엇인지 조사하여 알려주세요!\"\n",
    "\n",
    "# 초기 입력 상태를 정의\n",
    "input = State(messages=[(\"user\", question)])\n",
    "\n",
    "# config 설정\n",
    "config = RunnableConfig(\n",
    "    configurable={\"thread_id\": \"1\"},  # 스레드 ID 설정\n",
    ")"
   ]
  },
  {
   "cell_type": "markdown",
   "id": "6ab2ab8a",
   "metadata": {},
   "source": [
    "우선 채널목록을 출력하여 **interrupt_before** 와 **interrupt_after** 를 적용할 수 있는 목록을 출력합니다."
   ]
  },
  {
   "cell_type": "code",
   "execution_count": 4,
   "id": "005ec550",
   "metadata": {},
   "outputs": [
    {
     "data": {
      "text/plain": [
       "['messages',\n",
       " '__start__',\n",
       " '__pregel_tasks',\n",
       " 'branch:to:chatbot',\n",
       " 'branch:to:tools']"
      ]
     },
     "execution_count": 4,
     "metadata": {},
     "output_type": "execute_result"
    }
   ],
   "source": [
    "# 그래프 채널 목록 출력\n",
    "list(graph.channels)"
   ]
  },
  {
   "cell_type": "code",
   "execution_count": 5,
   "id": "cf1b5314",
   "metadata": {},
   "outputs": [
    {
     "name": "stdout",
     "output_type": "stream",
     "text": [
      "================================\u001b[1m Human Message \u001b[0m=================================\n",
      "\n",
      "LangGraph 가 무엇인지 조사하여 알려주세요!\n",
      "==================================\u001b[1m Ai Message \u001b[0m==================================\n",
      "Tool Calls:\n",
      "  tavily_web_search (call_BVAuYEXAHvwFuUnjQjU9NQrr)\n",
      " Call ID: call_BVAuYEXAHvwFuUnjQjU9NQrr\n",
      "  Args:\n",
      "    query: LangGraph\n"
     ]
    }
   ],
   "source": [
    "# 그래프 스트림 호출\n",
    "events = graph.stream(\n",
    "    input=input, config=config, interrupt_before=[\"tools\"], stream_mode=\"values\"\n",
    ")\n",
    "\n",
    "# 이벤트 반복 처리\n",
    "for event in events:\n",
    "    # 메시지가 이벤트에 포함된 경우\n",
    "    if \"messages\" in event:\n",
    "        # 마지막 메시지의 예쁜 출력\n",
    "        event[\"messages\"][-1].pretty_print()"
   ]
  },
  {
   "cell_type": "markdown",
   "id": "8ee8250e",
   "metadata": {},
   "source": [
    "현재 단계는 `ToolNode` 에 의해 중단되었습니다.\n",
    "\n",
    "가장 최근 메시지를 확인하면 `ToolNode` 가 검색을 수행하기 전 `query` 를 포함하고 있음을 알 수 있습니다.\n",
    "\n",
    "여기서는 `query` 가 단순하게 `LangGraph` 라는 단어만을 포함하고 있습니다. (기존의 질문은 `\"LangGraph 가 무엇인지 조사하여 알려주세요!\"` 였습니다.)\n",
    "\n",
    "당연하게도, 웹 검색 결과가 우리가 원하는 결과와 다를 수 있습니다."
   ]
  },
  {
   "cell_type": "code",
   "execution_count": 6,
   "id": "731587a0",
   "metadata": {},
   "outputs": [
    {
     "name": "stdout",
     "output_type": "stream",
     "text": [
      "==================================\u001b[1m Ai Message \u001b[0m==================================\n",
      "Tool Calls:\n",
      "  tavily_web_search (call_BVAuYEXAHvwFuUnjQjU9NQrr)\n",
      " Call ID: call_BVAuYEXAHvwFuUnjQjU9NQrr\n",
      "  Args:\n",
      "    query: LangGraph\n"
     ]
    }
   ],
   "source": [
    "# 그래프 상태 스냅샷 생성\n",
    "snapshot = graph.get_state(config)\n",
    "\n",
    "# 가장 최근 메시지 추출\n",
    "last_message = snapshot.values[\"messages\"][-1]\n",
    "\n",
    "# 메시지 출력\n",
    "last_message.pretty_print()"
   ]
  },
  {
   "cell_type": "markdown",
   "id": "3dad6839",
   "metadata": {},
   "source": [
    "## 사람의 개입 (Human-in-the-loop)\n",
    "\n",
    "- `TavilySearch` 도구에서 **검색 결과** 를 수정\n",
    "\n",
    "우리는 종종 `ToolMessage` 의 결과가 마음에 들지 않는 경우가 있습니다.\n",
    "\n",
    "특히, 웹 검색하여 얻은 답변은 얼마든지 잘못된 정보가 포함될 수 있고, 이는 곧 챗봇의 답변에도 영향을 미칠 수 있습니다.\n",
    "\n",
    "만약, 사람이 중간에 개입하여 웹 검색 도구인 `Tavily Tool` 의 검색 결과인 `ToolMessage` 를 수정하여 LLM 에게 전달하고 싶다면 어떻게 해야 할까요?"
   ]
  },
  {
   "cell_type": "markdown",
   "id": "9e301863",
   "metadata": {},
   "source": [
    "![](./image/langgraph-01.png)"
   ]
  },
  {
   "cell_type": "markdown",
   "id": "f3a0d4cc",
   "metadata": {},
   "source": [
    "아래는 원래의 웹 검색 결과와는 조금 다른 수정한 가상의 웹 검색 결과를 만들어 보았습니다"
   ]
  },
  {
   "cell_type": "code",
   "execution_count": 7,
   "id": "0d8efa7d",
   "metadata": {},
   "outputs": [
    {
     "name": "stdout",
     "output_type": "stream",
     "text": [
      "[수정된 웹 검색 결과] \n",
      "LangGraph는 상태 기반의 다중 액터 애플리케이션을 LLM을 활용해 구축할 수 있도록 지원합니다.\n",
      "LangGraph는 사이클 흐름, 제어 가능성, 지속성, 클라우드 배포 기능을 제공하는 오픈 소스 라이브러리입니다.\n",
      "\n",
      "자세한 튜토리얼은 [LangGraph 튜토리얼](https://langchain-ai.github.io/langgraph/tutorials/) 과\n",
      "테디노트의 [랭체인 한국어 튜토리얼](https://wikidocs.net/233785) 을 참고하세요.\n"
     ]
    }
   ],
   "source": [
    "modified_search_result = \"\"\"[수정된 웹 검색 결과] \n",
    "LangGraph는 상태 기반의 다중 액터 애플리케이션을 LLM을 활용해 구축할 수 있도록 지원합니다.\n",
    "LangGraph는 사이클 흐름, 제어 가능성, 지속성, 클라우드 배포 기능을 제공하는 오픈 소스 라이브러리입니다.\n",
    "\n",
    "자세한 튜토리얼은 [LangGraph 튜토리얼](https://langchain-ai.github.io/langgraph/tutorials/) 과\n",
    "테디노트의 [랭체인 한국어 튜토리얼](https://wikidocs.net/233785) 을 참고하세요.\"\"\"\n",
    "\n",
    "print(modified_search_result)"
   ]
  },
  {
   "cell_type": "markdown",
   "id": "a18cff2a",
   "metadata": {},
   "source": [
    "다음으로는 수정한 검색 결과를 `ToolMessage` 에 주입합니다.\n",
    "\n",
    "**중요**\n",
    "\n",
    "- 여기서 메시지를 수정하려면 수정하고자 하는 Message 와 일치하는 `tool_call_id` 를 지정해야 합니다."
   ]
  },
  {
   "cell_type": "code",
   "execution_count": 8,
   "id": "52368d6e",
   "metadata": {},
   "outputs": [
    {
     "name": "stdout",
     "output_type": "stream",
     "text": [
      "call_BVAuYEXAHvwFuUnjQjU9NQrr\n"
     ]
    }
   ],
   "source": [
    "# 수정하고자 하는 `ToolMessage` 의 `tool_call_id` 추출\n",
    "tool_call_id = last_message.tool_calls[0][\"id\"]\n",
    "print(tool_call_id)"
   ]
  },
  {
   "cell_type": "code",
   "execution_count": 9,
   "id": "1acabaac",
   "metadata": {},
   "outputs": [
    {
     "name": "stdout",
     "output_type": "stream",
     "text": [
      "=================================\u001b[1m Tool Message \u001b[0m=================================\n",
      "\n",
      "[수정된 웹 검색 결과] \n",
      "LangGraph는 상태 기반의 다중 액터 애플리케이션을 LLM을 활용해 구축할 수 있도록 지원합니다.\n",
      "LangGraph는 사이클 흐름, 제어 가능성, 지속성, 클라우드 배포 기능을 제공하는 오픈 소스 라이브러리입니다.\n",
      "\n",
      "자세한 튜토리얼은 [LangGraph 튜토리얼](https://langchain-ai.github.io/langgraph/tutorials/) 과\n",
      "테디노트의 [랭체인 한국어 튜토리얼](https://wikidocs.net/233785) 을 참고하세요.\n"
     ]
    }
   ],
   "source": [
    "from langchain_core.messages import AIMessage, ToolMessage\n",
    "\n",
    "new_messages = [\n",
    "    # LLM API의 도구 호출과 일치하는 ToolMessage 필요\n",
    "    ToolMessage(\n",
    "        content=modified_search_result,\n",
    "        tool_call_id=tool_call_id,\n",
    "    ),\n",
    "    # LLM의 응답에 직접적으로 내용 추가\n",
    "    # AIMessage(content=modified_search_result),\n",
    "]\n",
    "\n",
    "new_messages[-1].pretty_print()"
   ]
  },
  {
   "cell_type": "markdown",
   "id": "b970602d",
   "metadata": {},
   "source": [
    "### StateGraph의 `update_state` 메서드\n",
    "\n",
    "`update_state` 메서드는 주어진 값으로 그래프의 상태를 업데이트합니다. 이 메서드는 마치 `as_node`에서 값이 온 것처럼 동작합니다.\n",
    "\n",
    "**매개변수**\n",
    "\n",
    "- `config` (RunnableConfig): 실행 구성\n",
    "- `values` (Optional[Union[dict[str, Any], Any]]): 업데이트할 값들\n",
    "- `as_node` (Optional[str]): 값의 출처로 간주할 노드 이름. 기본값은 None\n",
    "\n",
    "**반환값**\n",
    "\n",
    "- RunnableConfig\n",
    "\n",
    "**주요 기능**\n",
    "\n",
    "1. 체크포인터를 통해 이전 상태를 로드하고 새로운 상태를 저장합니다.\n",
    "2. 서브그래프에 대한 상태 업데이트를 처리합니다.\n",
    "3. `as_node`가 지정되지 않은 경우, 마지막으로 상태를 업데이트한 노드를 찾습니다.\n",
    "4. 지정된 노드의 writer들을 실행하여 상태를 업데이트합니다.\n",
    "5. 업데이트된 상태를 체크포인트에 저장합니다.\n",
    "\n",
    "**주요 로직**\n",
    "\n",
    "1. 체크포인터를 확인하고, 없으면 ValueError를 발생시킵니다.\n",
    "2. 서브그래프에 대한 업데이트인 경우, 해당 서브그래프의 `update_state` 메서드를 호출합니다.\n",
    "3. 이전 체크포인트를 로드하고, 필요한 경우 `as_node`를 결정합니다.\n",
    "4. 지정된 노드의 writer들을 사용하여 상태를 업데이트합니다.\n",
    "5. 업데이트된 상태를 새로운 체크포인트로 저장합니다.\n",
    "\n",
    "**참고**\n",
    "\n",
    "- 이 메서드는 그래프의 상태를 수동으로 업데이트할 때 사용됩니다.\n",
    "- 체크포인터를 사용하여 상태의 버전 관리와 지속성을 보장합니다.\n",
    "- `as_node`를 지정하지 않으면 자동으로 결정되지만, 모호한 경우 오류가 발생할 수 있습니다.\n",
    "- 상태 업데이트 중 SharedValues에 쓰기 작업은 허용되지 않습니다."
   ]
  },
  {
   "cell_type": "code",
   "execution_count": 10,
   "id": "15691b8c",
   "metadata": {},
   "outputs": [
    {
     "name": "stdout",
     "output_type": "stream",
     "text": [
      "(최근 1개의 메시지 출력)\n",
      "\n",
      "content='[수정된 웹 검색 결과] \\nLangGraph는 상태 기반의 다중 액터 애플리케이션을 LLM을 활용해 구축할 수 있도록 지원합니다.\\nLangGraph는 사이클 흐름, 제어 가능성, 지속성, 클라우드 배포 기능을 제공하는 오픈 소스 라이브러리입니다.\\n\\n자세한 튜토리얼은 [LangGraph 튜토리얼](https://langchain-ai.github.io/langgraph/tutorials/) 과\\n테디노트의 [랭체인 한국어 튜토리얼](https://wikidocs.net/233785) 을 참고하세요.' id='807ace94-c6da-4982-80dd-f72035660726' tool_call_id='call_BVAuYEXAHvwFuUnjQjU9NQrr'\n"
     ]
    }
   ],
   "source": [
    "graph.update_state(\n",
    "    # 업데이트할 상태 지정\n",
    "    config,\n",
    "    # 제공할 업데이트된 값. `State`의 메시지는 \"추가 전용\"으로 기존 상태에 추가됨\n",
    "    {\"messages\": new_messages},\n",
    "    as_node=\"tools\",\n",
    ")\n",
    "\n",
    "print(\"(최근 1개의 메시지 출력)\\n\")\n",
    "print(graph.get_state(config).values[\"messages\"][-1])"
   ]
  },
  {
   "cell_type": "markdown",
   "id": "d0b868cb",
   "metadata": {},
   "source": [
    "이제 그래프가 완성되었습니다. \n",
    "\n",
    "최종 응답 메시지를 제공했기 때문입니다! \n",
    "\n",
    "상태 업데이트는 그래프 단계를 시뮬레이션하므로, 해당하는 `traces`도 생성합니다.\n",
    "\n",
    "`messages`를 사전 정의된 `add_messages` 함수로 `Annotated` 처리했습니다. (이는 그래프에 기존 목록을 직접 덮어쓰지 않고 항상 값을 추가합니다.)\n",
    "\n",
    "동일한 논리가 여기에도 적용되어, `update_state`에 전달된 메시지가 동일한 방식으로 메시지가 추가하게 됩니다.\n",
    "\n",
    "`update_state` 함수는 마치 그래프의 노드 중 하나인 것처럼 작동합니다! 기본적으로 업데이트 작업은 마지막으로 실행된 노드를 사용하지만, 아래에서 수동으로 지정할 수 있습니다. 업데이트를 추가하고 그래프에 \"chatbot\"에서 온 것처럼 처리하도록 지시해 봅시다.\n"
   ]
  },
  {
   "cell_type": "code",
   "execution_count": 11,
   "id": "3a4c1fbb",
   "metadata": {},
   "outputs": [
    {
     "data": {
      "text/plain": [
       "('chatbot',)"
      ]
     },
     "execution_count": 11,
     "metadata": {},
     "output_type": "execute_result"
    }
   ],
   "source": [
    "snapshot = graph.get_state(config)\n",
    "snapshot.next"
   ]
  },
  {
   "cell_type": "code",
   "execution_count": 12,
   "id": "36223336",
   "metadata": {},
   "outputs": [
    {
     "name": "stdout",
     "output_type": "stream",
     "text": [
      "=================================\u001b[1m Tool Message \u001b[0m=================================\n",
      "\n",
      "[수정된 웹 검색 결과] \n",
      "LangGraph는 상태 기반의 다중 액터 애플리케이션을 LLM을 활용해 구축할 수 있도록 지원합니다.\n",
      "LangGraph는 사이클 흐름, 제어 가능성, 지속성, 클라우드 배포 기능을 제공하는 오픈 소스 라이브러리입니다.\n",
      "\n",
      "자세한 튜토리얼은 [LangGraph 튜토리얼](https://langchain-ai.github.io/langgraph/tutorials/) 과\n",
      "테디노트의 [랭체인 한국어 튜토리얼](https://wikidocs.net/233785) 을 참고하세요.\n",
      "==================================\u001b[1m Ai Message \u001b[0m==================================\n",
      "\n",
      "LangGraph는 상태 기반의 다중 액터 애플리케이션을 구축할 수 있도록 돕는 오픈 소스 라이브러리입니다. 이 라이브러리는 대화형 응용 프로그램을 개발할 때 LLM(대형 언어 모델)을 활용할 수 있도록 설계되었습니다. LangGraph는 다음과 같은 기능을 제공합니다:\n",
      "\n",
      "- 사이클 흐름\n",
      "- 제어 가능성\n",
      "- 지속성\n",
      "- 클라우드 배포 기능\n",
      "\n",
      "더욱 자세한 내용과 튜토리얼은 [LangGraph 튜토리얼](https://langchain-ai.github.io/langgraph/tutorials/)과 [랭체인 한국어 튜토리얼](https://wikidocs.net/233785)에서 확인하실 수 있습니다.\n"
     ]
    }
   ],
   "source": [
    "# `None`는 현재 상태에 아무것도 추가하지 않음\n",
    "events = graph.stream(None, config, stream_mode=\"values\")\n",
    "\n",
    "# 이벤트 반복 처리\n",
    "for event in events:\n",
    "    # 메시지가 이벤트에 포함된 경우\n",
    "    if \"messages\" in event:\n",
    "        # 마지막 메시지의 예쁜 출력\n",
    "        event[\"messages\"][-1].pretty_print()"
   ]
  },
  {
   "cell_type": "markdown",
   "id": "ad62e348",
   "metadata": {},
   "source": [
    "아래는 최종 답변의 상태도 수정하고자 할 경우 사용할 수 있는 코드입니다."
   ]
  },
  {
   "cell_type": "code",
   "execution_count": 13,
   "id": "0889cbf7",
   "metadata": {},
   "outputs": [],
   "source": [
    "# 이 함수가 작동할 노드 지정. 이 노드가 방금 실행된 것처럼 자동으로 처리 계속\n",
    "# graph.update_state(\n",
    "#     config,\n",
    "#     {\n",
    "#         \"messages\": [\n",
    "#             AIMessage(content=\"마지막으로 최종 메시지를 추가하여 마무리 합니다.\")\n",
    "#         ]\n",
    "#     },\n",
    "#     as_node=\"chatbot\",\n",
    "# )"
   ]
  },
  {
   "cell_type": "markdown",
   "id": "697183db",
   "metadata": {},
   "source": [
    "그럼, 그래프를 시각화하고 전체 출력을 확인해 보겠습니다."
   ]
  },
  {
   "cell_type": "code",
   "execution_count": 14,
   "id": "458ada94",
   "metadata": {},
   "outputs": [
    {
     "data": {
      "image/png": "[encoded data removed]",
      "text/plain": [
       "<IPython.core.display.Image object>"
      ]
     },
     "metadata": {},
     "output_type": "display_data"
    }
   ],
   "source": [
    "from langchain_teddynote.graphs import visualize_graph\n",
    "\n",
    "visualize_graph(graph)"
   ]
  },
  {
   "cell_type": "markdown",
   "id": "2a63f4cf",
   "metadata": {},
   "source": [
    "현재 상태를 이전과 같이 점검하여 체크포인트가 수동 업데이트를 반영하는지 확인합니다."
   ]
  },
  {
   "cell_type": "code",
   "execution_count": 15,
   "id": "b2d31c27",
   "metadata": {},
   "outputs": [
    {
     "name": "stdout",
     "output_type": "stream",
     "text": [
      "================================\u001b[1m Human Message \u001b[0m=================================\n",
      "\n",
      "LangGraph 가 무엇인지 조사하여 알려주세요!\n",
      "==================================\u001b[1m Ai Message \u001b[0m==================================\n",
      "Tool Calls:\n",
      "  tavily_web_search (call_BVAuYEXAHvwFuUnjQjU9NQrr)\n",
      " Call ID: call_BVAuYEXAHvwFuUnjQjU9NQrr\n",
      "  Args:\n",
      "    query: LangGraph\n",
      "=================================\u001b[1m Tool Message \u001b[0m=================================\n",
      "\n",
      "[수정된 웹 검색 결과] \n",
      "LangGraph는 상태 기반의 다중 액터 애플리케이션을 LLM을 활용해 구축할 수 있도록 지원합니다.\n",
      "LangGraph는 사이클 흐름, 제어 가능성, 지속성, 클라우드 배포 기능을 제공하는 오픈 소스 라이브러리입니다.\n",
      "\n",
      "자세한 튜토리얼은 [LangGraph 튜토리얼](https://langchain-ai.github.io/langgraph/tutorials/) 과\n",
      "테디노트의 [랭체인 한국어 튜토리얼](https://wikidocs.net/233785) 을 참고하세요.\n",
      "==================================\u001b[1m Ai Message \u001b[0m==================================\n",
      "\n",
      "LangGraph는 상태 기반의 다중 액터 애플리케이션을 구축할 수 있도록 돕는 오픈 소스 라이브러리입니다. 이 라이브러리는 대화형 응용 프로그램을 개발할 때 LLM(대형 언어 모델)을 활용할 수 있도록 설계되었습니다. LangGraph는 다음과 같은 기능을 제공합니다:\n",
      "\n",
      "- 사이클 흐름\n",
      "- 제어 가능성\n",
      "- 지속성\n",
      "- 클라우드 배포 기능\n",
      "\n",
      "더욱 자세한 내용과 튜토리얼은 [LangGraph 튜토리얼](https://langchain-ai.github.io/langgraph/tutorials/)과 [랭체인 한국어 튜토리얼](https://wikidocs.net/233785)에서 확인하실 수 있습니다.\n"
     ]
    }
   ],
   "source": [
    "# 그래프 상태 스냅샷 생성\n",
    "snapshot = graph.get_state(config)\n",
    "\n",
    "# 최근 세 개의 메시지 출력\n",
    "for message in snapshot.values[\"messages\"]:\n",
    "    message.pretty_print()"
   ]
  },
  {
   "cell_type": "markdown",
   "id": "457828d2",
   "metadata": {},
   "source": [
    "진행할 다음 노드가 있는지 확인합니다. `()` 가 비어 있는 것으로 확인할 수 있습니다. 즉, 모든 과정이 정상적으로 진행되었음을 알 수 있습니다."
   ]
  },
  {
   "cell_type": "code",
   "execution_count": 16,
   "id": "c6ea87c0",
   "metadata": {},
   "outputs": [
    {
     "name": "stdout",
     "output_type": "stream",
     "text": [
      "()\n"
     ]
    }
   ],
   "source": [
    "# 다음 상태 출력\n",
    "print(snapshot.next)"
   ]
  },
  {
   "cell_type": "markdown",
   "id": "98fcbffe",
   "metadata": {},
   "source": [
    "## Interrupt 후 메시지 상태 업데이트 - 이어서 진행\n",
    "\n",
    "- `TavilySearch` 도구에서 **검색 쿼리** 를 수정\n",
    "\n",
    "이번에는 다음 노드로 진행하기 전 interrupt 를 발생시켜 중단하고, 상태(State) 를 갱신한 뒤 이어서 진행하는 방법을 살펴보겠습니다.\n",
    "\n",
    "먼저, 새로운 `thread_id` 를 생성합니다.\n",
    "\n",
    "여기서는 랜덤한 해시값을 생성하는 `generate_random_hash` 함수를 사용합니다."
   ]
  },
  {
   "cell_type": "code",
   "execution_count": 17,
   "id": "5c7fe37d",
   "metadata": {},
   "outputs": [
    {
     "name": "stdout",
     "output_type": "stream",
     "text": [
      "thread_id: 515d27\n",
      "================================\u001b[1m Human Message \u001b[0m=================================\n",
      "\n",
      "LangGraph 에 대해서 배워보고 싶습니다. 유용한 자료를 추천해 주세요!\n",
      "==================================\u001b[1m Ai Message \u001b[0m==================================\n",
      "Tool Calls:\n",
      "  tavily_web_search (call_GQweW2fAQlDIhAeq95aow760)\n",
      " Call ID: call_GQweW2fAQlDIhAeq95aow760\n",
      "  Args:\n",
      "    query: LangGraph 소개 및 자료\n"
     ]
    }
   ],
   "source": [
    "from langchain_teddynote.graphs import generate_random_hash\n",
    "\n",
    "thread_id = generate_random_hash()\n",
    "print(f\"thread_id: {thread_id}\")\n",
    "\n",
    "question = \"LangGraph 에 대해서 배워보고 싶습니다. 유용한 자료를 추천해 주세요!\"\n",
    "\n",
    "# 초기 입력 상태를 정의\n",
    "input = State(messages=[(\"user\", question)])\n",
    "\n",
    "# 새로운 config 생성\n",
    "config = {\"configurable\": {\"thread_id\": thread_id}}\n",
    "\n",
    "events = graph.stream(\n",
    "    input=input,\n",
    "    config=config,\n",
    "    interrupt_before=[\"tools\"],\n",
    "    stream_mode=\"values\",\n",
    ")\n",
    "for event in events:\n",
    "    if \"messages\" in event:\n",
    "        event[\"messages\"][-1].pretty_print()"
   ]
  },
  {
   "cell_type": "markdown",
   "id": "2c49b0e0",
   "metadata": {},
   "source": [
    "다음으로, 에이전트를 위한 도구 호출을 업데이트해 보겠습니다. "
   ]
  },
  {
   "cell_type": "markdown",
   "id": "f88483e9",
   "metadata": {},
   "source": [
    "먼저 `Message ID` 를 가져옵니다."
   ]
  },
  {
   "cell_type": "code",
   "execution_count": 18,
   "id": "72d210f5",
   "metadata": {},
   "outputs": [],
   "source": [
    "# config 를 복사\n",
    "config_copy = config.copy()"
   ]
  },
  {
   "cell_type": "code",
   "execution_count": 19,
   "id": "2bac7050",
   "metadata": {},
   "outputs": [
    {
     "name": "stdout",
     "output_type": "stream",
     "text": [
      "Message ID run--c4196a5f-e0f6-4831-b08d-6ea7b75a8ba2-0\n"
     ]
    }
   ],
   "source": [
    "from langchain_core.messages import AIMessage\n",
    "\n",
    "# 스냅샷 상태 가져오기\n",
    "snapshot = graph.get_state(config)\n",
    "\n",
    "# messages 의 마지막 메시지 가져오기\n",
    "existing_message = snapshot.values[\"messages\"][-1]\n",
    "\n",
    "# 메시지 ID 출력\n",
    "print(\"Message ID\", existing_message.id)"
   ]
  },
  {
   "cell_type": "markdown",
   "id": "2ed080b7",
   "metadata": {},
   "source": [
    "마지막 메시지는 `tavily_web_search` 도구 호출과 관련된 메시지 입니다.\n",
    "\n",
    "주요 속성은 다음과 같습니다.\n",
    "\n",
    "- `name`: 도구의 이름\n",
    "- `args`: 검색 쿼리\n",
    "- `id`: 도구 호출 ID\n",
    "- `type`: 도구 호출 유형(tool_call)"
   ]
  },
  {
   "cell_type": "code",
   "execution_count": 20,
   "id": "64c27714",
   "metadata": {},
   "outputs": [
    {
     "name": "stdout",
     "output_type": "stream",
     "text": [
      "{'name': 'tavily_web_search', 'args': {'query': 'LangGraph 소개 및 자료'}, 'id': 'call_GQweW2fAQlDIhAeq95aow760', 'type': 'tool_call'}\n"
     ]
    }
   ],
   "source": [
    "# 첫 번째 도구 호출 출력\n",
    "print(existing_message.tool_calls[0])"
   ]
  },
  {
   "cell_type": "markdown",
   "id": "b2f3e04e",
   "metadata": {},
   "source": [
    "위의 속성 값 중 `args` 의 `query` 를 업데이트 해 보겠습니다.\n",
    "\n",
    "기존의 `existing_message` 를 복사하여 새로운 도구인 `new_tool_call` 을 생성합니다.\n",
    "\n",
    "`copy()` 메서드를 사용하여 복사하였기 때문에 모든 속성 값이 복사됩니다.\n",
    "\n",
    "그런 다음, `query` 매개변수에 원하는 **검색 쿼리** 를 입력합니다.\n",
    "\n",
    "**중요**\n",
    "\n",
    "- `id` 는 기존 메시지의 `id` 를 그대로 사용합니다. (`id` 가 달라지면 message 리듀서가 동작하여 메시지를 갱신하지 않고, 추가하게 됩니다.)"
   ]
  },
  {
   "cell_type": "code",
   "execution_count": 21,
   "id": "97b66610",
   "metadata": {},
   "outputs": [
    {
     "data": {
      "text/plain": [
       "{'name': 'tavily_web_search',\n",
       " 'args': {'query': 'LangGraph site:teddylee777.github.io'},\n",
       " 'id': 'call_GQweW2fAQlDIhAeq95aow760',\n",
       " 'type': 'tool_call'}"
      ]
     },
     "execution_count": 21,
     "metadata": {},
     "output_type": "execute_result"
    }
   ],
   "source": [
    "# tool_calls 를 복사하여 새로운 도구 호출 생성\n",
    "new_tool_call = existing_message.tool_calls[0].copy()\n",
    "\n",
    "# 쿼리 매개변수 업데이트(갱신)\n",
    "new_tool_call[\"args\"] = {\"query\": \"LangGraph site:teddylee777.github.io\"}\n",
    "new_tool_call"
   ]
  },
  {
   "cell_type": "code",
   "execution_count": 22,
   "id": "8891040b",
   "metadata": {},
   "outputs": [
    {
     "name": "stdout",
     "output_type": "stream",
     "text": [
      "run--c4196a5f-e0f6-4831-b08d-6ea7b75a8ba2-0\n",
      "==================================\u001b[1m Ai Message \u001b[0m==================================\n",
      "Tool Calls:\n",
      "  tavily_web_search (call_GQweW2fAQlDIhAeq95aow760)\n",
      " Call ID: call_GQweW2fAQlDIhAeq95aow760\n",
      "  Args:\n",
      "    query: LangGraph site:teddylee777.github.io\n"
     ]
    }
   ],
   "source": [
    "# AIMessage 생성\n",
    "new_message = AIMessage(\n",
    "    content=existing_message.content,\n",
    "    tool_calls=[new_tool_call],\n",
    "    # 중요! ID는 메시지를 상태에 추가하는 대신 교체하는 방법\n",
    "    id=existing_message.id,\n",
    ")\n",
    "\n",
    "print(new_message.id)\n",
    "\n",
    "# 수정한 메시지 출력\n",
    "new_message.pretty_print()"
   ]
  },
  {
   "cell_type": "markdown",
   "id": "3e18fa63",
   "metadata": {},
   "source": [
    "검색 쿼리가 갱신된 것을 확인할 수 있습니다."
   ]
  },
  {
   "cell_type": "code",
   "execution_count": 23,
   "id": "7dbb6442",
   "metadata": {},
   "outputs": [
    {
     "name": "stdout",
     "output_type": "stream",
     "text": [
      "{'name': 'tavily_web_search', 'args': {'query': 'LangGraph site:teddylee777.github.io'}, 'id': 'call_GQweW2fAQlDIhAeq95aow760', 'type': 'tool_call'}\n",
      "\n",
      "Message ID run--c4196a5f-e0f6-4831-b08d-6ea7b75a8ba2-0\n"
     ]
    },
    {
     "data": {
      "text/plain": [
       "{'configurable': {'thread_id': '515d27',\n",
       "  'checkpoint_ns': '',\n",
       "  'checkpoint_id': '1f05fec1-b177-66c8-8002-b1457c6f44bb'}}"
      ]
     },
     "execution_count": 23,
     "metadata": {},
     "output_type": "execute_result"
    }
   ],
   "source": [
    "# 업데이트된 도구 호출 출력\n",
    "print(new_message.tool_calls[0])\n",
    "\n",
    "# 메시지 ID 출력\n",
    "print(\"\\nMessage ID\", new_message.id)\n",
    "\n",
    "# 상태 업데이트\n",
    "graph.update_state(config, {\"messages\": [new_message]})"
   ]
  },
  {
   "cell_type": "markdown",
   "id": "2f791a61",
   "metadata": {},
   "source": [
    "업데이트된 마지막 message 의 `tool_calls` 를 확인합니다.\n",
    "\n",
    "- `args` 의 `query` 가 수정된 것을 확인할 수 있습니다."
   ]
  },
  {
   "cell_type": "code",
   "execution_count": 24,
   "id": "f9dbecb3",
   "metadata": {},
   "outputs": [
    {
     "data": {
      "text/plain": [
       "[{'name': 'tavily_web_search',\n",
       "  'args': {'query': 'LangGraph site:teddylee777.github.io'},\n",
       "  'id': 'call_GQweW2fAQlDIhAeq95aow760',\n",
       "  'type': 'tool_call'}]"
      ]
     },
     "execution_count": 24,
     "metadata": {},
     "output_type": "execute_result"
    }
   ],
   "source": [
    "# 마지막 메시지의 도구 호출 가져오기\n",
    "graph.get_state(config).values[\"messages\"][-1].tool_calls"
   ]
  },
  {
   "cell_type": "markdown",
   "id": "e0ae770e",
   "metadata": {},
   "source": [
    "기존 검색어인 **\"LangGraph\"** 대신 변경된 검색 쿼리인 **\"LangGraph site:teddylee777.github.io\"** 로 검색되는 것을 확인할 수 있습니다.\n",
    "\n",
    "기존 설정과 `None` 입력을 사용하여 그래프 이어서 스트리밍 합니다."
   ]
  },
  {
   "cell_type": "code",
   "execution_count": 25,
   "id": "80be43c4",
   "metadata": {},
   "outputs": [
    {
     "name": "stdout",
     "output_type": "stream",
     "text": [
      "==================================\u001b[1m Ai Message \u001b[0m==================================\n",
      "Tool Calls:\n",
      "  tavily_web_search (call_GQweW2fAQlDIhAeq95aow760)\n",
      " Call ID: call_GQweW2fAQlDIhAeq95aow760\n",
      "  Args:\n",
      "    query: LangGraph site:teddylee777.github.io\n",
      "=================================\u001b[1m Tool Message \u001b[0m=================================\n",
      "Name: tavily_web_search\n",
      "\n",
      "[{\"url\": \"https://teddylee777.github.io/\", \"title\": \"테디노트\", \"content\": \"테디노트 Skip to primary navigation Skip to content Skip to footer 테디노트 데이터와 인공지능을 좋아하는 개발자 노트 poetry 의 거의 모든것 (튜토리얼) 지금부터 poetry 활용 튜토리얼을 살펴 보겠습니다. LangGraph Retrieval Agent는 언어 처리, AI 모델 통합, 데이터베이스 관리, 그래프 기반 데이터 처리 등 다양한 기능을 제공하여 언어 기반 AI 애플리케이션 개발에 필수적인 도구입니다. 본 튜토리얼은 OpenAI Assistants API를 활용하는 내용을 다룹니다. [LangChain] 에이전트(Agent)와 도구(tools)를 활용한 지능형 검색 시스템 구축 가이드 이 글에서는 LangChain 의 Agent 프레임워크를 활용하여 복잡한 검색과 데이터 처리 작업을 수행하는 방법을 소개합니다. LangChain을 활용하여 간단하게 네이버 뉴스기사를 바탕으로 Q&A 애플리케이션을 만드는 방법을 다룹니다. LangChain Expression Language(LCEL) 원리 이해와 파이프라인 구축 가이드 이 블로그 글에서는 LangChain Expression Language(LCEL) 원리 이해와 LCEL 에 기반한 파이프라인 구축의 기본을 소개합니다. © 2024 테디노트.\", \"score\": 0.36520815, \"raw_content\": \"테디노트\\n===============\\n\\n*   [Skip to primary navigation](https://teddylee777.github.io/#site-nav)\\n*   [Skip to content](https://teddylee777.github.io/#main)\\n*   [Skip to footer](https://teddylee777.github.io/#footer)\\n\\n[테디노트 데이터와 인공지능을 좋아하는 개발자 노트](https://teddylee777.github.io/)\\n*   [검색](https://teddylee777.github.io/search/)\\n*   [카테고리](https://teddylee777.github.io/categories/)\\n*   [태그](https://teddylee777.github.io/tags/)\\n*   [연도](https://teddylee777.github.io/year-archive/)\\n*   [강의](https://teddylee777.github.io/lectures/)\\n*   [어바웃미](https://teddylee777.github.io/about/)\\n\\n토글 메뉴\\n\\n[![Image 1: Teddy](https://teddylee777.github.io/images/teddynote.png)](https://teddylee777.github.io/)\\n\\n### [Teddy](https://teddylee777.github.io/)\\n\\n💻 Creator & Data Lover\\n\\n팔로우\\n*   Pangyo, South Korea\\n*   [Email](mailto:teddylee777@gmail.com)\\n*   [Website](https://teddylee777.github.io/)\\n*   [YouTube](https://www.youtube.com/c/teddynote)\\n*   [GitHub](https://github.com/teddylee777)\\n*   [Instagram](https://instagram.com/teddynote)\\n\\n### 최근 포스트\\n\\n[poetry 의 거의 모든것 (튜토리얼)](https://teddylee777.github.io/poetry/poetry-tutorial/)\\n-------------------------------------------------------------------------------\\n\\n2024년 03월 30일 5 분 소요\\n\\nPython 개발에 있어서 poetry는 매우 강력한 도구로, 프로젝트의 의존성 관리와 패키지 배포를 간소화하는 데 큰 도움을 줍니다. 지금부터 poetry 활용 튜토리얼을 살펴 보겠습니다.\\n\\n[LangGraph Retrieval Agent를 활용한 동적 문서 검색 및 처리](https://teddylee777.github.io/langgraph/langgraph-agentic-rag/)\\n--------------------------------------------------------------------------------------------------------------\\n\\n2024년 03월 06일 10 분 소요\\n\\nLangGraph Retrieval Agent는 언어 처리, AI 모델 통합, 데이터베이스 관리, 그래프 기반 데이터 처리 등 다양한 기능을 제공하여 언어 기반 AI 애플리케이션 개발에 필수적인 도구입니다.\\n\\n[[Assistants API] Code Interpreter, Retrieval, Functions 활용법](https://teddylee777.github.io/openai/openai-assistant-tutorial/)\\n------------------------------------------------------------------------------------------------------------------------------\\n\\n2024년 02월 13일 34 분 소요\\n\\nOpenAI의 새로운 Assistants API는 대화와 더불어 강력한 도구 접근성을 제공합니다. 본 튜토리얼은 OpenAI Assistants API를 활용하는 내용을 다룹니다. 특히, Assistant API 가 제공하는 도구인 Code Interpreter, Retrieval...\\n\\n[[LangChain] 에이전트(Agent)와 도구(tools)를 활용한 지능형 검색 시스템 구축 가이드](https://teddylee777.github.io/langchain/langchain-agent/)\\n---------------------------------------------------------------------------------------------------------------------\\n\\n2024년 02월 09일 41 분 소요\\n\\n이 글에서는 LangChain 의 Agent 프레임워크를 활용하여 복잡한 검색과 데이터 처리 작업을 수행하는 방법을 소개합니다. LangSmith 를 사용하여 Agent의 추론 단계를 추적합니다. Agent가 활용할 검색 도구(Tavily Search), PDF 기반 검색 리트리버...\\n\\n[LangChain RAG 파헤치기: 문서 기반 QA 시스템 설계 방법 - 심화편](https://teddylee777.github.io/langchain/rag-tutorial/)\\n-----------------------------------------------------------------------------------------------------\\n\\n2024년 02월 06일 22 분 소요\\n\\nLangChain의 RAG 시스템을 통해 문서(PDF, txt, 웹페이지 등)에 대한 질문-답변을 찾는 과정을 정리하였습니다.\\n\\n[LangChain으로 네이버 뉴스 기반 Q&A 애플리케이션 구축하기 - 기본편](https://teddylee777.github.io/langchain/rag-naver-news-qa/)\\n---------------------------------------------------------------------------------------------------------\\n\\n2024년 02월 06일 7 분 소요\\n\\nLangChain을 활용하여 간단하게 네이버 뉴스기사를 바탕으로 Q&A 애플리케이션을 만드는 방법을 다룹니다.\\n\\n[자동화된 메타데이터 태깅으로 문서의 메타데이터(metadata) 생성 및 자동 라벨링](https://teddylee777.github.io/langchain/metadata-tagger/)\\n-----------------------------------------------------------------------------------------------------------\\n\\n2024년 02월 05일 9 분 소요\\n\\n문서 관리를 위한 메타데이터 태깅은 필수적이지만 번거로울 수 있습니다. OpenAI 기반의 자동화된 메타데이터 태깅 방법을 통해 이 과정을 효율적으로 만드는 방법을 알아보도록 하겠습니다.\\n\\n[LLMs를 활용한 문서 요약 가이드: Stuff, Map-Reduce, Refine 방법 총정리](https://teddylee777.github.io/langchain/summarize-chain/)\\n-----------------------------------------------------------------------------------------------------------------\\n\\n2024년 02월 04일 21 분 소요\\n\\n이번 글은 LangChain 을 활용하여 문서를 요약하는 방법에 대하여 다룹니다. 특히, 문서 요약의 3가지 방식은 Stuff, Map-Reduce, Refine 방식에 대하여 알아보고, 각각의 방식 간의 차이점에 대하여 다룹니다.\\n\\n[LangChain Expression Language(LCEL) 원리 이해와 파이프라인 구축 가이드](https://teddylee777.github.io/langchain/langchain-lcel/)\\n------------------------------------------------------------------------------------------------------------------\\n\\n2024년 02월 03일 3 분 소요\\n\\n이 블로그 글에서는 LangChain Expression Language(LCEL) 원리 이해와 LCEL 에 기반한 파이프라인 구축의 기본을 소개합니다.\\n\\n[OpenAI API 모델 리스트 / 요금표](https://teddylee777.github.io/openai/openai-models/)\\n------------------------------------------------------------------------------\\n\\n2024년 02월 02일 2 분 소요\\n\\n최신 버전의 업데이트 된 OpenAI Model 리스트와 API 사용요금(Pricing) 입니다.\\n\\n*   [이전](https://teddylee777.github.io/#)\\n*   [1](https://teddylee777.github.io/#)\\n*   [2](https://teddylee777.github.io/page2/)\\n*   [3](https://teddylee777.github.io/page3/)\\n*   […](https://teddylee777.github.io/#)\\n*   [24](https://teddylee777.github.io/page24/)\\n*   [다음](https://teddylee777.github.io/page2/)\\n\\n*   **팔로우:**\\n*   [YouTube](https://www.youtube.com/c/teddynote)\\n*   [GitHub](https://github.com/teddylee777)\\n*   [Instagram](https://instagram.com/teddynote)\\n*   [피드](https://teddylee777.github.io/feed.xml)\\n\\n© 2024 테디노트. Powered by [Jekyll](https://jekyllrb.com/)&[Minimal Mistakes](https://mademistakes.com/work/minimal-mistakes-jekyll-theme/).\\n\"}, {\"url\": \"https://teddylee777.github.io/langgraph/langgraph-agentic-rag/\", \"title\": \"LangGraph Retrieval Agent를 활용한 동적 문서 검색 및 처리\", \"content\": \"본 블로그에서는 LangGraph와 Retrieval Agent의 통합 과정, 구현 방법, 그리고 실제 사용 예시를 통해 이러한 도구들의 효과적인 활용 방법을 탐구합니다. Python 코드를 중심으로 설명을 진행하며, 실제 구현 예시를 통해 문서 검색 및 처리의 전체 흐름을 이해할 수 있도록 구성되어 있습니다. 검색 에이전트를 구현하기 위해서는 LLM에 검색 도구에 대한 접근 권한을 제공하기만 하면 됩니다. 이를 LangGraph로 구현해 봅시다! should_retrieve grade_documents rewrite generate 각 단계는 특정 입력에 따라 동작하며, 이 과정은 대화형 에이전트나 정보 검색 시스템에서 유용하게 사용될 수 있습니다.\", \"score\": 0.27949205, \"raw_content\": \"**🔥알림🔥**\\n  \\n① 테디노트 **유튜브** -\\n[구경하러 가기!](https://www.youtube.com/@teddynote)\\n  \\n② LangChain **한국어 튜토리얼**\\n[바로가기 👀](https://github.com/teddylee777/langchain-kr)\\n  \\n③ 랭체인 노트 **무료 전자책**(wikidocs)\\n[바로가기 🙌](https://wikidocs.net/book/14314)\\n  \\n④ RAG 비법노트 LangChain **강의오픈**\\n[바로가기 🙌](https://bit.ly/4e1h8zO)\\n  \\n⑤ 서울대 **PyTorch 딥러닝 강의**\\n[바로가기 🙌](https://snui.snu.ac.kr/el/course/course_info_form.acl?COURSE_SEQ=496&LECTURE_SEQ=768)\\n\\n# [LangGraph Retrieval Agent를 활용한 동적 문서 검색 및 처리](https://teddylee777.github.io/langgraph/langgraph-agentic-rag/)\\n\\n2024년 03월 06일\\n\\n\\n\\n10 분 소요\\n\\n#### 목차\\n\\nLangGraph Retrieval Agent는 언어 처리, AI 모델 통합, 데이터베이스 관리, 그래프 기반 데이터 처리 등 다양한 기능을 제공하여 언어 기반 AI 애플리케이션 개발에 필수적인 도구입니다.\\n\\n본 블로그에서는 LangGraph와 Retrieval Agent의 통합 과정, 구현 방법, 그리고 실제 사용 예시를 통해 이러한 도구들의 효과적인 활용 방법을 탐구합니다.\\n\\nPython 코드를 중심으로 설명을 진행하며, 실제 구현 예시를 통해 문서 검색 및 처리의 전체 흐름을 이해할 수 있도록 구성되어 있습니다.\\n\\n**주요 내용**\\n\\n## 설치\\n\\n다양한 언어 처리 및 AI 관련 라이브러리를 설치하는 명령어입니다. `langchain_community`, `tiktoken`, `langchain-openai`, `langchainhub`, `chromadb`, `langchain`, `langgraph` 등의 패키지를 포함합니다.\\n\\n`langchain_community`\\n`tiktoken`\\n`langchain-openai`\\n`langchainhub`\\n`chromadb`\\n`langchain`\\n`langgraph`\\n`!pip install -qU langchain_community tiktoken langchain-openai langchainhub chromadb langchain langgraph`\\n\\nAPI KEY를 로드합니다.\\n\\n`# api key\\nfrom dotenv import load_dotenv\\nload_dotenv()`\\n\\n## LangGraph Retrieval Agent\\n\\n[검색 에이전트](https://python.langchain.com/docs/use_cases/question_answering/conversational_retrieval_agents)는 인덱스에서 검색할지 여부에 대한 결정을 내리고 싶을 때 유용합니다.\\n\\n검색 에이전트를 구현하기 위해서는 LLM에 검색 도구에 대한 접근 권한을 제공하기만 하면 됩니다. 이를 [LangGraph](https://python.langchain.com/docs/langgraph)로 구현해 봅시다!\\n\\n## Retriever\\n\\n첫 번째로, 3개의 블로그 게시물을 인덱싱합니다.\\n\\n`WebBaseLoader`\\n`RecursiveCharacterTextSplitter`\\n`Chroma`\\n`OpenAIEmbeddings`\\n`retriever`\\n`from langchain.text_splitter import RecursiveCharacterTextSplitter\\nfrom langchain_community.document_loaders import WebBaseLoader\\nfrom langchain_community.vectorstores import Chroma\\nfrom langchain_openai import OpenAIEmbeddings\\nurls = [\\n\\\"https://lilianweng.github.io/posts/2023-06-23-agent/\\\",\\n\\\"https://lilianweng.github.io/posts/2023-03-15-prompt-engineering/\\\",\\n\\\"https://lilianweng.github.io/posts/2023-10-25-adv-attack-llm/\\\",\\n]\\ndocs = [WebBaseLoader(url).load() for url in urls]\\ndocs_list = [item for sublist in docs for item in sublist]\\ntext_splitter = RecursiveCharacterTextSplitter.from_tiktoken_encoder(\\nchunk_size=100, chunk_overlap=50\\n)\\ndoc_splits = text_splitter.split_documents(docs_list)\\n# 벡터 데이터베이스에 문서 추가\\nvectorstore = Chroma.from_documents(\\ndocuments=doc_splits,\\ncollection_name=\\\"rag-chroma\\\",\\nembedding=OpenAIEmbeddings(),\\n)\\nretriever = vectorstore.as_retriever()`\\n\\nLangChain의 `create_retriever_tool` 함수를 사용하여 특정 주제에 대한 블로그 게시물을 검색하고 정보를 반환하는 도구를 생성합니다. 이 예제에서는 Lilian Weng의 블로그 게시물 중 LLM 에이전트, 프롬프트 엔지니어링, LLM에 대한 적대적 공격에 관한 정보를 검색합니다.\\n\\n`create_retriever_tool`\\n\\n생성된 도구는 `ToolExecutor` 클래스의 인스턴스에 등록되어 실행될 준비가 됩니다. `ToolExecutor`는 등록된 모든 도구를 관리하고 실행하는 역할을 담당합니다.\\n\\n`ToolExecutor`\\n`ToolExecutor`\\n`from langgraph.prebuilt import ToolExecutor\\nfrom langchain.tools.retriever import create_retriever_tool\\n# 릴리안 웡의 블로그 게시물에 대한 정보를 검색하고 반환하는 도구를 생성합니다.\\ntool = create_retriever_tool(\\nretriever,\\n\\\"retrieve_blog_posts\\\",\\n\\\"Search and return information about Lilian Weng blog posts on LLM agents, prompt engineering, and adversarial attacks on LLMs.\\\",\\n)\\ntools = [tool]\\n# 도구들을 실행할 ToolExecutor 객체를 생성합니다.\\ntool_executor = ToolExecutor(tools)`\\n\\n## Agent state\\n\\n그래프를 정의해야 합니다.\\n\\n`AgentState`\\n`state`\\n`AgentState`\\n`messages`\\n`AgentState`\\n`import operator\\nfrom typing import Annotated, Sequence, TypedDict\\nfrom langchain_core.messages import BaseMessage\\nclass AgentState(TypedDict):\\n# AgentState 클래스는 메시지 시퀀스를 포함하는 타입 딕셔너리입니다.\\n messages: Annotated[Sequence[BaseMessage], operator.add]`\\n\\n## 노드와 엣지(Nodes and Edges)\\n\\n우리는 agentic RAG 그래프를 다음과 같이 구성할 수 있습니다\\n\\n상태는 메시지의 집합입니다\\n\\n각 노드는 상태를 업데이트(추가)합니다\\n\\n조건부 엣지는 다음에 방문할 노드를 결정합니다\\n\\n![nodes and edges](/images/2024-03-06-langgraph-agentic-rag/nodes-and-edges.png)\\n\\n![nodes and edges](/images/2024-03-06-langgraph-agentic-rag/nodes-and-edges.png)\\n\\n문서 검색, 관련성 평가, 질문 재구성, 그리고 답변 생성을 포함하는 정보 검색 및 처리 프로세스를 구현합니다.\\n\\n`should_retrieve`\\n`grade_documents`\\n`rewrite`\\n`generate`\\n\\n각 단계는 특정 입력에 따라 동작하며, 이 과정은 대화형 에이전트나 정보 검색 시스템에서 유용하게 사용될 수 있습니다.\\n\\n`import json\\nimport operator\\nfrom typing import Annotated, Sequence, TypedDict\\nfrom langchain import hub\\nfrom langchain.output_parsers import PydanticOutputParser\\nfrom langchain.prompts import PromptTemplate\\nfrom langchain.tools.render import format_tool_to_openai_function\\nfrom langchain_core.utils.function_calling import convert_to_openai_tool\\nfrom langchain_core.messages import BaseMessage, FunctionMessage\\nfrom langchain.output_parsers.openai_tools import PydanticToolsParser\\nfrom langchain_core.pydantic_v1 import BaseModel, Field\\nfrom langchain_openai import ChatOpenAI\\nfrom langgraph.prebuilt import ToolInvocation\\nfrom langchain_core.output_parsers import StrOutputParser\\n# Edges\\ndef should_retrieve(state):\\n\\\"\\\"\\\"\\n에이전트가 더 많은 정보를 검색해야 하는지 또는 프로세스를 종료해야 하는지 결정합니다.\\n이 함수는 상태의 마지막 메시지에서 함수 호출을 확인합니다. 함수 호출이 있으면 정보 검색 프로세스를 계속합니다. 그렇지 않으면 프로세스를 종료합니다.\\nArgs:\\nstate (messages): 현재 상태\\nReturns:\\nstr: 검색 프로세스를 \\\"계속\\\"하거나 \\\"종료\\\"하는 결정\\n\\\"\\\"\\\"\\nprint(\\\"---DECIDE TO RETRIEVE---\\\")\\nmessages = state[\\\"messages\\\"]\\nlast_message = messages[-1]\\n# 함수 호출이 없으면 종료합니다.\\n if \\\"function_call\\\" not in last_message.additional_kwargs:\\nprint(\\\"---DECISION: DO NOT RETRIEVE / DONE---\\\")\\nreturn \\\"end\\\"\\n# 그렇지 않으면 함수 호출이 있으므로 계속합니다.\\n else:\\nprint(\\\"---DECISION: RETRIEVE---\\\")\\nreturn \\\"continue\\\"\\ndef grade_documents(state):\\n\\\"\\\"\\\"\\n검색된 문서가 질문과 관련이 있는지 여부를 결정합니다.\\nArgs:\\nstate (messages): 현재 상태\\nReturns:\\nstr: 문서가 관련이 있는지 여부에 대한 결정\\n\\\"\\\"\\\"\\nprint(\\\"---CHECK RELEVANCE---\\\")\\n# 데이터 모델\\n class grade(BaseModel):\\n\\\"\\\"\\\"관련성 검사를 위한 이진 점수.\\\"\\\"\\\"\\nbinary_score: str = Field(description=\\\"'yes' 또는 'no'의 관련성 점수\\\")\\n# LLM\\n model = ChatOpenAI(\\ntemperature=0, model=\\\"gpt-4-0125-preview\\\", streaming=True)\\n# 도구\\n grade_tool_oai = convert_to_openai_tool(grade)\\n# 도구와 강제 호출을 사용한 LLM\\n llm_with_tool = model.bind(\\ntools=[convert_to_openai_tool(grade_tool_oai)],\\ntool_choice={\\\"type\\\": \\\"function\\\", \\\"function\\\": {\\\"name\\\": \\\"grade\\\"}},\\n)\\n# 파서\\n parser_tool = PydanticToolsParser(tools=[grade])\\n# 프롬프트\\n prompt = PromptTemplate(\\ntemplate=\\\"\\\"\\\"You are a grader assessing relevance of a retrieved document to a user question. \\\\n\\nHere is the retrieved document: \\\\n\\\\n {context} \\\\n\\\\n\\nHere is the user question: {question} \\\\n\\nIf the document contains keyword(s) or semantic meaning related to the user question, grade it as relevant. \\\\n\\nGive a binary score 'yes' or 'no' score to indicate whether the document is relevant to the question.\\\"\\\"\\\",\\ninput_variables=[\\\"context\\\", \\\"question\\\"],\\n)\\n# 체인\\n chain = prompt | llm_with_tool | parser_tool\\nmessages = state[\\\"messages\\\"]\\nlast_message = messages[-1]\\nquestion = messages[0].content\\ndocs = last_message.content\\nscore = chain.invoke({\\\"question\\\": question, \\\"context\\\": docs})\\ngrade = score[0].binary_score\\nif grade == \\\"yes\\\":\\nprint(\\\"---DECISION: DOCS RELEVANT---\\\")\\nreturn \\\"yes\\\"\\nelse:\\nprint(\\\"---DECISION: DOCS NOT RELEVANT---\\\")\\nprint(grade)\\nreturn \\\"no\\\"\\n# Nodes\\ndef agent(state):\\n\\\"\\\"\\\"\\n현재 상태를 기반으로 에이전트 모델을 호출하여 응답을 생성합니다. 질문에 따라 검색 도구를 사용하여 검색을 결정하거나 단순히 종료합니다.\\nArgs:\\nstate (messages): 현재 상태\\nReturns:\\ndict: 메시지에 에이전트 응답이 추가된 업데이트된 상태\\n\\\"\\\"\\\"\\nprint(\\\"---CALL AGENT---\\\")\\nmessages = state[\\\"messages\\\"]\\nmodel = ChatOpenAI(temperature=0, streaming=True,\\nmodel=\\\"gpt-4-0125-preview\\\")\\nfunctions = [format_tool_to_openai_function(t) for t in tools]\\nmodel = model.bind_functions(functions)\\nresponse = model.invoke(messages)\\n# 이것은 기존 목록에 추가될 것이므로 리스트를 반환합니다.\\n return {\\\"messages\\\": [response]}\\ndef retrieve(state):\\n\\\"\\\"\\\"\\n도구를 사용하여 검색을 실행합니다.\\nArgs:\\nstate (messages): 현재 상태\\nReturns:\\ndict: 검색된 문서가 추가된 업데이트된 상태\\n\\\"\\\"\\\"\\nprint(\\\"---EXECUTE RETRIEVAL---\\\")\\nmessages = state[\\\"messages\\\"]\\n# 계속 조건을 기반으로 마지막 메시지가 함수 호출을 포함하고 있음을 알 수 있습니다.\\n last_message = messages[-1]\\n# 함수 호출에서 ToolInvocation을 구성합니다.\\n action = ToolInvocation(\\ntool=last_message.additional_kwargs[\\\"function_call\\\"][\\\"name\\\"],\\ntool_input=json.loads(\\nlast_message.additional_kwargs[\\\"function_call\\\"][\\\"arguments\\\"]\\n),\\n)\\n# 도구 실행자를 호출하고 응답을 받습니다.\\n response = tool_executor.invoke(action)\\nfunction_message = FunctionMessage(content=str(response), name=action.tool)\\n# 이것은 기존 목록에 추가될 것이므로 리스트를 반환합니다.\\n return {\\\"messages\\\": [function_message]}\\ndef rewrite(state):\\n\\\"\\\"\\\"\\n질문을 변형하여 더 나은 질문을 생성합니다.\\nArgs:\\nstate (messages): 현재 상태\\nReturns:\\ndict: 재구성된 질문이 추가된 업데이트된 상태\\n\\\"\\\"\\\"\\nprint(\\\"---TRANSFORM QUERY---\\\")\\nmessages = state[\\\"messages\\\"]\\nquestion = messages[0].content\\nmsg = [\\nHumanMessage(\\ncontent=f\\\"\\\"\\\" \\\\n\\nLook at the input and try to reason about the underlying semantic intent / meaning. \\\\n\\nHere is the initial question:\\n\\\\n ------- \\\\n\\n{question}\\n\\\\n ------- \\\\n\\nFormulate an improved question: \\\"\\\"\\\",\\n)\\n]\\n# 평가자\\n model = ChatOpenAI(\\ntemperature=0, model=\\\"gpt-4-0125-preview\\\", streaming=True)\\nresponse = model.invoke(msg)\\nreturn {\\\"messages\\\": [response]}\\ndef generate(state):\\n\\\"\\\"\\\"\\n답변 생성\\nArgs:\\nstate (messages): 현재 상태\\nReturns:\\ndict: 재구성된 질문이 추가된 업데이트된 상태\\n\\\"\\\"\\\"\\nprint(\\\"---GENERATE---\\\")\\nmessages = state[\\\"messages\\\"]\\nquestion = messages[0].content\\nlast_message = messages[-1]\\nquestion = messages[0].content\\ndocs = last_message.content\\n# 프롬프트\\n prompt = hub.pull(\\\"rlm/rag-prompt\\\")\\n# LLM\\n llm = ChatOpenAI(model_name=\\\"gpt-4-turbo-preview\\\",\\ntemperature=0, streaming=True)\\n# 후처리\\n def format_docs(docs):\\nreturn \\\"\\\\n\\\\n\\\".join(doc.page_content for doc in docs)\\n# 체인\\n rag_chain = prompt | llm | StrOutputParser()\\n# 실행\\n response = rag_chain.invoke({\\\"context\\\": docs, \\\"question\\\": question})\\nreturn {\\\"messages\\\": [response]}`\\n\\n## Graph\\n\\n에이전트로 시작하며, `call_model`\\n\\n`call_model`\\n\\n에이전트는 함수를 호출할지 결정합니다\\n\\n만약 호출한다면, 도구(검색기)를 호출하는 `action`을 수행합니다\\n\\n`action`\\n\\n그 다음 메시지(`state`)에 도구의 출력을 추가하여 에이전트를 호출합니다\\n\\n`state`\\n\\n`StateGraph` 클래스는 상태 기반 그래프를 정의하고 관리하는 데 사용됩니다.\\n\\n`StateGraph`\\n`from langgraph.graph import END, StateGraph\\n# langgraph.graph에서 StateGraph와 END를 가져옵니다.\\nworkflow = StateGraph(AgentState)\\n# 순환할 노드들을 정의합니다.\\nworkflow.add_node(\\\"agent\\\", agent) # 에이전트 노드를 추가합니다.\\nworkflow.add_node(\\\"retrieve\\\", retrieve) # 정보 검색 노드를 추가합니다.\\nworkflow.add_node(\\\"rewrite\\\", rewrite) # 정보 재작성 노드를 추가합니다.\\nworkflow.add_node(\\\"generate\\\", generate) # 정보 생성 노드를 추가합니다.`\\n\\n주어진 코드는 워크플로우를 설정하여 에이전트의 결정에 따라 문서를 검색하거나 다른 작업을 수행하는 과정을 정의합니다.\\n\\n처음에는 `agent` 노드를 시작점으로 설정하고, 에이전트의 결정(`should_retrieve`)에 따라 `retrieve` 노드를 호출하거나 작업을 종료합니다.\\n\\n`agent`\\n`should_retrieve`\\n`retrieve`\\n\\n`retrieve` 노드 이후에는 문서의 평가(`grade_documents`)를 통해 `generate` 또는 `rewrite` 작업을 결정하고, 각각의 경로를 따라 최종적으로 작업을 마무리하거나 에이전트로 돌아가는 과정을 포함합니다.\\n\\n`retrieve`\\n`grade_documents`\\n`generate`\\n`rewrite`\\n\\n이 과정은 복잡한 결정과 작업의 흐름을 관리하는 데 사용될 수 있으며, 최종적으로 워크플로우를 컴파일하여 실행 가능한 애플리케이션을 생성합니다.\\n\\n`# 에이전트 노드 호출하여 검색 여부 결정\\nworkflow.set_entry_point(\\\"agent\\\")\\n# 검색 여부 결정\\nworkflow.add_conditional_edges(\\n\\\"agent\\\",\\n# 에이전트 결정 평가\\n should_retrieve,\\n{\\n# 도구 노드 호출\\n \\\"continue\\\": \\\"retrieve\\\",\\n\\\"end\\\": END,\\n},\\n)\\n# `action` 노드 호출 후 진행될 경로\\nworkflow.add_conditional_edges(\\n\\\"retrieve\\\",\\n# 에이전트 결정 평가\\n grade_documents,\\n{\\n\\\"yes\\\": \\\"generate\\\",\\n\\\"no\\\": \\\"rewrite\\\",\\n},\\n)\\nworkflow.add_edge(\\\"generate\\\", END)\\nworkflow.add_edge(\\\"rewrite\\\", \\\"agent\\\")\\n# 컴파일\\napp = workflow.compile()`\\n\\n다음은 `langchain_core.messages` 모듈의 `HumanMessage` 클래스를 활용하여 사용자의 질문을 정의하고, `app.stream` 메소드를 통해 이 질문에 대한 응답을 스트리밍하는 과정을 보여줍니다.\\n\\n`langchain_core.messages`\\n`HumanMessage`\\n`app.stream`\\n`import pprint\\nfrom langchain_core.messages import HumanMessage\\n# HumanMessage 객체를 사용하여 질문 메시지를 정의합니다.\\ninputs = {\\n\\\"messages\\\": [\\nHumanMessage(\\ncontent=\\\"What does Lilian Weng say about the types of agent memory?\\\"\\n)\\n]\\n}\\n# app.stream을 통해 입력된 메시지에 대한 출력을 스트리밍합니다.\\nfor output in app.stream(inputs):\\n# 출력된 결과에서 키와 값을 순회합니다.\\n for key, value in output.items():\\n# 노드의 이름과 해당 노드에서 나온 출력을 출력합니다.\\n pprint.pprint(f\\\"Output from node '{key}':\\\")\\npprint.pprint(\\\"---\\\")\\n# 출력 값을 예쁘게 출력합니다.\\n pprint.pprint(value, indent=2, width=80, depth=None)\\n# 각 출력 사이에 구분선을 추가합니다.\\n pprint.pprint(\\\"\\\\n---\\\\n\\\")`\\n\\n## Reference\\n\\n본 튜토리얼은 langchain-ai 튜토리얼 노트북 파일을 참조하여 작성하였습니다.\\n\\n`본 내용의 저작권은 2024년 테디노트(https://teddylee777.github.io)에 있습니다. 모든 권리는 저작권자에게 있으며, teddylee777@gmail.com으로 문의할 수 있습니다.\\n본 내용의 무단 전재 및 재배포를 금지합니다. 본 내용의 전체 혹은 일부를 인용할 경우, 출처를 명확히 밝혀주시기 바랍니다.\\n본 문서는 다른 문서의 내용을 참고하여 작성되었을 수 있습니다. 참고 자료는 본 문서 하단의 출처 목록에서 확인하실 수 있습니다.`\\n`MIT License`\\n\\n**태그:** \\n\\n[AI 애플리케이션](/tags/#ai-%EC%95%A0%ED%94%8C%EB%A6%AC%EC%BC%80%EC%9D%B4%EC%85%98), \\n[langchain](/tags/#langchain), \\n[langgraph](/tags/#langgraph), \\n[openai](/tags/#openai), \\n[python](/tags/#python), \\n[retrieval agent](/tags/#retrieval-agent), \\n[검색 에이전트](/tags/#%EA%B2%80%EC%83%89-%EC%97%90%EC%9D%B4%EC%A0%84%ED%8A%B8), \\n[그래프 기반 데이터 처리](/tags/#%EA%B7%B8%EB%9E%98%ED%94%84-%EA%B8%B0%EB%B0%98-%EB%8D%B0%EC%9D%B4%ED%84%B0-%EC%B2%98%EB%A6%AC), \\n[데이터베이스 관리](/tags/#%EB%8D%B0%EC%9D%B4%ED%84%B0%EB%B2%A0%EC%9D%B4%EC%8A%A4-%EA%B4%80%EB%A6%AC), \\n[문서 검색](/tags/#%EB%AC%B8%EC%84%9C-%EA%B2%80%EC%83%89), \\n[정보 처리](/tags/#%EC%A0%95%EB%B3%B4-%EC%B2%98%EB%A6%AC)\\n\\n**카테고리:** \\n\\n[langgraph](/categories/#langgraph)\\n\\n**업데이트:** 2024년 03월 06일\\n\\n#### 공유하기\\n\\n#### 댓글남기기\\n\\n## 참고\\n\\n## [poetry 의 거의 모든것 (튜토리얼)](/poetry/poetry-tutorial/)\\n\\n2024년 03월 30일\\n\\n\\n\\n5 분 소요\\n\\nPython 개발에 있어서 poetry는 매우 강력한 도구로, 프로젝트의 의존성 관리와 패키지 배포를 간소화하는 데 큰 도움을 줍니다. 지금부터 poetry 활용 튜토리얼을 살펴 보겠습니다.\\n\\n## [[Assistants API] Code Interpreter, Retrieval, Functions 활용법](/openai/openai-assistant-tutorial/)\\n\\n2024년 02월 13일\\n\\n\\n\\n34 분 소요\\n\\nOpenAI의 새로운 Assistants API는 대화와 더불어 강력한 도구 접근성을 제공합니다. 본 튜토리얼은 OpenAI Assistants API를 활용하는 내용을 다룹니다. 특히, Assistant API 가 제공하는 도구인 Code Interpreter, Retrieval...\\n\\n## [[LangChain] 에이전트(Agent)와 도구(tools)를 활용한 지능형 검색 시스템 구축 가이드](/langchain/langchain-agent/)\\n\\n2024년 02월 09일\\n\\n\\n\\n41 분 소요\\n\\n이 글에서는 LangChain 의 Agent 프레임워크를 활용하여 복잡한 검색과 데이터 처리 작업을 수행하는 방법을 소개합니다. LangSmith 를 사용하여 Agent의 추론 단계를 추적합니다. Agent가 활용할 검색 도구(Tavily Search), PDF 기반 검색 리트리버...\\n\\n## [LangChain RAG 파헤치기: 문서 기반 QA 시스템 설계 방법 - 심화편](/langchain/rag-tutorial/)\\n\\n2024년 02월 06일\\n\\n\\n\\n22 분 소요\\n\\nLangChain의 RAG 시스템을 통해 문서(PDF, txt, 웹페이지 등)에 대한 질문-답변을 찾는 과정을 정리하였습니다.\"}, {\"url\": \"https://teddylee777.github.io/langgraph/langgraph-multi-agent-collaboration/\", \"title\": \"LangGraph - Multi-Agent Collaboration(다중 협업 에이전트 ...\", \"content\": \"`format_tool_to_openai_function` 함수는 도구를 OpenAI 함수 형식으로 변환하는 데 사용되며, `ChatPromptTemplate.from_messages`는 에이전트에게 전달될 메시지 템플릿을 생성합니다. from langchain.tools.render import format_tool_to_openai_function def create_agent(llm, tools, system_message: str): from langchain_community.tools.tavily_search import TavilySearchResults `research_agent`와 `chart_agent`는 각각 연구자와 차트 생성기를 위한 에이전트를 생성하며, 이들은 `llm`을 사용하고 특정 도구(`tavily_tool`, `python_repl`)와 시스템 메시지를 설정합니다. `tool_node`는 상태 객체를 받아 마지막 메시지에서 도구 호출을 추출하고, 해당 도구를 실행한 후 결과를 `FunctionMessage` 형태로 반환합니다. tool_name = last_message.additional_kwargs[\\\"function_call\\\"][\\\"name\\\"] 만약 마지막 메시지의 `additional_kwargs`에 `function_call`이 포함되어 있다면, 이전 에이전트가 도구를 호출한 것으로 간주하고 `\\\"call_tool\\\"`을 반환합니다. `AgentState`를 기반으로 `StateGraph` 객체를 생성하고, `add_node` 메서드를 사용하여 여러 노드(`Researcher`, `Chart Generator`, `call_tool`)를 추가합니다. 예를 들어, `Researcher` 노드는 `router` 함수의 결과에 따라 `Chart Generator` 또는 `call_tool`로 이동하거나 워크플로우를 종료할 수 있습니다. ## [[LangChain] 에이전트(Agent)와 도구(tools)를 활용한 지능형 검색 시스템 구축 가이드](/langchain/langchain-agent/)\", \"score\": 0.2580108, \"raw_content\": \"**🔥알림🔥**\\n  \\n① 테디노트 **유튜브** -\\n[구경하러 가기!](https://www.youtube.com/@teddynote)\\n  \\n② LangChain **한국어 튜토리얼**\\n[바로가기 👀](https://github.com/teddylee777/langchain-kr)\\n  \\n③ 랭체인 노트 **무료 전자책**(wikidocs)\\n[바로가기 🙌](https://wikidocs.net/book/14314)\\n  \\n④ RAG 비법노트 LangChain **강의오픈**\\n[바로가기 🙌](https://bit.ly/4e1h8zO)\\n  \\n⑤ 서울대 **PyTorch 딥러닝 강의**\\n[바로가기 🙌](https://snui.snu.ac.kr/el/course/course_info_form.acl?COURSE_SEQ=496&LECTURE_SEQ=768)\\n\\n# [LangGraph - Multi-Agent Collaboration(다중 협업 에이전트) 로 복잡한 테스크를 수행하는 LLM 어플리케이션 제작](https://teddylee777.github.io/langgraph/langgraph-multi-agent-collaboration/)\\n\\n2024년 01월 29일\\n\\n\\n\\n26 분 소요\\n\\n#### 목차\\n\\nLangChain 에서 야심차게 LangGraph 를 새롭게 출시하였습니다. LangGraph 라이브러리가 출시하게 된 가장 큰 이유는 “복잡한 문제들은 단일 AI 에이전트만으로 해결하기 어렵다” 라는 문장에서 시작합니다.\\n\\n이 글에서는 LangGraph의 다중 에이전트 협업을 통해 이러한 문제들을 효과적으로 해결하는 방법을 소개합니다. 특히, LangGraph를 활용한 새로운 접근법을 중점적으로 다룹니다.\\n\\n## Reference\\n\\n본 튜토리얼은 LangGraph 튜토리얼 노트북 파일을 참조하여 작성하였습니다.\\n\\n`MIT License`\\n\\n### 실습파일\\n\\n[![](https://colab.research.google.com/assets/colab-badge.svg)](https://colab.research.google.com/drive/1ctZTJRVJvY8GGZ6Hb0RFszCRjw_pFeHF?usp=sharing)\\n\\n![](https://colab.research.google.com/assets/colab-badge.svg)\\n\\n### 요약\\n\\n**주요내용**\\n\\n### 튜토리얼 영상\\n\\n## 기본 다중 에이전트 협업\\n\\n단일 에이전트는 일반적으로 단일 도메인 내에서 소수의 도구를 사용하여 효과적으로 작동할 수 있지만, `gpt-4`와 같은 강력한 모델을 사용하더라도 많은 도구를 사용하는 데에는 덜 효과적일 수 있습니다.\\n\\n`gpt-4`\\n\\n복잡한 작업에 접근하는 한 가지 방법은 ‘나누고 정복하기(divide-and-conquer)’ 접근법입니다. 각 작업이나 도메인에 대해 전문화된 에이전트를 만들고 작업을 올바른 ‘전문가’에게 라우팅합니다.\\n\\n이 노트북은 Wu 등이 작성한 논문 [AutoGen: 다중 에이전트 대화를 통한 차세대 LLM 애플리케이션 가능하게 하기](https://arxiv.org/abs/2308.08155)에서 영감을 받아 LangGraph를 사용하여 이를 수행하는 한 가지 방법을 보여줍니다.\\n\\n결과적으로 생성된 그래프는 다음 다이어그램과 같은 모습일 것입니다.\\n\\n![다중 에이전트 다이어그램](https://raw.githubusercontent.com/langchain-ai/langgraph/9e59039232d8a9ba2c1d11fc6ef51400b5fc11d0/examples/multi_agent/img/simple_multi_agent_diagram.png)\\n\\n![다중 에이전트 다이어그램](https://raw.githubusercontent.com/langchain-ai/langgraph/9e59039232d8a9ba2c1d11fc6ef51400b5fc11d0/examples/multi_agent/img/simple_multi_agent_diagram.png)\\n\\n필요한 패키지를 설치합니다.\\n\\n`# langchain, langchain_openai, langsmith, pandas, langchain_experimental, matplotlib 패키지를 설치합니다.\\n# 이 코드는 패키지 설치를 위한 pip 명령어를 포함하고 있습니다.`\\n\\n`python-dotenv` 라이브러리를 사용하여 환경 변수에서 토큰 정보를 로드합니다.\\n\\n`python-dotenv`\\n\\n이 라이브러리는 `.env` 파일에 저장된 환경 변수를 읽어와서 Python 프로그램에서 사용할 수 있게 해줍니다. `load_dotenv` 함수를 호출하여 `.env` 파일의 내용을 로드합니다.\\n\\n`.env`\\n`load_dotenv`\\n`.env`\\n`# 토큰 정보를 로드하기 위한 라이브러리\\n# 설치 명령어: pip install python-dotenv\\nfrom dotenv import load_dotenv\\n# 토큰 정보 로드\\nload_dotenv()`\\n\\n`_set_if_undefined`는 환경 변수가 설정되어 있지 않을 경우 사용자로부터 해당 환경 변수의 값을 입력받아 설정하는 역할을 합니다. 이 함수는 `OPENAI_API_KEY`, `LANGCHAIN_API_KEY`, `TAVILY_API_KEY` 세 개의 API 키에 대해 환경 변수가 설정되어 있는지 확인하고, 없을 경우 사용자에게 입력을 요청합니다.\\n\\n`_set_if_undefined`\\n`OPENAI_API_KEY`\\n`LANGCHAIN_API_KEY`\\n`TAVILY_API_KEY`\\n\\n또한, LangSmith 추적 기능을 활성화하고 프로젝트 이름을 ‘Multi-agent Collaboration’으로 설정합니다.\\n\\n`import getpass\\nimport os\\ndef _set_if_undefined(var: str):\\n# 주어진 환경 변수가 설정되어 있지 않다면 사용자에게 입력을 요청하여 설정합니다.\\n if not os.environ.get(var):\\nos.environ[var] = getpass.getpass(f\\\"Please provide your {var}\\\")\\n# OPENAI_API_KEY 환경 변수가 설정되어 있지 않으면 사용자에게 입력을 요청합니다.\\n_set_if_undefined(\\\"OPENAI_API_KEY\\\")\\n# LANGCHAIN_API_KEY 환경 변수가 설정되어 있지 않으면 사용자에게 입력을 요청합니다.\\n_set_if_undefined(\\\"LANGCHAIN_API_KEY\\\")\\n# TAVILY_API_KEY 환경 변수가 설정되어 있지 않으면 사용자에게 입력을 요청합니다.\\n_set_if_undefined(\\\"TAVILY_API_KEY\\\")\\n# LangSmith 추적 기능을 활성화합니다. (선택적)\\nos.environ[\\\"LANGCHAIN_TRACING_V2\\\"] = \\\"true\\\"\\nos.environ[\\\"LANGCHAIN_PROJECT\\\"] = \\\"Multi-agent Collaboration\\\"`\\n\\n## 에이전트 생성\\n\\n`create_agent`는 AI 에이전트를 생성하는 데 사용됩니다. 이 에이전트는 다른 AI 보조자들과 협력하여 제공된 도구들을 사용해 질문에 대한 답변을 진행합니다. 에이전트는 최종 답변을 할 수 있는 경우 응답 앞에 ‘FINAL ANSWER’라고 표시하여 팀이 작업을 멈출 수 있도록 합니다.\\n\\n`create_agent`\\n\\n`create_agent` 함수는 `llm`, `tools`, `system_message` 세 개의 매개변수를 받으며, 각 도구의 이름을 포함한 프롬프트를 생성하여 에이전트에게 전달합니다.\\n\\n`create_agent`\\n`llm`\\n`tools`\\n`system_message`\\n\\n`format_tool_to_openai_function` 함수는 도구를 OpenAI 함수 형식으로 변환하는 데 사용되며, `ChatPromptTemplate.from_messages`는 에이전트에게 전달될 메시지 템플릿을 생성합니다. 마지막으로, 생성된 프롬프트는 `llm.bind_functions`을 통해 에이전트의 기능과 결합됩니다.\\n\\n`format_tool_to_openai_function`\\n`ChatPromptTemplate.from_messages`\\n`llm.bind_functions`\\n`import json\\nfrom langchain_core.messages import (\\nBaseMessage,\\nFunctionMessage,\\nHumanMessage,\\n)\\nfrom langchain.tools.render import format_tool_to_openai_function\\nfrom langchain.prompts import ChatPromptTemplate, MessagesPlaceholder\\nfrom langgraph.graph import END, StateGraph\\nfrom langgraph.prebuilt.tool_executor import ToolExecutor, ToolInvocation\\ndef create_agent(llm, tools, system_message: str):\\n# 에이전트를 생성합니다.\\n functions = [format_tool_to_openai_function(t) for t in tools]\\nprompt = ChatPromptTemplate.from_messages(\\n[\\n(\\n\\\"system\\\",\\n\\\"You are a helpful AI assistant, collaborating with other assistants.\\\"\\n\\\" Use the provided tools to progress towards answering the question.\\\"\\n\\\" If you are unable to fully answer, that's OK, another assistant with different tools \\\"\\n\\\" will help where you left off. Execute what you can to make progress.\\\"\\n\\\" If you or any of the other assistants have the final answer or deliverable,\\\"\\n\\\" prefix your response with FINAL ANSWER so the team knows to stop.\\\"\\n\\\" You have access to the following tools: {tool_names}.\\\\n{system_message}\\\",\\n),\\nMessagesPlaceholder(variable_name=\\\"messages\\\"),\\n]\\n)\\nprompt = prompt.partial(system_message=system_message)\\nprompt = prompt.partial(tool_names=\\\", \\\".join(\\n[tool.name for tool in tools]))\\nreturn prompt | llm.bind_functions(functions)`\\n\\n## Tool(도구) 정의\\n\\n우리의 에이전트들이 미래에 사용할 몇 가지 도구들을 정의할 것입니다\\n\\n함수 `python_repl`은 주어진 파이썬 코드를 실행하고 그 결과를 반환합니다. 이 함수는 `tool` 데코레이터로 장식되어 있으며, 사용자가 제공한 코드를 `PythonREPL` 인스턴스를 통해 실행합니다.\\n\\n`python_repl`\\n`tool`\\n`PythonREPL`\\n\\n실행 결과는 표준 출력으로 반환되며, 실행 중 발생한 예외는 오류 메시지와 함께 반환됩니다. 사용자는 `print(...)` 함수를 사용하여 값을 출력할 수 있습니다.\\n\\n`print(...)`\\n\\n이 함수는 차트 생성과 같은 작업에 사용될 수 있습니다.\\n\\n`from langchain_core.tools import tool\\nfrom typing import Annotated\\nfrom langchain_experimental.utilities import PythonREPL\\nfrom langchain_community.tools.tavily_search import TavilySearchResults\\ntavily_tool = TavilySearchResults(max_results=5)\\nrepl = PythonREPL()\\n@tool\\ndef python_repl(\\ncode: Annotated[str, \\\"The python code to execute to generate your chart.\\\"]\\n):\\n\\\"\\\"\\\"Use this to execute python code. If you want to see the output of a value,\\nyou should print it out with `print(...)`. This is visible to the user.\\\"\\\"\\\"\\ntry:\\nresult = repl.run(code)\\nexcept BaseException as e:\\nreturn f\\\"Failed to execute. Error: {repr(e)}\\\"\\nreturn f\\\"Succesfully executed:\\\\n```python\\\\n{code}\\\\n```\\\\nStdout: {result}\\\"`\\n\\n## 그래프 생성\\n\\n이제 우리는 도구를 정의하고 몇 가지 헬퍼 함수를 만들었으므로, 아래에서 개별 에이전트를 생성하고 LangGraph를 사용하여 서로 통신하는 방법을 알려줄 것입니다.\\n\\n### 상태 정의\\n\\n우리는 먼저 그래프의 상태를 정의합니다. 이것은 가장 최근의 발신자를 추적하는 키와 함께 메시지의 리스트일 것입니다.\\n\\n이 코드는 `langchain` 라이브러리를 사용하여 AI 에이전트와 상호작용하는 그래프 기반의 시스템을 구축하기 위한 준비 작업을 포함하고 있습니다.\\n\\n`langchain`\\n\\n`AgentState` 클래스는 에이전트의 상태를 나타내며, `messages`는 `BaseMessage` 객체의 시퀀스로 구성되며, `sender`는 메시지를 보낸 사람의 식별자를 나타냅니다.\\n\\n`AgentState`\\n`messages`\\n`BaseMessage`\\n`sender`\\n\\n`Annotated`와 `operator.add`를 사용하여 `messages` 필드에 메시지를 추가할 수 있는 기능을 제공합니다.\\n\\n`Annotated`\\n`operator.add`\\n`messages`\\n`import operator\\nfrom typing import Annotated, Sequence, Tuple, TypedDict, Union\\nfrom langchain_openai import ChatOpenAI\\nfrom typing_extensions import TypedDict\\n# 각 에이전트와 도구에 대한 다른 노드를 생성할 것입니다. 이 클래스는 그래프의 각 노드 사이에서 전달되는 객체를 정의합니다.\\nclass AgentState(TypedDict):\\nmessages: Annotated[Sequence[BaseMessage], operator.add]\\nsender: str`\\n\\n### 에이전트 노드 정의하기\\n\\n이제 노드를 정의할 필요가 있습니다. 먼저, 에이전트들을 위한 노드를 정의합시다.\\n\\n함수 `agent_node`는 주어진 에이전트의 상태를 처리하고, 결과 메시지와 발신자 정보를 포함하는 딕셔너리를 반환합니다. `FunctionMessage` 인스턴스인 경우에는 특별한 처리를 하지 않고, 그렇지 않은 경우에는 `HumanMessage` 인스턴스로 변환합니다.\\n\\n`agent_node`\\n`FunctionMessage`\\n`HumanMessage`\\n\\n`ChatOpenAI` 클래스의 인스턴스 `llm`은 모델 `gpt-4-1106-preview`를 사용하여 생성됩니다.\\n\\n`ChatOpenAI`\\n`llm`\\n`gpt-4-1106-preview`\\n\\n`research_agent`와 `chart_agent`는 각각 연구자와 차트 생성기를 위한 에이전트를 생성하며, 이들은 `llm`을 사용하고 특정 도구(`tavily_tool`, `python_repl`)와 시스템 메시지를 설정합니다. `research_node`와 `chart_node`는 `functools.partial`을 사용하여 `agent_node` 함수에 필요한 인자를 미리 설정한 콜백 함수를 생성합니다.\\n\\n`research_agent`\\n`chart_agent`\\n`llm`\\n`tavily_tool`\\n`python_repl`\\n`research_node`\\n`chart_node`\\n`functools.partial`\\n`agent_node`\\n`import functools\\ndef agent_node(state, agent, name):\\nresult = agent.invoke(state)\\nif isinstance(result, FunctionMessage):\\npass\\nelse:\\nresult = HumanMessage(**result.dict(exclude={\\\"type\\\", \\\"name\\\"}), name=name)\\nreturn {\\n\\\"messages\\\": [result],\\n\\\"sender\\\": name,\\n}\\nllm = ChatOpenAI(model=\\\"gpt-4-1106-preview\\\")\\n# Research agent and node\\nresearch_agent = create_agent(\\nllm,\\n[tavily_tool],\\nsystem_message=\\\"You should provide accurate data for the chart generator to use.\\\",\\n)\\nresearch_node = functools.partial(agent_node, agent=research_agent, name=\\\"Researcher\\\")\\n# Chart Generator\\nchart_agent = create_agent(\\nllm,\\n[python_repl],\\nsystem_message=\\\"Any charts you display will be visible by the user.\\\",\\n)\\nchart_node = functools.partial(agent_node, agent=chart_agent, name=\\\"Chart Generator\\\")`\\n\\n### Tool Node (도구 노드) 정의\\n\\n우리는 이제 도구를 실행하는 노드를 정의합니다\\n\\n`tool_node`는 상태 객체를 받아 마지막 메시지에서 도구 호출을 추출하고, 해당 도구를 실행한 후 결과를 `FunctionMessage` 형태로 반환합니다.\\n\\n`tool_node`\\n`FunctionMessage`\\n\\n이 함수는 `ToolExecutor` 인스턴스를 사용하여 도구를 실행하며, 실행 결과는 새로운 메시지 리스트에 추가되어 반환됩니다.\\n\\n`ToolExecutor`\\n\\n단일 인자 입력은 값으로 직접 전달되며, 복수 인자의 경우 `ToolInvocation` 객체를 통해 전달됩니다.\\n\\n`ToolInvocation`\\n`tools = [tavily_tool, python_repl]\\ntool_executor = ToolExecutor(tools)\\ndef tool_node(state):\\n# 그래프에서 도구를 실행하는 함수입니다.\\n # 에이전트 액션을 입력받아 해당 도구를 호출하고 결과를 반환합니다.\\n messages = state[\\\"messages\\\"]\\n# 계속 조건에 따라 마지막 메시지가 함수 호출을 포함하고 있음을 알 수 있습니다.\\n last_message = messages[-1]\\n# ToolInvocation을 함수 호출로부터 구성합니다.\\n tool_input = json.loads(\\nlast_message.additional_kwargs[\\\"function_call\\\"][\\\"arguments\\\"]\\n)\\n# 단일 인자 입력은 값으로 직접 전달할 수 있습니다.\\n if len(tool_input) == 1 and \\\"__arg1\\\" in tool_input:\\ntool_input = next(iter(tool_input.values()))\\ntool_name = last_message.additional_kwargs[\\\"function_call\\\"][\\\"name\\\"]\\naction = ToolInvocation(\\ntool=tool_name,\\ntool_input=tool_input,\\n)\\n# 도구 실행자를 호출하고 응답을 받습니다.\\n response = tool_executor.invoke(action)\\n# 응답을 사용하여 FunctionMessage를 생성합니다.\\n function_message = FunctionMessage(\\ncontent=f\\\"{tool_name} response: {str(response)}\\\", name=action.tool\\n)\\n# 기존 리스트에 추가될 리스트를 반환합니다.\\n return {\\\"messages\\\": [function_message]}`\\n\\n### 에지 로직 정의\\n\\n에이전트의 결과에 따라 무엇을 할지 결정하는 데 필요한 일부 에지 로직을 정의할 수 있습니다.\\n\\n`router`는 상태 정보를 받아서 다음 단계를 결정합니다. 상태 정보에서 마지막 메시지를 확인하고, 이 메시지에 특정 키워드가 포함되어 있는지에 따라 다음 단계를 반환합니다.\\n\\n`router`\\n\\n만약 마지막 메시지의 `additional_kwargs`에 `function_call`이 포함되어 있다면, 이전 에이전트가 도구를 호출한 것으로 간주하고 `\\\"call_tool\\\"`을 반환합니다. 만약 마지막 메시지의 내용에 `\\\"FINAL ANSWER\\\"`가 포함되어 있다면, 작업이 완료되었다고 판단하고 `\\\"end\\\"`를 반환합니다. 그렇지 않으면 작업을 계속 진행해야 하므로 `\\\"continue\\\"`를 반환합니다.\\n\\n`additional_kwargs`\\n`function_call`\\n`\\\"call_tool\\\"`\\n`\\\"FINAL ANSWER\\\"`\\n`\\\"end\\\"`\\n`\\\"continue\\\"`\\n`def router(state):\\n# 상태 정보를 기반으로 다음 단계를 결정하는 라우터 함수\\n messages = state[\\\"messages\\\"]\\nlast_message = messages[-1]\\nif \\\"function_call\\\" in last_message.additional_kwargs:\\n# 이전 에이전트가 도구를 호출함\\n return \\\"call_tool\\\"\\nif \\\"FINAL ANSWER\\\" in last_message.content:\\n# 어느 에이전트든 작업이 끝났다고 결정함\\n return \\\"end\\\"\\nreturn \\\"continue\\\"`\\n\\n### 그래프 정의하기\\n\\n이제 모든 것을 종합하여 그래프를 정의할 수 있습니다!\\n\\n`StateGraph` 클래스를 사용하여 상태 기반 워크플로우를 구성합니다.\\n\\n`StateGraph`\\n\\n`AgentState`를 기반으로 `StateGraph` 객체를 생성하고, `add_node` 메서드를 사용하여 여러 노드(`Researcher`, `Chart Generator`, `call_tool`)를 추가합니다.\\n\\n`AgentState`\\n`StateGraph`\\n`add_node`\\n`Researcher`\\n`Chart Generator`\\n`call_tool`\\n\\n`add_conditional_edges` 메서드를 통해 조건부 엣지를 추가하여, 각 노드가 특정 조건에 따라 다른 노드로 이동할 수 있도록 합니다. 예를 들어, `Researcher` 노드는 `router` 함수의 결과에 따라 `Chart Generator` 또는 `call_tool`로 이동하거나 워크플로우를 종료할 수 있습니다. `call_tool` 노드는 `sender` 필드를 기반으로 원래 호출한 노드로 돌아갑니다.\\n\\n`add_conditional_edges`\\n`Researcher`\\n`router`\\n`Chart Generator`\\n`call_tool`\\n`call_tool`\\n`sender`\\n\\n마지막으로 `set_entry_point` 메서드로 시작점을 `Researcher`로 설정하고, `compile` 메서드로 워크플로우 그래프를 컴파일합니다.\\n\\n`set_entry_point`\\n`Researcher`\\n`compile`\\n`workflow = StateGraph(AgentState)\\nworkflow.add_node(\\\"Researcher\\\", research_node)\\nworkflow.add_node(\\\"Chart Generator\\\", chart_node)\\nworkflow.add_node(\\\"call_tool\\\", tool_node)\\nworkflow.add_conditional_edges(\\n\\\"Researcher\\\",\\nrouter,\\n{\\\"continue\\\": \\\"Chart Generator\\\", \\\"call_tool\\\": \\\"call_tool\\\", \\\"end\\\": END},\\n)\\nworkflow.add_conditional_edges(\\n\\\"Chart Generator\\\",\\nrouter,\\n{\\\"continue\\\": \\\"Researcher\\\", \\\"call_tool\\\": \\\"call_tool\\\", \\\"end\\\": END},\\n)\\nworkflow.add_conditional_edges(\\n\\\"call_tool\\\",\\nlambda x: x[\\\"sender\\\"],\\n{\\n\\\"Researcher\\\": \\\"Researcher\\\",\\n\\\"Chart Generator\\\": \\\"Chart Generator\\\",\\n},\\n)\\nworkflow.set_entry_point(\\\"Researcher\\\")\\ngraph = workflow.compile()`\\n\\n## 호출\\n\\n그래프가 생성되었으니 이제 호출할 수 있습니다! 몇 가지 통계를 차트로 나타내도록 해봅시다.\\n\\n이 코드는 `graph` 객체의 `stream` 메소드를 사용하여 데이터를 스트리밍합니다.\\n\\n`graph`\\n`stream`\\n\\n`HumanMessage` 객체를 사용하여 대한민국의 2018년부터 2022년까지의 출산율 데이터를 요청하고, 해당 데이터에 대한 그래프를 그리도록 요청합니다. 또한, 코드 실행이 완료되면 종료하도록 메시지에 포함되어 있습니다.\\n\\n`HumanMessage`\\n\\n스트림은 최대 200번의 재귀 호출로 제한됩니다.\\n\\n`for s in graph.stream(\\n{\\n\\\"messages\\\": [\\nHumanMessage(\\ncontent=\\\"대한민국의 2018년 ~ 2022년의 합계출산율에 대한 데이터를 찾아줘, \\\"\\n\\\"그리고 2023, 2024, 2025년에 대한 전망도 찾아줘, \\\"\\n\\\"마지막으로 수집한 데이터에 대한 그래프를 그려줘. \\\"\\n\\\"코드 작성을 완료했다면 종료해줘.\\\"\\n)\\n],\\n},\\n# 그래프에서 수행할 최대 단계 수\\n {\\\"recursion_limit\\\": 200},\\n):\\nprint(s)\\nprint(\\\"----\\\")`\\n\\n![](data:image/png;base64,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)\\n\\n![](data:image/png;base64,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)\\n\\n## 라이선스\\n\\n`MIT License\\nCopyright (c) LangChain, Inc.\\nPermission is hereby granted, free of charge, to any person obtaining a copy\\nof this software and associated documentation files (the \\\"Software\\\"), to deal\\nin the Software without restriction, including without limitation the rights\\nto use, copy, modify, merge, publish, distribute, sublicense, and/or sell\\ncopies of the Software, and to permit persons to whom the Software is\\nfurnished to do so, subject to the following conditions:\\nThe above copyright notice and this permission notice shall be included in all\\ncopies or substantial portions of the Software.\\nTHE SOFTWARE IS PROVIDED \\\"AS IS\\\", WITHOUT WARRANTY OF ANY KIND, EXPRESS OR\\nIMPLIED, INCLUDING BUT NOT LIMITED TO THE WARRANTIES OF MERCHANTABILITY,\\nFITNESS FOR A PARTICULAR PURPOSE AND NONINFRINGEMENT. IN NO EVENT SHALL THE\\nAUTHORS OR COPYRIGHT HOLDERS BE LIABLE FOR ANY CLAIM, DAMAGES OR OTHER\\nLIABILITY, WHETHER IN AN ACTION OF CONTRACT, TORT OR OTHERWISE, ARISING FROM,\\nOUT OF OR IN CONNECTION WITH THE SOFTWARE OR THE USE OR OTHER DEALINGS IN THE\\nSOFTWARE.`\\n\\n**태그:** \\n\\n[AutoGen](/tags/#autogen), \\n[LangChain](/tags/#langchain), \\n[LangGraph](/tags/#langgraph), \\n[LLM](/tags/#llm), \\n[Python](/tags/#python), \\n[그래프 기반 시스템](/tags/#%EA%B7%B8%EB%9E%98%ED%94%84-%EA%B8%B0%EB%B0%98-%EC%8B%9C%EC%8A%A4%ED%85%9C), \\n[노드](/tags/#%EB%85%B8%EB%93%9C), \\n[다중 에이전트](/tags/#%EB%8B%A4%EC%A4%91-%EC%97%90%EC%9D%B4%EC%A0%84%ED%8A%B8), \\n[데이터 스트리밍](/tags/#%EB%8D%B0%EC%9D%B4%ED%84%B0-%EC%8A%A4%ED%8A%B8%EB%A6%AC%EB%B0%8D), \\n[딥러닝](/tags/#%EB%94%A5%EB%9F%AC%EB%8B%9D), \\n[랭체인](/tags/#%EB%9E%AD%EC%B2%B4%EC%9D%B8), \\n[머신러닝](/tags/#%EB%A8%B8%EC%8B%A0%EB%9F%AC%EB%8B%9D), \\n[멀티에이전트](/tags/#%EB%A9%80%ED%8B%B0%EC%97%90%EC%9D%B4%EC%A0%84%ED%8A%B8), \\n[상태 정의](/tags/#%EC%83%81%ED%83%9C-%EC%A0%95%EC%9D%98), \\n[에지 로직](/tags/#%EC%97%90%EC%A7%80-%EB%A1%9C%EC%A7%81), \\n[협업](/tags/#%ED%98%91%EC%97%85), \\n[호출](/tags/#%ED%98%B8%EC%B6%9C)\\n\\n**카테고리:** \\n\\n[langgraph](/categories/#langgraph)\\n\\n**업데이트:** 2024년 01월 29일\\n\\n#### 공유하기\\n\\n#### 댓글남기기\\n\\n## 참고\\n\\n## [poetry 의 거의 모든것 (튜토리얼)](/poetry/poetry-tutorial/)\\n\\n2024년 03월 30일\\n\\n\\n\\n5 분 소요\\n\\nPython 개발에 있어서 poetry는 매우 강력한 도구로, 프로젝트의 의존성 관리와 패키지 배포를 간소화하는 데 큰 도움을 줍니다. 지금부터 poetry 활용 튜토리얼을 살펴 보겠습니다.\\n\\n## [LangGraph Retrieval Agent를 활용한 동적 문서 검색 및 처리](/langgraph/langgraph-agentic-rag/)\\n\\n2024년 03월 06일\\n\\n\\n\\n10 분 소요\\n\\nLangGraph Retrieval Agent는 언어 처리, AI 모델 통합, 데이터베이스 관리, 그래프 기반 데이터 처리 등 다양한 기능을 제공하여 언어 기반 AI 애플리케이션 개발에 필수적인 도구입니다.\\n\\n## [[Assistants API] Code Interpreter, Retrieval, Functions 활용법](/openai/openai-assistant-tutorial/)\\n\\n2024년 02월 13일\\n\\n\\n\\n35 분 소요\\n\\nOpenAI의 새로운 Assistants API는 대화와 더불어 강력한 도구 접근성을 제공합니다. 본 튜토리얼은 OpenAI Assistants API를 활용하는 내용을 다룹니다. 특히, Assistant API 가 제공하는 도구인 Code Interpreter, Retrieval...\\n\\n## [[LangChain] 에이전트(Agent)와 도구(tools)를 활용한 지능형 검색 시스템 구축 가이드](/langchain/langchain-agent/)\\n\\n2024년 02월 09일\\n\\n\\n\\n41 분 소요\\n\\n이 글에서는 LangChain 의 Agent 프레임워크를 활용하여 복잡한 검색과 데이터 처리 작업을 수행하는 방법을 소개합니다. LangSmith 를 사용하여 Agent의 추론 단계를 추적합니다. Agent가 활용할 검색 도구(Tavily Search), PDF 기반 검색 리트리버...\"}]\n",
      "==================================\u001b[1m Ai Message \u001b[0m==================================\n",
      "\n",
      "LangGraph에 대해 유용한 자료를 추천드립니다. 주로 **테디노트** 블로그에서 관련된 내용을 찾을 수 있습니다. 다음은 LangGraph와 관련된 몇 가지 튜토리얼 및 자료입니다:\n",
      "\n",
      "1. **[LangGraph Retrieval Agent를 활용한 동적 문서 검색 및 처리](https://teddylee777.github.io/langgraph/langgraph-agentic-rag/)**\n",
      "   - 이 블로그 포스트에서는 LangGraph와 Retrieval Agent의 통합 과정, 구현 방법, 실제 사용 예시를 다루고 있습니다. Python 코드를 중심으로 설명하며, 문서 검색 및 처리의 전체 흐름을 이해할 수 있도록 구성되어 있습니다.\n",
      "\n",
      "2. **[LangGraph - Multi-Agent Collaboration](https://teddylee777.github.io/langgraph/langgraph-multi-agent-collaboration/)**\n",
      "   - 이 글에서는 LangGraph의 다중 에이전트 협업 기능을 소개하고, 복잡한 문제를 효과적으로 해결하는 방법을 설명합니다. 다양한 에이전트를 통해 복잡한 작업을 분담하고 협력하는 방식에 대해 배울 수 있습니다.\n",
      "\n",
      "3. **[LangChain 어드밴스드 튜토리얼 - AI 애플리케이션](https://teddylee777.github.io/langchain/langchain-rag-naver-news-qa/)**\n",
      "   - 이 글에서는 LangChain을 활용하여 AI 모델과 다양한 도구를 조합하여 지능형 검색 시스템을 구축하는 방법을 설명합니다.\n",
      "\n",
      "이 외에도 LangGraph 관련 내용은 다양한 튜토리얼과 예제가 있어 학습하는 데 큰 도움이 될 것입니다. 각 링크를 통해 자세한 내용을 확인해 보시길 바랍니다!\n"
     ]
    }
   ],
   "source": [
    "# 그래프 스트림에서 이벤트 수신\n",
    "events = graph.stream(None, config, stream_mode=\"values\")\n",
    "\n",
    "# 각 이벤트에 대한 처리\n",
    "for event in events:\n",
    "    # 메시지가 있는 경우 마지막 메시지 출력\n",
    "    if \"messages\" in event:\n",
    "        event[\"messages\"][-1].pretty_print()"
   ]
  },
  {
   "cell_type": "code",
   "execution_count": 26,
   "id": "df57c7da",
   "metadata": {},
   "outputs": [
    {
     "name": "stdout",
     "output_type": "stream",
     "text": [
      "================================\u001b[1m Human Message \u001b[0m=================================\n",
      "\n",
      "내가 지금까지 배운 내용에 대해서 매우 친절하고 정성스럽게 한국어로 답변해줘! 출처를 반드시 포함해줘!\n",
      "==================================\u001b[1m Ai Message \u001b[0m==================================\n",
      "\n",
      "물론입니다! 지금까지 배운 LangGraph에 대한 내용을 정리해드릴게요.\n",
      "\n",
      "### LangGraph란 무엇인가?\n",
      "LangGraph는 자연어 처리와 AI 모델 통합, 데이터베이스 관리, 그래프 기반 데이터 처리 등 다양한 기능을 제공하는 도구입니다. 언어 기반 AI 애플리케이션 개발에 필수적인 요소로서, 개발자가 복잡한 작업을 효과적으로 처리할 수 있도록 도와줍니다.\n",
      "\n",
      "### 주요 자료 및 튜토리얼\n",
      "\n",
      "1. **LangGraph Retrieval Agent를 활용한 동적 문서 검색 및 처리**\n",
      "   - 이 포스트에서는 LangGraph와 Retrieval Agent의 통합 과정과 구현 방법을 다루고 있습니다. 특히, Python 코드를 중심으로 문서 검색 및 처리의 전체 흐름을 설명하고 있습니다.\n",
      "   - [링크: LangGraph Retrieval Agent 활용](https://teddylee777.github.io/langgraph/langgraph-agentic-rag/)\n",
      "\n",
      "2. **LangGraph - Multi-Agent Collaboration**\n",
      "   - 이 글에서는 LangGraph의 다중 에이전트 협업 기능을 소개하며, 복잡한 문제를 효과적으로 해결하는 방법에 대해 설명합니다. 각 에이전트를 통해 작업을 분담하고 협력하는 방법을 배울 수 있습니다.\n",
      "   - [링크: LangGraph Multi-Agent Collaboration](https://teddylee777.github.io/langgraph/langgraph-multi-agent-collaboration/)\n",
      "\n",
      "3. **LangChain 어드밴스드 튜토리얼**\n",
      "   - AI 모델과 다양한 도구를 조합하여 지능형 검색 시스템을 구축하는 방법을 다루고 있으며, LangGraph의 활용을 깊이 있게 설명하고 있습니다.\n",
      "   - [링크: LangChain 튜토리얼](https://teddylee777.github.io/langchain/langchain-rag-naver-news-qa/)\n",
      "\n",
      "이 자료들은 LangGraph의 기본 개념과 활용 사례를 이해하는 데 큰 도움이 될 것입니다. 각 링크를 클릭하여 더욱 자세한 내용을 확인해 보세요!\n",
      "\n",
      "출처: \n",
      "- 테디노트 [teddylee777.github.io](https://teddylee777.github.io/)\n"
     ]
    }
   ],
   "source": [
    "# 이벤트 스트림 생성\n",
    "events = graph.stream(\n",
    "    {\n",
    "        \"messages\": (\n",
    "            \"user\",\n",
    "            \"내가 지금까지 배운 내용에 대해서 매우 친절하고 정성스럽게 한국어로 답변해줘! 출처를 반드시 포함해줘!\",\n",
    "        )\n",
    "    },\n",
    "    config,\n",
    "    stream_mode=\"values\",\n",
    ")\n",
    "\n",
    "# 메시지 이벤트 처리\n",
    "for event in events:\n",
    "    if \"messages\" in event:\n",
    "        # 마지막 메시지 출력\n",
    "        event[\"messages\"][-1].pretty_print()"
   ]
  },
  {
   "cell_type": "markdown",
   "id": "40da8a3c",
   "metadata": {},
   "source": [
    "최종 상태에서 `messages` 의 마지막 메시지를 확인합니다. (이는 곧 최종 응답 메시지입니다.)"
   ]
  },
  {
   "cell_type": "code",
   "execution_count": 27,
   "id": "f0e4a062",
   "metadata": {},
   "outputs": [
    {
     "name": "stdout",
     "output_type": "stream",
     "text": [
      "==================================\u001b[1m Ai Message \u001b[0m==================================\n",
      "\n",
      "물론입니다! 지금까지 배운 LangGraph에 대한 내용을 정리해드릴게요.\n",
      "\n",
      "### LangGraph란 무엇인가?\n",
      "LangGraph는 자연어 처리와 AI 모델 통합, 데이터베이스 관리, 그래프 기반 데이터 처리 등 다양한 기능을 제공하는 도구입니다. 언어 기반 AI 애플리케이션 개발에 필수적인 요소로서, 개발자가 복잡한 작업을 효과적으로 처리할 수 있도록 도와줍니다.\n",
      "\n",
      "### 주요 자료 및 튜토리얼\n",
      "\n",
      "1. **LangGraph Retrieval Agent를 활용한 동적 문서 검색 및 처리**\n",
      "   - 이 포스트에서는 LangGraph와 Retrieval Agent의 통합 과정과 구현 방법을 다루고 있습니다. 특히, Python 코드를 중심으로 문서 검색 및 처리의 전체 흐름을 설명하고 있습니다.\n",
      "   - [링크: LangGraph Retrieval Agent 활용](https://teddylee777.github.io/langgraph/langgraph-agentic-rag/)\n",
      "\n",
      "2. **LangGraph - Multi-Agent Collaboration**\n",
      "   - 이 글에서는 LangGraph의 다중 에이전트 협업 기능을 소개하며, 복잡한 문제를 효과적으로 해결하는 방법에 대해 설명합니다. 각 에이전트를 통해 작업을 분담하고 협력하는 방법을 배울 수 있습니다.\n",
      "   - [링크: LangGraph Multi-Agent Collaboration](https://teddylee777.github.io/langgraph/langgraph-multi-agent-collaboration/)\n",
      "\n",
      "3. **LangChain 어드밴스드 튜토리얼**\n",
      "   - AI 모델과 다양한 도구를 조합하여 지능형 검색 시스템을 구축하는 방법을 다루고 있으며, LangGraph의 활용을 깊이 있게 설명하고 있습니다.\n",
      "   - [링크: LangChain 튜토리얼](https://teddylee777.github.io/langchain/langchain-rag-naver-news-qa/)\n",
      "\n",
      "이 자료들은 LangGraph의 기본 개념과 활용 사례를 이해하는 데 큰 도움이 될 것입니다. 각 링크를 클릭하여 더욱 자세한 내용을 확인해 보세요!\n",
      "\n",
      "출처: \n",
      "- 테디노트 [teddylee777.github.io](https://teddylee777.github.io/)\n"
     ]
    }
   ],
   "source": [
    "graph.get_state(config).values[\"messages\"][-1].pretty_print()"
   ]
  },
  {
   "cell_type": "markdown",
   "id": "21173667",
   "metadata": {},
   "source": [
    "## 지난 스냅샷의 결과 수정 및 Replay\n",
    "\n",
    "이번에는 지난 스냅샷의 결과를 수정하여 Replay 하는 방법을 살펴보겠습니다.\n",
    "\n",
    "지난 스냅샷을 확인 후 특정 노드로 되돌아가, **상태(State) 를 수정한 뒤 해당 노드부터 다시 진행**합니다.\n",
    "\n",
    "이를 Replay 라고 합니다.\n",
    "\n",
    "먼저 지난 스냅샷의 상태를 가져옵니다."
   ]
  },
  {
   "cell_type": "code",
   "execution_count": 28,
   "id": "3eba0794",
   "metadata": {},
   "outputs": [
    {
     "name": "stdout",
     "output_type": "stream",
     "text": [
      "run--4d9db49f-55bf-44c7-a687-1c89d9f22067-0\n",
      "메시지 수:  6 다음 노드:  ()\n",
      "--------------------------------------------------------------------------------\n",
      "2960f21e-2f65-4d57-9f43-b9010a4ca64e\n",
      "메시지 수:  5 다음 노드:  ('chatbot',)\n",
      "--------------------------------------------------------------------------------\n",
      "run--d857b9d3-7bca-4b24-b8fa-b51948f7a2b6-0\n",
      "메시지 수:  4 다음 노드:  ('__start__',)\n",
      "--------------------------------------------------------------------------------\n",
      "run--d857b9d3-7bca-4b24-b8fa-b51948f7a2b6-0\n",
      "메시지 수:  4 다음 노드:  ()\n",
      "--------------------------------------------------------------------------------\n",
      "f02e33aa-3f64-4249-8a4d-d6241ce07132\n",
      "메시지 수:  3 다음 노드:  ('chatbot',)\n",
      "--------------------------------------------------------------------------------\n",
      "run--c4196a5f-e0f6-4831-b08d-6ea7b75a8ba2-0\n",
      "메시지 수:  2 다음 노드:  ('tools',)\n",
      "--------------------------------------------------------------------------------\n",
      "run--c4196a5f-e0f6-4831-b08d-6ea7b75a8ba2-0\n",
      "메시지 수:  2 다음 노드:  ('tools',)\n",
      "--------------------------------------------------------------------------------\n",
      "6442a010-55f8-49ff-9083-1a386b6d1b38\n",
      "메시지 수:  1 다음 노드:  ('chatbot',)\n",
      "--------------------------------------------------------------------------------\n"
     ]
    }
   ],
   "source": [
    "to_replay_state = None\n",
    "\n",
    "# 상태 기록 가져오기\n",
    "for state in graph.get_state_history(config):\n",
    "\n",
    "    messages = state.values[\"messages\"]\n",
    "\n",
    "    if len(messages) > 0:\n",
    "        print(state.values[\"messages\"][-1].id)\n",
    "        # 메시지 수 및 다음 상태 출력\n",
    "        print(\"메시지 수: \", len(state.values[\"messages\"]), \"다음 노드: \", state.next)\n",
    "        print(\"-\" * 80)\n",
    "        # 특정 상태 선택 기준: 채팅 메시지 수\n",
    "        if len(state.values[\"messages\"]) == 2:\n",
    "            # 특정 메시지 ID 선택\n",
    "            to_replay_state = state"
   ]
  },
  {
   "cell_type": "markdown",
   "id": "23cadcca",
   "metadata": {},
   "source": [
    "선택한 메시지의 내용을 확인합니다."
   ]
  },
  {
   "cell_type": "code",
   "execution_count": 29,
   "id": "0463ea52",
   "metadata": {},
   "outputs": [
    {
     "name": "stdout",
     "output_type": "stream",
     "text": [
      "    \u001b[93mcontent\u001b[0m: \"\"\n",
      "    \u001b[93madditional_kwargs\u001b[0m:\n",
      "        \u001b[94mtool_calls\u001b[0m:\n",
      "            \u001b[94mindex [0]\u001b[0m\n",
      "                \u001b[92mid\u001b[0m: \"call_GQweW2fAQlDIhAeq95aow760\"\n",
      "                \u001b[92mfunction\u001b[0m: {\"arguments\": \"{\"query\":\"LangGraph 소개 및 자료\"}\", \"name\": \"tavily_web_search\"}\n",
      "                \u001b[92mtype\u001b[0m: \"function\"\n",
      "        \u001b[94mrefusal\u001b[0m: None\n",
      "    \u001b[93mresponse_metadata\u001b[0m:\n",
      "        \u001b[94mtoken_usage\u001b[0m:\n",
      "            \u001b[95mcompletion_tokens\u001b[0m: 21\n",
      "            \u001b[95mprompt_tokens\u001b[0m: 110\n",
      "            \u001b[95mtotal_tokens\u001b[0m: 131\n",
      "            \u001b[95mcompletion_tokens_details\u001b[0m: {\"accepted_prediction_tokens\": 0, \"audio_tokens\": 0, \"reasoning_tokens\": 0, \"rejected_prediction_tokens\": 0}\n",
      "            \u001b[95mprompt_tokens_details\u001b[0m: {\"audio_tokens\": 0, \"cached_tokens\": 0}\n",
      "        \u001b[94mmodel_name\u001b[0m: \"gpt-4o-mini-2024-07-18\"\n",
      "        \u001b[94msystem_fingerprint\u001b[0m: \"fp_34a54ae93c\"\n",
      "        \u001b[94mfinish_reason\u001b[0m: \"tool_calls\"\n",
      "        \u001b[94mlogprobs\u001b[0m: None\n",
      "    \u001b[93mtype\u001b[0m: \"ai\"\n",
      "    \u001b[93mname\u001b[0m: None\n",
      "    \u001b[93mid\u001b[0m: \"run--c4196a5f-e0f6-4831-b08d-6ea7b75a8ba2-0\"\n",
      "    \u001b[93mexample\u001b[0m: False\n",
      "    \u001b[93mtool_calls\u001b[0m:\n",
      "        \u001b[93mindex [0]\u001b[0m\n",
      "            \u001b[95mname\u001b[0m: \"tavily_web_search\"\n",
      "            \u001b[95margs\u001b[0m: {\"query\": \"LangGraph 소개 및 자료\"}\n",
      "            \u001b[95mid\u001b[0m: \"call_GQweW2fAQlDIhAeq95aow760\"\n",
      "            \u001b[95mtype\u001b[0m: \"tool_call\"\n",
      "    \u001b[93minvalid_tool_calls\u001b[0m:\n",
      "    \u001b[93musage_metadata\u001b[0m:\n",
      "        \u001b[94minput_tokens\u001b[0m: 110\n",
      "        \u001b[94moutput_tokens\u001b[0m: 21\n",
      "        \u001b[94mtotal_tokens\u001b[0m: 131\n",
      "        \u001b[94minput_token_details\u001b[0m: {\"audio\": 0, \"cache_read\": 0}\n",
      "        \u001b[94moutput_token_details\u001b[0m: {\"audio\": 0, \"reasoning\": 0}\n"
     ]
    }
   ],
   "source": [
    "from langchain_teddynote.messages import display_message_tree\n",
    "\n",
    "# 선택한 메시지 가져오기\n",
    "existing_message = to_replay_state.values[\"messages\"][-1]\n",
    "\n",
    "# 메시지 트리 출력\n",
    "display_message_tree(existing_message)"
   ]
  },
  {
   "cell_type": "markdown",
   "id": "770063e4",
   "metadata": {},
   "source": [
    "검색 쿼리를 업데이트 후 반영이 됐는지 확인합니다."
   ]
  },
  {
   "cell_type": "code",
   "execution_count": 30,
   "id": "7dbc1f15",
   "metadata": {},
   "outputs": [
    {
     "data": {
      "text/plain": [
       "{'name': 'tavily_web_search',\n",
       " 'args': {'query': 'LangGraph human-in-the-loop workflow site:reddit.com'},\n",
       " 'id': 'call_GQweW2fAQlDIhAeq95aow760',\n",
       " 'type': 'tool_call'}"
      ]
     },
     "execution_count": 30,
     "metadata": {},
     "output_type": "execute_result"
    }
   ],
   "source": [
    "tool_call = existing_message.tool_calls[0].copy()\n",
    "tool_call[\"args\"] = {\"query\": \"LangGraph human-in-the-loop workflow site:reddit.com\"}\n",
    "tool_call"
   ]
  },
  {
   "cell_type": "markdown",
   "id": "20a66f6d",
   "metadata": {},
   "source": [
    "업데이트된 AIMessage 를 생성합니다."
   ]
  },
  {
   "cell_type": "code",
   "execution_count": 31,
   "id": "2656f8db",
   "metadata": {},
   "outputs": [
    {
     "data": {
      "text/plain": [
       "{'query': 'LangGraph human-in-the-loop workflow site:reddit.com'}"
      ]
     },
     "execution_count": 31,
     "metadata": {},
     "output_type": "execute_result"
    }
   ],
   "source": [
    "# AIMessage 생성\n",
    "new_message = AIMessage(\n",
    "    content=existing_message.content,\n",
    "    tool_calls=[tool_call],\n",
    "    # 중요! ID는 메시지를 상태에 추가하는 대신 교체하는 방법\n",
    "    id=existing_message.id,\n",
    ")\n",
    "\n",
    "# 수정한 메시지 출력\n",
    "new_message.tool_calls[0][\"args\"]"
   ]
  },
  {
   "cell_type": "markdown",
   "id": "13751a91",
   "metadata": {},
   "source": [
    "아래는 업데이트가 되기 전의 메시지입니다."
   ]
  },
  {
   "cell_type": "code",
   "execution_count": 32,
   "id": "27eb7447",
   "metadata": {},
   "outputs": [
    {
     "data": {
      "text/plain": [
       "[{'name': 'tavily_web_search',\n",
       "  'args': {'query': 'LangGraph 소개 및 자료'},\n",
       "  'id': 'call_GQweW2fAQlDIhAeq95aow760',\n",
       "  'type': 'tool_call'}]"
      ]
     },
     "execution_count": 32,
     "metadata": {},
     "output_type": "execute_result"
    }
   ],
   "source": [
    "# 업데이트 전 메시지 확인\n",
    "graph.get_state(to_replay_state.config).values[\"messages\"][-1].tool_calls"
   ]
  },
  {
   "cell_type": "markdown",
   "id": "cabf5572",
   "metadata": {},
   "source": [
    "`graph` 에 `update_state` 메서드를 사용하여 상태를 업데이트 합니다.\n",
    "\n",
    "업데이트된 상태를 `updated_state` 에 저장합니다."
   ]
  },
  {
   "cell_type": "code",
   "execution_count": 33,
   "id": "41a6e114",
   "metadata": {},
   "outputs": [
    {
     "data": {
      "text/plain": [
       "{'configurable': {'thread_id': '515d27',\n",
       "  'checkpoint_ns': '',\n",
       "  'checkpoint_id': '1f05fec2-551b-6810-8002-932c27566ebe'}}"
      ]
     },
     "execution_count": 33,
     "metadata": {},
     "output_type": "execute_result"
    }
   ],
   "source": [
    "# 상태 업데이트\n",
    "updated_state = graph.update_state(\n",
    "    to_replay_state.config,\n",
    "    {\"messages\": [new_message]},\n",
    ")\n",
    "updated_state"
   ]
  },
  {
   "cell_type": "markdown",
   "id": "9036c5e4",
   "metadata": {},
   "source": [
    "이제 업데이트된 상태를 스트리밍 합니다. 여기서 입력은 `None` 으로 주어 Replay 합니다."
   ]
  },
  {
   "cell_type": "code",
   "execution_count": 34,
   "id": "fe04786b",
   "metadata": {},
   "outputs": [
    {
     "name": "stdout",
     "output_type": "stream",
     "text": [
      "==================================\u001b[1m Ai Message \u001b[0m==================================\n",
      "Tool Calls:\n",
      "  tavily_web_search (call_GQweW2fAQlDIhAeq95aow760)\n",
      " Call ID: call_GQweW2fAQlDIhAeq95aow760\n",
      "  Args:\n",
      "    query: LangGraph human-in-the-loop workflow site:reddit.com\n",
      "=================================\u001b[1m Tool Message \u001b[0m=================================\n",
      "Name: tavily_web_search\n",
      "\n",
      "[{\"url\": \"https://www.reddit.com/r/LangChain/comments/1bjnmu4/human_intervention_in_agent_workflows/\", \"title\": \"Human intervention in agent workflows : r/LangChain\", \"content\": \"When building LLM workflows with LangChain/LangGraph what's the best way to build a node in the workflow where a human can validate/approve/reject a flow?\", \"score\": 0.48703963, \"raw_content\": null}, {\"url\": \"https://www.reddit.com/r/LangGraph/comments/1ldiqtg/i_am_struggling_with_langgraphs_humanintheloop/\", \"title\": \"I am Struggling with LangGraph's Human-in-the-Loop. ...\", \"content\": \"I'm building an agent that needs to pause for human approval before executing sensitive actions (like sending emails or making API calls).\", \"score\": 0.44536126, \"raw_content\": null}, {\"url\": \"https://www.reddit.com/r/LangChain/comments/1hsjdto/how_to_enable_feedbackdriven_workflow_improvement/\", \"title\": \"How to Enable Feedback-Driven Workflow Improvement in ...\", \"content\": \"I want to configure a framework like Langraph to enable an AI agent to learn and refine its workflow selection based on past experience and user feedback.\", \"score\": 0.19314773, \"raw_content\": null}]\n",
      "==================================\u001b[1m Ai Message \u001b[0m==================================\n",
      "\n",
      "LangGraph에 대한 유용한 자료는 다음과 같습니다:\n",
      "\n",
      "1. [Human intervention in agent workflows](https://www.reddit.com/r/LangChain/comments/1bjnmu4/human_intervention_in_agent_workflows/) - LangChain에서 LLM 워크플로우를 구축할 때, 인간이 흐름을 검증하거나 승인 또는 거부할 수 있는 노드를 만드는 최선의 방법에 대한 논의가 포함되어 있습니다.\n",
      "\n",
      "2. [I am Struggling with LangGraph's Human-in-the-Loop](https://www.reddit.com/r/LangGraph/comments/1ldiqtg/i_am_struggling_with_langgraphs_humanintheloop/) - 민감한 작업(예: 이메일 전송 또는 API 호출을 수행하기 전에 인간의 승인을 받기 위해 LangGraph를 사용하는 방법에 대한 경험담을 공유하는 게시물입니다.\n",
      "\n",
      "3. [How to Enable Feedback-Driven Workflow Improvement](https://www.reddit.com/r/LangChain/comments/1hsjdto/how_to_enable_feedbackdriven_workflow_improvement/) - LangGraph와 같은 프레임워크를 구성하여 AI 에이전트가 과거 경험과 사용자 피드백을 기반으로 워크플로우 선택을 학습하고 개선하도록 하는 방법에 대한 논의가 포함되어 있습니다.\n",
      "\n",
      "이 자료들은 LangGraph의 활용과 관련된 다양한 통찰력을 제공하며, 커뮤니티의 경험을 통해 더 깊이 있는 이해를 돕습니다.\n"
     ]
    }
   ],
   "source": [
    "# config 에는 updated_state 를 전달합니다. 이는 임의로 갱신한 상태를 전달하는 것입니다.\n",
    "for event in graph.stream(None, updated_state, stream_mode=\"values\"):\n",
    "    # 메시지가 이벤트에 포함된 경우\n",
    "    if \"messages\" in event:\n",
    "        # 마지막 메시지 출력\n",
    "        event[\"messages\"][-1].pretty_print()"
   ]
  },
  {
   "cell_type": "markdown",
   "id": "c8dedf06",
   "metadata": {},
   "source": [
    "최종 결과를 출력합니다.\n",
    "\n",
    "이때 사용하는 `config` 는 최종 상태를 가져오는 것이 아니라, 최종 상태를 가져오기 위한 초기 `config` 입니다."
   ]
  },
  {
   "cell_type": "code",
   "execution_count": 35,
   "id": "24d3e865",
   "metadata": {},
   "outputs": [
    {
     "name": "stdout",
     "output_type": "stream",
     "text": [
      "================================\u001b[1m Human Message \u001b[0m=================================\n",
      "\n",
      "LangGraph 에 대해서 배워보고 싶습니다. 유용한 자료를 추천해 주세요!\n",
      "==================================\u001b[1m Ai Message \u001b[0m==================================\n",
      "Tool Calls:\n",
      "  tavily_web_search (call_GQweW2fAQlDIhAeq95aow760)\n",
      " Call ID: call_GQweW2fAQlDIhAeq95aow760\n",
      "  Args:\n",
      "    query: LangGraph human-in-the-loop workflow site:reddit.com\n",
      "=================================\u001b[1m Tool Message \u001b[0m=================================\n",
      "Name: tavily_web_search\n",
      "\n",
      "[{\"url\": \"https://www.reddit.com/r/LangChain/comments/1bjnmu4/human_intervention_in_agent_workflows/\", \"title\": \"Human intervention in agent workflows : r/LangChain\", \"content\": \"When building LLM workflows with LangChain/LangGraph what's the best way to build a node in the workflow where a human can validate/approve/reject a flow?\", \"score\": 0.48703963, \"raw_content\": null}, {\"url\": \"https://www.reddit.com/r/LangGraph/comments/1ldiqtg/i_am_struggling_with_langgraphs_humanintheloop/\", \"title\": \"I am Struggling with LangGraph's Human-in-the-Loop. ...\", \"content\": \"I'm building an agent that needs to pause for human approval before executing sensitive actions (like sending emails or making API calls).\", \"score\": 0.44536126, \"raw_content\": null}, {\"url\": \"https://www.reddit.com/r/LangChain/comments/1hsjdto/how_to_enable_feedbackdriven_workflow_improvement/\", \"title\": \"How to Enable Feedback-Driven Workflow Improvement in ...\", \"content\": \"I want to configure a framework like Langraph to enable an AI agent to learn and refine its workflow selection based on past experience and user feedback.\", \"score\": 0.19314773, \"raw_content\": null}]\n",
      "==================================\u001b[1m Ai Message \u001b[0m==================================\n",
      "\n",
      "LangGraph에 대한 유용한 자료는 다음과 같습니다:\n",
      "\n",
      "1. [Human intervention in agent workflows](https://www.reddit.com/r/LangChain/comments/1bjnmu4/human_intervention_in_agent_workflows/) - LangChain에서 LLM 워크플로우를 구축할 때, 인간이 흐름을 검증하거나 승인 또는 거부할 수 있는 노드를 만드는 최선의 방법에 대한 논의가 포함되어 있습니다.\n",
      "\n",
      "2. [I am Struggling with LangGraph's Human-in-the-Loop](https://www.reddit.com/r/LangGraph/comments/1ldiqtg/i_am_struggling_with_langgraphs_humanintheloop/) - 민감한 작업(예: 이메일 전송 또는 API 호출을 수행하기 전에 인간의 승인을 받기 위해 LangGraph를 사용하는 방법에 대한 경험담을 공유하는 게시물입니다.\n",
      "\n",
      "3. [How to Enable Feedback-Driven Workflow Improvement](https://www.reddit.com/r/LangChain/comments/1hsjdto/how_to_enable_feedbackdriven_workflow_improvement/) - LangGraph와 같은 프레임워크를 구성하여 AI 에이전트가 과거 경험과 사용자 피드백을 기반으로 워크플로우 선택을 학습하고 개선하도록 하는 방법에 대한 논의가 포함되어 있습니다.\n",
      "\n",
      "이 자료들은 LangGraph의 활용과 관련된 다양한 통찰력을 제공하며, 커뮤니티의 경험을 통해 더 깊이 있는 이해를 돕습니다.\n"
     ]
    }
   ],
   "source": [
    "# 최종 결과 출력\n",
    "for msg in graph.get_state(config).values[\"messages\"]:\n",
    "    msg.pretty_print()"
   ]
  }
 ],
 "metadata": {
  "kernelspec": {
   "display_name": "langchain-kr-szXyjQUn-py3.11",
   "language": "python",
   "name": "python3"
  },
  "language_info": {
   "codemirror_mode": {
    "name": "ipython",
    "version": 3
   },
   "file_extension": ".py",
   "mimetype": "text/x-python",
   "name": "python",
   "nbconvert_exporter": "python",
   "pygments_lexer": "ipython3",
   "version": "3.11.9"
  }
 },
 "nbformat": 4,
 "nbformat_minor": 5
}
