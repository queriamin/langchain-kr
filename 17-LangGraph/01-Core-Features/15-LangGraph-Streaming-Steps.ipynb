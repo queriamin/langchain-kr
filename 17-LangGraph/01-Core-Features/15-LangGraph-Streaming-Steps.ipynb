{
 "cells": [
  {
   "cell_type": "markdown",
   "id": "1223e5cc",
   "metadata": {},
   "source": [
    "# 스트리밍 모드"
   ]
  },
  {
   "cell_type": "markdown",
   "id": "81983922",
   "metadata": {},
   "source": [
    "`graph`의 전체 상태를 **스트리밍**하는 방법"
   ]
  },
  {
   "cell_type": "markdown",
   "id": "34b282c6",
   "metadata": {},
   "source": [
    "LangGraph는 여러 스트리밍(Streaming) 모드를 지원합니다. \n",
    "\n",
    "주요 모드는 다음과 같습니다\n",
    "\n",
    "- `values`: 이 스트리밍 모드는 그래프의 값들을 스트리밍합니다. 이는 각 노드가 호출된 후의 **그래프의 전체 상태**를 의미합니다.\n",
    "- `updates`: 이 스트리밍 모드는 그래프의 업데이트 내용을 스트리밍합니다. 이는 각 노드가 호출된 후의 **그래프 상태에 대한 업데이트**를 의미합니다.\n",
    "- `messages`: 이 스트리밍 모드는 각 노드의 메시지를 스트리밍합니다. 이때 **LLM 의 토큰 단위의 출력 스트리밍** 도 가능합니다."
   ]
  },
  {
   "cell_type": "markdown",
   "id": "976c957d",
   "metadata": {},
   "source": [
    "## 환경설정"
   ]
  },
  {
   "cell_type": "code",
   "execution_count": 1,
   "id": "a48be045",
   "metadata": {},
   "outputs": [
    {
     "data": {
      "text/plain": [
       "True"
      ]
     },
     "execution_count": 1,
     "metadata": {},
     "output_type": "execute_result"
    }
   ],
   "source": [
    "# API 키를 환경변수로 관리하기 위한 설정 파일\n",
    "from dotenv import load_dotenv\n",
    "\n",
    "# API 키 정보 로드\n",
    "load_dotenv()"
   ]
  },
  {
   "cell_type": "code",
   "execution_count": 2,
   "id": "bcf34145",
   "metadata": {},
   "outputs": [
    {
     "name": "stdout",
     "output_type": "stream",
     "text": [
      "LangSmith 추적을 시작합니다.\n",
      "[프로젝트명]\n",
      "CH17-LangGraph\n"
     ]
    }
   ],
   "source": [
    "# LangSmith 추적을 설정합니다. https://smith.langchain.com\n",
    "# !pip install -qU langchain-teddynote\n",
    "from langchain_teddynote import logging\n",
    "\n",
    "# 프로젝트 이름을 입력합니다.\n",
    "logging.langsmith(\"CH17-LangGraph\")"
   ]
  },
  {
   "cell_type": "markdown",
   "id": "74df71b5",
   "metadata": {},
   "source": [
    "## 그래프 정의하기\n",
    "\n",
    "이 가이드에서는 간단한 에이전트를 사용하겠습니다."
   ]
  },
  {
   "cell_type": "code",
   "execution_count": 3,
   "id": "540e6b63",
   "metadata": {},
   "outputs": [
    {
     "name": "stderr",
     "output_type": "stream",
     "text": [
      "/Users/minjeong/Library/Caches/pypoetry/virtualenvs/langchain-kr-szXyjQUn-py3.11/lib/python3.11/site-packages/pydantic/_internal/_config.py:373: UserWarning: Valid config keys have changed in V2:\n",
      "* 'allow_population_by_field_name' has been renamed to 'validate_by_name'\n",
      "* 'smart_union' has been removed\n",
      "  warnings.warn(message, UserWarning)\n"
     ]
    }
   ],
   "source": [
    "from typing import Annotated, List, Dict\n",
    "from typing_extensions import TypedDict\n",
    "from langchain.tools import tool\n",
    "from langchain_teddynote.tools import GoogleNews\n",
    "from langchain_openai import ChatOpenAI\n",
    "from langgraph.graph import StateGraph, START, END\n",
    "from langgraph.graph.message import add_messages\n",
    "from langgraph.prebuilt import ToolNode, tools_condition\n",
    "\n",
    "\n",
    "########## 1. 상태 정의 ##########\n",
    "# 상태 정의\n",
    "class State(TypedDict):\n",
    "    # 메시지 목록 주석 추가\n",
    "    messages: Annotated[list, add_messages]\n",
    "\n",
    "\n",
    "########## 2. 도구 정의 및 바인딩 ##########\n",
    "# 도구 초기화\n",
    "# 키워드로 뉴스 검색하는 도구 생성\n",
    "@tool\n",
    "def search_keyword(query: str) -> List[Dict[str, str]]:\n",
    "    \"\"\"Look up news by keyword\"\"\"\n",
    "    news_tool = GoogleNews()\n",
    "    return \"\\n\".join(\n",
    "        [f'- {news[\"content\"]}' for news in news_tool.search_by_keyword(query, k=5)]\n",
    "    )\n",
    "\n",
    "\n",
    "# 도구 리스트 생성\n",
    "tools = [search_keyword]\n",
    "\n",
    "# LLM 초기화\n",
    "llm = ChatOpenAI(model=\"gpt-4o-mini\")\n",
    "\n",
    "# 도구와 LLM 결합\n",
    "llm_with_tools = llm.bind_tools(tools)\n",
    "\n",
    "\n",
    "########## 3. 노드 추가 ##########\n",
    "# 챗봇 함수 정의\n",
    "def chatbot(state: State):\n",
    "    # 메시지 호출 및 반환\n",
    "    return {\"messages\": [llm_with_tools.invoke(state[\"messages\"])]}\n",
    "\n",
    "\n",
    "# 상태 그래프 생성\n",
    "graph_builder = StateGraph(State)\n",
    "\n",
    "# 챗봇 노드 추가\n",
    "graph_builder.add_node(\"chatbot\", chatbot)\n",
    "\n",
    "# 도구 노드 생성 및 추가\n",
    "tool_node = ToolNode(tools=[search_keyword])\n",
    "\n",
    "# 도구 노드 추가\n",
    "graph_builder.add_node(\"tools\", tool_node)\n",
    "\n",
    "# 조건부 엣지\n",
    "graph_builder.add_conditional_edges(\n",
    "    \"chatbot\",\n",
    "    tools_condition,\n",
    ")\n",
    "\n",
    "########## 4. 엣지 추가 ##########\n",
    "\n",
    "# tools > chatbot\n",
    "graph_builder.add_edge(\"tools\", \"chatbot\")\n",
    "\n",
    "# START > chatbot\n",
    "graph_builder.add_edge(START, \"chatbot\")\n",
    "\n",
    "# chatbot > END\n",
    "graph_builder.add_edge(\"chatbot\", END)\n",
    "\n",
    "# 그래프 컴파일\n",
    "graph = graph_builder.compile()"
   ]
  },
  {
   "cell_type": "code",
   "execution_count": 4,
   "id": "2beb8ce3",
   "metadata": {},
   "outputs": [
    {
     "data": {
      "image/png": "[encoded data removed]",
      "text/plain": [
       "<IPython.core.display.Image object>"
      ]
     },
     "metadata": {},
     "output_type": "display_data"
    }
   ],
   "source": [
    "from langchain_teddynote.graphs import visualize_graph\n",
    "\n",
    "visualize_graph(graph)"
   ]
  },
  {
   "cell_type": "markdown",
   "id": "8c8c3375",
   "metadata": {},
   "source": [
    "## 노드의 단계별 출력\n",
    "\n",
    "**스트리밍 모드**\n",
    "- `values`: 각 단계의 현재 상태 값 출력\n",
    "- `updates`: 각 단계의 상태 업데이트만 출력 (기본값)\n",
    "- `messages`: 각 단계의 메시지 출력\n",
    "\n",
    "여기서 스트리밍의 의미는 LLM 출력시 토큰 단위로 스트리밍하는 개념이 아니라, 단계별로 출력하는 의미를 가집니다."
   ]
  },
  {
   "cell_type": "markdown",
   "id": "418bf13d",
   "metadata": {},
   "source": [
    "### `stream_mode = \"values\"`\n",
    "\n",
    "`values` 모드는 각 단계의 현재 상태 값을 출력합니다.\n",
    "\n",
    "**참고**\n",
    "\n",
    "`chunk.items()`\n",
    "\n",
    "- `key`: State 의 key 값\n",
    "- `value`: State 의 key 에 대한하는 value"
   ]
  },
  {
   "cell_type": "markdown",
   "id": "da92a102",
   "metadata": {},
   "source": [
    "#### 동기(Synchronous) 방식의 스트리밍\n",
    "\n",
    "- `chunk` 는 dictionary 형태(key: State 의 key, value: State 의 value)"
   ]
  },
  {
   "cell_type": "code",
   "execution_count": 5,
   "id": "09a98b5c",
   "metadata": {},
   "outputs": [
    {
     "name": "stdout",
     "output_type": "stream",
     "text": [
      "================================\u001b[1m Human Message \u001b[0m=================================\n",
      "\n",
      "AI 관련된 최신 뉴스를 검색해줘\n",
      "==================================\u001b[1m Ai Message \u001b[0m==================================\n",
      "Tool Calls:\n",
      "  search_keyword (call_9u1PwZYHxPV0euknOYRekWZD)\n",
      " Call ID: call_9u1PwZYHxPV0euknOYRekWZD\n",
      "  Args:\n",
      "    query: AI\n",
      "=================================\u001b[1m Tool Message \u001b[0m=================================\n",
      "Name: search_keyword\n",
      "\n",
      "- 허사비스 \"뒤처진 메타, AI 인재 영입은 당연하지만...\" - AI타임스\n",
      "- 인공지능: '보그에 실린 AI 모델' 패션과 모델 산업에 큰 화두를 던지다 - BBC\n",
      "- [AI픽] 국가AI위원회 인선 본격화…이르면 8월 출범 - 연합뉴스\n",
      "- 빅테크 AI 지출 증가 기대감에...엔비디아 사상 최고가 또 경신 - 조선일보\n",
      "- \"공간정보AI 2027년 상용화 목표\" - 노컷뉴스\n",
      "==================================\u001b[1m Ai Message \u001b[0m==================================\n",
      "\n",
      "다음은 AI 관련 최신 뉴스입니다:\n",
      "\n",
      "1. **허사비스 \"뒤처진 메타, AI 인재 영입은 당연하지만...\"** - AI타임스\n",
      "2. **인공지능: '보그에 실린 AI 모델' 패션과 모델 산업에 큰 화두를 던지다** - BBC\n",
      "3. **[AI픽] 국가AI위원회 인선 본격화…이르면 8월 출범** - 연합뉴스\n",
      "4. **빅테크 AI 지출 증가 기대감에...엔비디아 사상 최고가 또 경신** - 조선일보\n",
      "5. **\"공간정보AI 2027년 상용화 목표\"** - 노컷뉴스\n",
      "\n",
      "각 기사에서 다루고 있는 주제를 통해 AI의 최근 동향과 발전을 확인할 수 있습니다.\n"
     ]
    }
   ],
   "source": [
    "# 질문 입력\n",
    "inputs = {\"messages\": [(\"human\", \"AI 관련된 최신 뉴스를 검색해줘\")]}\n",
    "\n",
    "# 동기 스트림 처리(stream_mode=\"values\")\n",
    "for chunk in graph.stream(inputs, stream_mode=\"values\"):\n",
    "\n",
    "    # chunk 는 dictionary 형태(key: State 의 key, value: State 의 value)\n",
    "    for state_key, state_value in chunk.items():\n",
    "        if state_key == \"messages\":\n",
    "            state_value[-1].pretty_print()"
   ]
  },
  {
   "cell_type": "markdown",
   "id": "3451768c",
   "metadata": {},
   "source": [
    "#### 비동기(Asynchronous) 방식의 스트리밍\n",
    "\n",
    "**참고**\n",
    "\n",
    "- `astream()` 메서드는 비동기 스트림 처리를 통해 그래프를 실행하고 값 모드로 청크 단위 응답을 생성합니다.\n",
    "- `async for` 문을 사용하여 비동기 스트림 처리를 수행합니다.\n"
   ]
  },
  {
   "cell_type": "code",
   "execution_count": 6,
   "id": "77b5ec20",
   "metadata": {},
   "outputs": [
    {
     "name": "stdout",
     "output_type": "stream",
     "text": [
      "================================\u001b[1m Human Message \u001b[0m=================================\n",
      "\n",
      "AI 관련된 최신 뉴스를 검색해줘\n",
      "==================================\u001b[1m Ai Message \u001b[0m==================================\n",
      "Tool Calls:\n",
      "  search_keyword (call_RVGN5qn1CAjXCSBsKQKQrbEv)\n",
      " Call ID: call_RVGN5qn1CAjXCSBsKQKQrbEv\n",
      "  Args:\n",
      "    query: AI\n",
      "=================================\u001b[1m Tool Message \u001b[0m=================================\n",
      "Name: search_keyword\n",
      "\n",
      "- 허사비스 \"뒤처진 메타, AI 인재 영입은 당연하지만...\" - AI타임스\n",
      "- 인공지능: '보그에 실린 AI 모델' 패션과 모델 산업에 큰 화두를 던지다 - BBC\n",
      "- [AI픽] 국가AI위원회 인선 본격화…이르면 8월 출범 - 연합뉴스\n",
      "- 빅테크 AI 지출 증가 기대감에...엔비디아 사상 최고가 또 경신 - 조선일보\n",
      "- \"공간정보AI 2027년 상용화 목표\" - 노컷뉴스\n",
      "==================================\u001b[1m Ai Message \u001b[0m==================================\n",
      "\n",
      "다음은 AI 관련 최신 뉴스입니다:\n",
      "\n",
      "1. **허사비스 \"뒤처진 메타, AI 인재 영입은 당연하지만...\"** - AI타임스\n",
      "2. **인공지능: '보그에 실린 AI 모델' 패션과 모델 산업에 큰 화두를 던지다** - BBC\n",
      "3. **[AI픽] 국가AI위원회 인선 본격화…이르면 8월 출범** - 연합뉴스\n",
      "4. **빅테크 AI 지출 증가 기대감에...엔비디아 사상 최고가 또 경신** - 조선일보\n",
      "5. **\"공간정보AI 2027년 상용화 목표\"** - 노컷뉴스\n",
      "\n",
      "이 뉴스들은 현재 AI 분야에서 일어나는 주요 이슈와 발전을 다루고 있습니다.\n"
     ]
    }
   ],
   "source": [
    "# 질문 입력\n",
    "inputs = {\"messages\": [(\"human\", \"AI 관련된 최신 뉴스를 검색해줘\")]}\n",
    "\n",
    "# 비동기 스트림 처리(stream_mode=\"values\")\n",
    "async for chunk in graph.astream(inputs, stream_mode=\"values\"):\n",
    "    # chunk 는 dictionary 형태(key: State 의 key, value: State 의 value)\n",
    "    for state_key, state_value in chunk.items():\n",
    "        if state_key == \"messages\":\n",
    "            state_value[-1].pretty_print()"
   ]
  },
  {
   "cell_type": "markdown",
   "id": "95a348b2",
   "metadata": {},
   "source": [
    "최종 결과만 확인하고 싶은 경우, 다음과 같이 처리 합니다."
   ]
  },
  {
   "cell_type": "code",
   "execution_count": 7,
   "id": "fde0bb39",
   "metadata": {},
   "outputs": [
    {
     "name": "stdout",
     "output_type": "stream",
     "text": [
      "최신 AI 관련 뉴스는 다음과 같습니다:\n",
      "\n",
      "1. **허사비스 \"뒤처진 메타, AI 인재 영입은 당연하지만...\"** - AI타임스\n",
      "2. **인공지능: '보그에 실린 AI 모델' 패션과 모델 산업에 큰 화두를 던지다** - BBC\n",
      "3. **[AI픽] 국가AI위원회 인선 본격화…이르면 8월 출범** - 연합뉴스\n",
      "4. **빅테크 AI 지출 증가 기대감에...엔비디아 사상 최고가 또 경신** - 조선일보\n",
      "5. **\"공간정보AI 2027년 상용화 목표\"** - 노컷뉴스\n",
      "\n",
      "더 궁금한 내용이나 특정 주제가 있으면 말씀해 주세요!\n"
     ]
    }
   ],
   "source": [
    "# 질문 입력\n",
    "inputs = {\"messages\": [(\"human\", \"AI 관련된 최신 뉴스를 검색해줘\")]}\n",
    "\n",
    "final_result = None\n",
    "\n",
    "# 비동기 스트림 처리(stream_mode=\"values\")\n",
    "async for chunk in graph.astream(inputs, stream_mode=\"values\"):\n",
    "    final_result = chunk\n",
    "\n",
    "# 최종 결과 출력\n",
    "print(final_result[\"messages\"][-1].content)"
   ]
  },
  {
   "cell_type": "markdown",
   "id": "9bf6277c",
   "metadata": {},
   "source": [
    "### `stream_mode = \"updates\"`\n",
    "\n",
    "`updates` 모드는 각 단계에 대한 업데이트된 State 만 내보냅니다. \n",
    "\n",
    "- 출력은 노드 이름을 key 로, 업데이트된 값을 values 으로 하는 `dictionary` 입니다.\n",
    "\n",
    "**참고**\n",
    "\n",
    "`chunk.items()`\n",
    "\n",
    "- `key`: 노드(Node) 의 이름\n",
    "- `value`: 해당 노드(Node) 단계에서의 출력 값(dictionary). 즉, 여러 개의 key-value 쌍을 가진 dictionary 입니다."
   ]
  },
  {
   "cell_type": "markdown",
   "id": "b65b96d7",
   "metadata": {},
   "source": [
    "#### 동기(Synchronous) 방식의 스트리밍"
   ]
  },
  {
   "cell_type": "code",
   "execution_count": 8,
   "id": "78ef038e",
   "metadata": {},
   "outputs": [
    {
     "name": "stdout",
     "output_type": "stream",
     "text": [
      "\n",
      "[Node: chatbot]\n",
      "\n",
      "==================================\u001b[1m Ai Message \u001b[0m==================================\n",
      "Tool Calls:\n",
      "  search_keyword (call_SDgcp2JIv76ehNdnwdF3ZdRi)\n",
      " Call ID: call_SDgcp2JIv76ehNdnwdF3ZdRi\n",
      "  Args:\n",
      "    query: AI\n",
      "\n",
      "[Node: tools]\n",
      "\n",
      "=================================\u001b[1m Tool Message \u001b[0m=================================\n",
      "Name: search_keyword\n",
      "\n",
      "- 허사비스 \"뒤처진 메타, AI 인재 영입은 당연하지만...\" - AI타임스\n",
      "- 인공지능: '보그에 실린 AI 모델' 패션과 모델 산업에 큰 화두를 던지다 - BBC\n",
      "- [AI픽] 국가AI위원회 인선 본격화…이르면 8월 출범 - 연합뉴스\n",
      "- 빅테크 AI 지출 증가 기대감에...엔비디아 사상 최고가 또 경신 - 조선일보\n",
      "- \"공간정보AI 2027년 상용화 목표\" - 노컷뉴스\n",
      "\n",
      "[Node: chatbot]\n",
      "\n",
      "==================================\u001b[1m Ai Message \u001b[0m==================================\n",
      "\n",
      "최근 AI 관련 뉴스는 다음과 같습니다:\n",
      "\n",
      "1. **허사비스 \"뒤처진 메타, AI 인재 영입은 당연하지만...\"** - AI타임스\n",
      "2. **인공지능: '보그에 실린 AI 모델' 패션과 모델 산업에 큰 화두를 던지다** - BBC\n",
      "3. **[AI픽] 국가AI위원회 인선 본격화…이르면 8월 출범** - 연합뉴스\n",
      "4. **빅테크 AI 지출 증가 기대감에...엔비디아 사상 최고가 또 경신** - 조선일보\n",
      "5. **\"공간정보AI 2027년 상용화 목표\"** - 노컷뉴스\n",
      "\n",
      "더 많은 정보가 필요하시면 특정 뉴스에 대해 질문해 주세요!\n"
     ]
    }
   ],
   "source": [
    "# 질문 입력\n",
    "inputs = {\"messages\": [(\"human\", \"AI 관련된 최신 뉴스를 검색해줘\")]}\n",
    "\n",
    "# 동기 스트림 처리(stream_mode=\"updates\")\n",
    "for chunk in graph.stream(inputs, stream_mode=\"updates\"):\n",
    "    # chunk 는 dictionary 형태(key: 노드, value: 노드의 상태 값)\n",
    "    for node, value in chunk.items():\n",
    "        if node:\n",
    "            print(f\"\\n[Node: {node}]\\n\")\n",
    "        if \"messages\" in value:\n",
    "            value[\"messages\"][-1].pretty_print()"
   ]
  },
  {
   "cell_type": "markdown",
   "id": "cad4b30b",
   "metadata": {},
   "source": [
    "#### 비동기(Asynchronous) 방식의 스트리밍"
   ]
  },
  {
   "cell_type": "code",
   "execution_count": 9,
   "id": "2b299547",
   "metadata": {},
   "outputs": [
    {
     "name": "stdout",
     "output_type": "stream",
     "text": [
      "\n",
      "[Node: chatbot]\n",
      "\n",
      "==================================\u001b[1m Ai Message \u001b[0m==================================\n",
      "Tool Calls:\n",
      "  search_keyword (call_TlxRtdzz4SWkj9clCezzJ97W)\n",
      " Call ID: call_TlxRtdzz4SWkj9clCezzJ97W\n",
      "  Args:\n",
      "    query: AI\n",
      "\n",
      "[Node: tools]\n",
      "\n",
      "=================================\u001b[1m Tool Message \u001b[0m=================================\n",
      "Name: search_keyword\n",
      "\n",
      "- 허사비스 \"뒤처진 메타, AI 인재 영입은 당연하지만...\" - AI타임스\n",
      "- 인공지능: '보그에 실린 AI 모델' 패션과 모델 산업에 큰 화두를 던지다 - BBC\n",
      "- [AI픽] 국가AI위원회 인선 본격화…이르면 8월 출범 - 연합뉴스\n",
      "- 빅테크 AI 지출 증가 기대감에...엔비디아 사상 최고가 또 경신 - 조선일보\n",
      "- \"공간정보AI 2027년 상용화 목표\" - 노컷뉴스\n",
      "\n",
      "[Node: chatbot]\n",
      "\n",
      "==================================\u001b[1m Ai Message \u001b[0m==================================\n",
      "\n",
      "다음은 AI 관련 최신 뉴스들입니다:\n",
      "\n",
      "1. **허사비스** \"뒤처진 메타, AI 인재 영입은 당연하지만...\" - AI타임스\n",
      "2. **인공지능**: '보그에 실린 AI 모델' 패션과 모델 산업에 큰 화두를 던지다 - BBC\n",
      "3. **[AI픽]** 국가AI위원회 인선 본격화…이르면 8월 출범 - 연합뉴스\n",
      "4. **빅테크** AI 지출 증가 기대감에...엔비디아 사상 최고가 또 경신 - 조선일보\n",
      "5. **\"공간정보AI** 2027년 상용화 목표\" - 노컷뉴스\n",
      "\n",
      "자세한 내용을 원하시면 특정 기사에 대해 더 알아볼 수 있습니다.\n"
     ]
    }
   ],
   "source": [
    "# 질문 입력\n",
    "inputs = {\"messages\": [(\"human\", \"AI 관련된 최신 뉴스를 검색해줘\")]}\n",
    "\n",
    "# 비동기 스트림 처리(stream_mode=\"updates\")\n",
    "async for chunk in graph.astream(inputs, stream_mode=\"updates\"):\n",
    "    # chunk 는 dictionary 형태(key: 노드, value: 노드의 상태 값)\n",
    "    for node, value in chunk.items():\n",
    "        if node:\n",
    "            print(f\"\\n[Node: {node}]\\n\")\n",
    "        if \"messages\" in value:\n",
    "            value[\"messages\"][-1].pretty_print()"
   ]
  },
  {
   "cell_type": "markdown",
   "id": "41832f7a",
   "metadata": {},
   "source": [
    "### `stream_mode = \"messages\"`\n",
    "\n",
    "`messages` 모드는 각 단계에 대한 메시지를 스트리밍합니다.\n",
    "\n",
    "**참고**\n",
    "\n",
    "- `chunk` 는 두 개의 요소를 가진 tuple 입니다.\n",
    "  - `chunk_msg`: 실시간 출력 메시지\n",
    "  - `metadata`: 노드 정보"
   ]
  },
  {
   "cell_type": "markdown",
   "id": "df033eff",
   "metadata": {},
   "source": [
    "#### 동기(Synchronous) 방식의 스트리밍"
   ]
  },
  {
   "cell_type": "code",
   "execution_count": 10,
   "id": "e846ef38",
   "metadata": {},
   "outputs": [
    {
     "name": "stdout",
     "output_type": "stream",
     "text": [
      "- 허사비스 \"뒤처진 메타, AI 인재 영입은 당연하지만...\" - AI타임스\n",
      "- 인공지능: '보그에 실린 AI 모델' 패션과 모델 산업에 큰 화두를 던지다 - BBC\n",
      "- [AI픽] 국가AI위원회 인선 본격화…이르면 8월 출범 - 연합뉴스\n",
      "- 빅테크 AI 지출 증가 기대감에...엔비디아 사상 최고가 또 경신 - 조선일보\n",
      "- \"공간정보AI 2027년 상용화 목표\" - 노컷뉴스\n",
      "\n",
      "\n",
      "metadata: \n",
      "{'langgraph_step': 2, 'langgraph_node': 'tools', 'langgraph_triggers': ('branch:to:tools',), 'langgraph_path': ('__pregel_pull', 'tools'), 'langgraph_checkpoint_ns': 'tools:2cf0cb45-685d-277e-381c-bc567fdefc26', 'LANGSMITH_ENDPOINT': 'https://api.smith.langchain.com', 'LANGSMITH_TRACING': 'true', 'LANGSMITH_PROJECT': 'CH17-LangGraph', 'revision_id': '40912d1-dirty'}\n",
      "\n",
      "\n",
      "최신 AI 관련 뉴스는 다음과 같습니다:\n",
      "\n",
      "1. **허사비스 \"뒤처진 메타, AI 인재 영입은 당연하지만...\"** - AI타임스\n",
      "2. **인공지능: '보그에 실린 AI 모델' 패션과 모델 산업에 큰 화두를 던지다** - BBC\n",
      "3. **[AI픽] 국가AI위원회 인선 본격화…이르면 8월 출범** - 연합뉴스\n",
      "4. **빅테크 AI 지출 증가 기대감에...엔비디아 사상 최고가 또 경신** - 조선일보\n",
      "5. **\"공간정보AI 2027년 상용화 목표\"** - 노컷뉴스\n",
      "\n",
      "더 많은 내용이 필요하시면 말씀해 주세요!"
     ]
    }
   ],
   "source": [
    "# 질문 입력\n",
    "inputs = {\"messages\": [(\"human\", \"AI 관련된 최신 뉴스를 검색해줘\")]}\n",
    "\n",
    "# 동기 스트림 처리(stream_mode=\"messages\")\n",
    "# chunk_msg: 실시간 출력 메시지, metadata: 노드 정보\n",
    "for chunk_msg, metadata in graph.stream(inputs, stream_mode=\"messages\"):\n",
    "\n",
    "    # chatbot 노드에서 출력된 메시지만 출력\n",
    "    if metadata[\"langgraph_node\"] == \"chatbot\":\n",
    "        if chunk_msg.content:\n",
    "            print(chunk_msg.content, end=\"\", flush=True)\n",
    "\n",
    "    else:\n",
    "        print(chunk_msg.content)\n",
    "        print(f\"\\n\\nmetadata: \\n{metadata}\\n\\n\")"
   ]
  },
  {
   "cell_type": "markdown",
   "id": "a7c4fdef",
   "metadata": {},
   "source": [
    "#### 비동기(Asynchronous) 방식의 스트리밍"
   ]
  },
  {
   "cell_type": "code",
   "execution_count": 11,
   "id": "d4186d6a",
   "metadata": {},
   "outputs": [
    {
     "name": "stdout",
     "output_type": "stream",
     "text": [
      "- 허사비스 \"뒤처진 메타, AI 인재 영입은 당연하지만...\" - AI타임스\n",
      "- 인공지능: '보그에 실린 AI 모델' 패션과 모델 산업에 큰 화두를 던지다 - BBC\n",
      "- [AI픽] 국가AI위원회 인선 본격화…이르면 8월 출범 - 연합뉴스\n",
      "- 빅테크 AI 지출 증가 기대감에...엔비디아 사상 최고가 또 경신 - 조선일보\n",
      "- \"공간정보AI 2027년 상용화 목표\" - 노컷뉴스\n",
      "다음은 AI 관련 최신 뉴스입니다:\n",
      "\n",
      "1. **허사비스 \"뒤처진 메타, AI 인재 영입은 당연하지만...\"** - AI타임스\n",
      "2. **인공지능: '보그에 실린 AI 모델' 패션과 모델 산업에 큰 화두를 던지다** - BBC\n",
      "3. **[AI픽] 국가AI위원회 인선 본격화…이르면 8월 출범** - 연합뉴스\n",
      "4. **빅테크 AI 지출 증가 기대감에...엔비디아 사상 최고가 또 경신** - 조선일보\n",
      "5. **\"공간정보AI 2027년 상용화 목표\"** - 노컷뉴스\n",
      "\n",
      "더 궁금한 점이 있으면 말씀해 주세요!"
     ]
    }
   ],
   "source": [
    "# 질문 입력\n",
    "inputs = {\"messages\": [(\"human\", \"AI 관련된 최신 뉴스를 검색해줘\")]}\n",
    "\n",
    "# 비동기 스트림 처리(stream_mode=\"messages\")\n",
    "# chunk_msg: 실시간 출력 메시지, metadata: 노드 정보\n",
    "async for chunk_msg, metadata in graph.astream(inputs, stream_mode=\"messages\"):\n",
    "    # chatbot 노드에서 출력된 메시지만 출력\n",
    "    if metadata[\"langgraph_node\"] == \"chatbot\":\n",
    "        if chunk_msg.content:\n",
    "            print(chunk_msg.content, end=\"\", flush=True)\n",
    "    else:\n",
    "        print(chunk_msg.content)"
   ]
  },
  {
   "cell_type": "markdown",
   "id": "8e08f9ac",
   "metadata": {},
   "source": [
    "## 특정 노드에 대한 출력 스트리밍\n",
    "\n",
    "**참고**\n",
    "\n",
    "- `metadata[\"langgraph_node\"]` 를 통해 특정 노드에서 출력된 메시지만 출력할 수 있습니다."
   ]
  },
  {
   "cell_type": "code",
   "execution_count": 12,
   "id": "ea8d07e3",
   "metadata": {},
   "outputs": [],
   "source": [
    "from typing import Annotated, List, Dict\n",
    "from typing_extensions import TypedDict\n",
    "from langchain.tools import tool\n",
    "from langchain_teddynote.tools import GoogleNews\n",
    "from langchain_openai import ChatOpenAI\n",
    "from langgraph.graph import StateGraph, START, END\n",
    "from langgraph.graph.message import add_messages\n",
    "from langgraph.prebuilt import ToolNode, tools_condition\n",
    "\n",
    "\n",
    "########## 1. 상태 정의 ##########\n",
    "# 상태 정의\n",
    "class State(TypedDict):\n",
    "    # 메시지 목록 주석 추가\n",
    "    messages: Annotated[list, add_messages]\n",
    "\n",
    "\n",
    "########## 2. 도구 정의 및 바인딩 ##########\n",
    "# 도구 초기화\n",
    "# 키워드로 뉴스 검색하는 도구 생성\n",
    "@tool\n",
    "def search_keyword(query: str) -> List[Dict[str, str]]:\n",
    "    \"\"\"Look up news by keyword\"\"\"\n",
    "    news_tool = GoogleNews()\n",
    "    return \"\\n\".join(\n",
    "        [f'- {news[\"content\"]}' for news in news_tool.search_by_keyword(query, k=5)]\n",
    "    )\n",
    "\n",
    "\n",
    "# 도구 리스트 생성\n",
    "tools = [search_keyword]\n",
    "\n",
    "# LLM 초기화\n",
    "llm = ChatOpenAI(model=\"gpt-4o-mini\")\n",
    "\n",
    "# 도구와 LLM 결합 (tags 추가)\n",
    "llm_with_tools = llm.bind_tools(tools).with_config(tags=[\"WANT_TO_STREAM\"])\n",
    "\n",
    "\n",
    "########## 3. 노드 추가 ##########\n",
    "# 챗봇 함수 정의\n",
    "def chatbot(state: State):\n",
    "    # 메시지 호출 및 반환\n",
    "    return {\"messages\": [llm_with_tools.invoke(state[\"messages\"])]}\n",
    "\n",
    "\n",
    "# 상태 그래프 생성\n",
    "graph_builder = StateGraph(State)\n",
    "\n",
    "# 챗봇 노드 추가\n",
    "graph_builder.add_node(\"chatbot\", chatbot)\n",
    "\n",
    "# 도구 노드 생성 및 추가\n",
    "tool_node = ToolNode(tools=[search_keyword])\n",
    "\n",
    "# 도구 노드 추가\n",
    "graph_builder.add_node(\"tools\", tool_node)\n",
    "\n",
    "# 조건부 엣지\n",
    "graph_builder.add_conditional_edges(\n",
    "    \"chatbot\",\n",
    "    tools_condition,\n",
    ")\n",
    "\n",
    "########## 4. 엣지 추가 ##########\n",
    "\n",
    "# tools > chatbot\n",
    "graph_builder.add_edge(\"tools\", \"chatbot\")\n",
    "\n",
    "# START > chatbot\n",
    "graph_builder.add_edge(START, \"chatbot\")\n",
    "\n",
    "# chatbot > END\n",
    "graph_builder.add_edge(\"chatbot\", END)\n",
    "\n",
    "# 그래프 컴파일\n",
    "graph = graph_builder.compile()"
   ]
  },
  {
   "cell_type": "code",
   "execution_count": 13,
   "id": "610cdf45",
   "metadata": {},
   "outputs": [
    {
     "data": {
      "image/png": "[encoded data removed]",
      "text/plain": [
       "<IPython.core.display.Image object>"
      ]
     },
     "metadata": {},
     "output_type": "display_data"
    }
   ],
   "source": [
    "visualize_graph(graph, xray=True)"
   ]
  },
  {
   "cell_type": "markdown",
   "id": "fb47cbe3",
   "metadata": {},
   "source": [
    "특정 노드(Node) 에 대해서 출력하고 싶은 경우, stream_mode=\"messages\" 를 통해 설정할 수 있습니다.\n",
    "\n",
    "`stream_mode=\"messages\"` 설정시, (`chunk_msg`, `metadata`) 형태로 메시지를 받습니다.\n",
    "- `chunk_msg` 는 실시간 출력 메시지, \n",
    "- `metadata` 는 노드 정보를 의미합니다.\n",
    "\n",
    "`metadata[\"langgraph_node\"]` 를 통해 특정 노드에서 출력된 메시지만 출력할 수 있습니다.\n",
    "\n",
    "(예시) chatbot 노드에서 출력된 메시지만 출력하는 경우\n",
    "\n",
    "`metadata[\"langgraph_node\"] == \"chatbot\"`"
   ]
  },
  {
   "cell_type": "code",
   "execution_count": 14,
   "id": "e1eedddd",
   "metadata": {},
   "outputs": [
    {
     "name": "stdout",
     "output_type": "stream",
     "text": [
      "다음은 AI 관련 최신 뉴스입니다:\n",
      "\n",
      "1. **허사비스 \"뒤처진 메타, AI 인재 영입은 당연하지만...\"** - AI타임스\n",
      "2. **인공지능: '보그에 실린 AI 모델' 패션과 모델 산업에 큰 화두를 던지다** - BBC\n",
      "3. **[AI픽] 국가AI위원회 인선 본격화…이르면 8월 출범** - 연합뉴스\n",
      "4. **빅테크 AI 지출 증가 기대감에...엔비디아 사상 최고가 또 경신** - 조선일보\n",
      "5. **\"공간정보AI 2027년 상용화 목표\"** - 노컷뉴스\n",
      "\n",
      "더 궁금한 점이 있으면 말씀해 주세요!"
     ]
    }
   ],
   "source": [
    "from langchain_core.messages import HumanMessage\n",
    "\n",
    "# 사용자의 메시지를 딕셔너리 형태로 입력 데이터 구성\n",
    "inputs = {\"messages\": [(\"human\", \"AI 관련된 최신 뉴스를 검색해줘\")]}\n",
    "\n",
    "# stream_mode=\"messages\" 를 통한 스트리밍 처리\n",
    "for chunk_msg, metadata in graph.stream(inputs, stream_mode=\"messages\"):\n",
    "    # HumanMessage 가 아닌 최종 노드의 유효한 컨텐츠만 출력 처리\n",
    "    if (\n",
    "        chunk_msg.content\n",
    "        and not isinstance(chunk_msg, HumanMessage)\n",
    "        and metadata[\"langgraph_node\"] == \"chatbot\"\n",
    "    ):\n",
    "        print(chunk_msg.content, end=\"\", flush=True)"
   ]
  },
  {
   "cell_type": "markdown",
   "id": "84cc7d5b",
   "metadata": {},
   "source": [
    "metadata 를 출력하면 노드 정보를 확인할 수 있습니다."
   ]
  },
  {
   "cell_type": "code",
   "execution_count": 15,
   "id": "60550f25",
   "metadata": {},
   "outputs": [
    {
     "data": {
      "text/plain": [
       "{'langgraph_step': 3,\n",
       " 'langgraph_node': 'chatbot',\n",
       " 'langgraph_triggers': ('branch:to:chatbot',),\n",
       " 'langgraph_path': ('__pregel_pull', 'chatbot'),\n",
       " 'langgraph_checkpoint_ns': 'chatbot:bd78f389-0424-d329-3af3-df27aaafe9f3',\n",
       " 'checkpoint_ns': 'chatbot:bd78f389-0424-d329-3af3-df27aaafe9f3',\n",
       " 'ls_provider': 'openai',\n",
       " 'ls_model_name': 'gpt-4o-mini',\n",
       " 'ls_model_type': 'chat',\n",
       " 'ls_temperature': None,\n",
       " 'tags': ['WANT_TO_STREAM'],\n",
       " 'LANGSMITH_ENDPOINT': 'https://api.smith.langchain.com',\n",
       " 'LANGSMITH_TRACING': 'true',\n",
       " 'LANGSMITH_PROJECT': 'CH17-LangGraph',\n",
       " 'revision_id': '40912d1-dirty'}"
      ]
     },
     "execution_count": 15,
     "metadata": {},
     "output_type": "execute_result"
    }
   ],
   "source": [
    "metadata"
   ]
  },
  {
   "cell_type": "markdown",
   "id": "0fc31981",
   "metadata": {},
   "source": [
    "## 사용자 정의 `tag` 필터링 된 스트리밍\n",
    "\n",
    "LLM 의 출력이 여러 군데에서 발생하는 경우, 특정 노드에서 출력된 메시지만 출력하고 싶은 경우가 있습니다.\n",
    "\n",
    "이러한 경우, `tags` 를 추가하여 출력하고 싶은 노드만 선별할 수 있습니다.\n",
    "\n",
    "llm 에 tags 를 추가하는 방법은 다음과 같습니다. `tags` 는 리스트 형태로 추가할 수 있습니다.\n",
    "\n",
    "`llm.with_config(tags=[\"WANT_TO_STREAM\"])`\n",
    "\n",
    "\n",
    "이를 통해 이벤트를 더 정확하게 필터링하여 해당 모델에서 발생한 이벤트만 유지할 수 있습니다."
   ]
  },
  {
   "cell_type": "markdown",
   "id": "fbfc5067",
   "metadata": {},
   "source": [
    "아래 예시는 `WANT_TO_STREAM` 태그가 있는 경우만 출력하는 예시입니다."
   ]
  },
  {
   "cell_type": "code",
   "execution_count": 16,
   "id": "0b53e958",
   "metadata": {},
   "outputs": [
    {
     "name": "stdout",
     "output_type": "stream",
     "text": [
      "다음은 AI 관련 최신 뉴스입니다:\n",
      "\n",
      "1. **허사비스 \"뒤처진 메타, AI 인재 영입은 당연하지만...\"** - AI타임스\n",
      "2. **인공지능: '보그에 실린 AI 모델' 패션과 모델 산업에 큰 화두를 던지다** - BBC\n",
      "3. **[AI픽] 국가AI위원회 인선 본격화…이르면 8월 출범** - 연합뉴스\n",
      "4. **빅테크 AI 지출 증가 기대감에...엔비디아 사상 최고가 또 경신** - 조선일보\n",
      "5. **\"공간정보AI 2027년 상용화 목표\"** - 노컷뉴스\n",
      "\n",
      "위 뉴스들을 참고하시면 AI와 관련된 최신 동향을 파악하실 수 있습니다."
     ]
    }
   ],
   "source": [
    "# 질문 입력\n",
    "inputs = {\"messages\": [(\"human\", \"AI 관련된 최신 뉴스를 검색해줘\")]}\n",
    "\n",
    "# 비동기 이벤트 스트림 처리(astream_events)\n",
    "async for event in graph.astream_events(inputs, version=\"v2\"):\n",
    "    # 이벤트 종류와 태그 정보 추출\n",
    "    kind = event[\"event\"]\n",
    "    tags = event.get(\"tags\", [])\n",
    "\n",
    "    # 채팅 모델 스트림 이벤트 및 최종 노드 태그 필터링\n",
    "    if kind == \"on_chat_model_stream\" and \"WANT_TO_STREAM\" in tags:\n",
    "        # 이벤트 데이터 추출\n",
    "        data = event[\"data\"]\n",
    "\n",
    "        # 출력 메시지\n",
    "        if data[\"chunk\"].content:\n",
    "            print(data[\"chunk\"].content, end=\"\", flush=True)"
   ]
  },
  {
   "cell_type": "markdown",
   "id": "3f100ba2",
   "metadata": {},
   "source": [
    "## 도구 호출에 대한 스트리밍 출력\n",
    "\n",
    "- `AIMessageChunk`: 실시간 토큰 단위의 출력 메시지\n",
    "- `tool_call_chunks`: 도구 호출 청크. 만약 `tool_call_chunks` 가 존재하는 경우, 도구 호출 청크를 누적하여 출력합니다. (도구 토큰은 이 속성을 보고 판단하여 출력)"
   ]
  },
  {
   "cell_type": "code",
   "execution_count": 17,
   "id": "17e84509",
   "metadata": {},
   "outputs": [
    {
     "name": "stdout",
     "output_type": "stream",
     "text": [
      "{}\n",
      "{}\n",
      "{}\n",
      "{'query': ''}\n",
      "{'query': 'AI'}\n",
      "{'query': 'AI'}\n",
      "- 허사비스 \"뒤처진 메타, AI 인재 영입은 당연하지만...\" - AI타임스\n",
      "- 인공지능: '보그에 실린 AI 모델' 패션과 모델 산업에 큰 화두를 던지다 - BBC\n",
      "- [AI픽] 국가AI위원회 인선 본격화…이르면 8월 출범 - 연합뉴스\n",
      "- 빅테크 AI 지출 증가 기대감에...엔비디아 사상 최고가 또 경신 - 조선일보\n",
      "- \"공간정보AI 2027년 상용화 목표\" - 노컷뉴스다음은 AI 관련 최신 뉴스입니다:\n",
      "\n",
      "1. **허사비스 \"뒤처진 메타, AI 인재 영입은 당연하지만...\"** - AI타임스\n",
      "2. **인공지능: '보그에 실린 AI 모델' 패션과 모델 산업에 큰 화두를 던지다** - BBC\n",
      "3. **[AI픽] 국가AI위원회 인선 본격화…이르면 8월 출범** - 연합뉴스\n",
      "4. **빅테크 AI 지출 증가 기대감에...엔비디아 사상 최고가 또 경신** - 조선일보\n",
      "5. **\"공간정보AI 2027년 상용화 목표\"** - 노컷뉴스\n",
      "\n",
      "더 궁금한 점이 있으시면 말씀해 주세요!"
     ]
    }
   ],
   "source": [
    "from langchain_core.messages import AIMessageChunk, HumanMessage\n",
    "\n",
    "# 질문 입력\n",
    "inputs = {\"messages\": [(\"human\", \"AI 관련된 최신 뉴스를 검색해줘\")]}\n",
    "\n",
    "# 첫 번째 메시지 처리 여부 플래그 설정\n",
    "first = True\n",
    "\n",
    "# 비동기 스트림 처리를 통한 메시지 및 메타데이터 순차 처리\n",
    "for msg, metadata in graph.stream(inputs, stream_mode=\"messages\"):\n",
    "    # 사용자 메시지가 아닌 경우의 컨텐츠 출력 처리\n",
    "    if msg.content and not isinstance(msg, HumanMessage):\n",
    "        print(msg.content, end=\"\", flush=True)\n",
    "\n",
    "    # AI 메시지 청크 처리 및 누적\n",
    "    if isinstance(msg, AIMessageChunk):\n",
    "        if first:\n",
    "            gathered = msg\n",
    "            first = False\n",
    "        else:\n",
    "            gathered = gathered + msg\n",
    "\n",
    "        # 도구 호출 청크 존재 시 누적된 도구 호출 정보 출력\n",
    "        if msg.tool_call_chunks:\n",
    "            print(gathered.tool_calls[0][\"args\"])"
   ]
  },
  {
   "cell_type": "markdown",
   "id": "3ec2a8d7",
   "metadata": {},
   "source": [
    "## Subgraphs 스트리밍 출력\n",
    "\n",
    "이번에는 Subgraphs 를 통해 스트리밍 출력을 확인하는 방법을 알아보겠습니다.\n",
    "\n",
    "Subgraphs 는 그래프의 일부를 서브그래프로 정의하는 기능입니다.\n",
    "\n",
    "**흐름**\n",
    "\n",
    "- Subgraphs 에서는 기존의 최신 뉴스를 검색하는 기능을 재사용합니다.\n",
    "- Parent Graph 에서는 검색된 최신 뉴스를 바탕으로 SNS 포스트를 생성하는 기능을 추가합니다."
   ]
  },
  {
   "cell_type": "code",
   "execution_count": 18,
   "id": "11c3b3e7",
   "metadata": {},
   "outputs": [],
   "source": [
    "from typing import Annotated, List, Dict\n",
    "from typing_extensions import TypedDict\n",
    "from langchain.tools import tool\n",
    "from langchain_teddynote.tools import GoogleNews\n",
    "from langchain_openai import ChatOpenAI\n",
    "from langgraph.graph import StateGraph, START, END\n",
    "from langgraph.graph.message import add_messages\n",
    "from langgraph.prebuilt import ToolNode, tools_condition\n",
    "\n",
    "\n",
    "########## 1. 상태 정의 ##########\n",
    "# 상태 정의\n",
    "class State(TypedDict):\n",
    "    # 메시지 목록 주석 추가\n",
    "    messages: Annotated[list, add_messages]\n",
    "\n",
    "\n",
    "########## 2. 도구 정의 및 바인딩 ##########\n",
    "# 도구 초기화\n",
    "# 키워드로 뉴스 검색하는 도구 생성\n",
    "@tool\n",
    "def search_keyword(query: str) -> List[Dict[str, str]]:\n",
    "    \"\"\"Look up news by keyword\"\"\"\n",
    "    news_tool = GoogleNews()\n",
    "    return \"\\n\".join(\n",
    "        [f'- {news[\"content\"]}' for news in news_tool.search_by_keyword(query, k=5)]\n",
    "    )\n",
    "\n",
    "\n",
    "# 도구 리스트 생성\n",
    "tools = [search_keyword]\n",
    "\n",
    "# LLM 초기화\n",
    "llm = ChatOpenAI(model=\"gpt-4o-mini\")\n",
    "\n",
    "# 도구와 LLM 결합 (tags 추가)\n",
    "llm_with_tools = llm.bind_tools(tools).with_config(tags=[\"WANT_TO_STREAM\"])\n",
    "\n",
    "\n",
    "########## 3. 노드 추가 ##########\n",
    "# 챗봇 함수 정의\n",
    "def chatbot(state: State):\n",
    "    # 메시지 호출 및 반환\n",
    "    return {\"messages\": [llm_with_tools.invoke(state[\"messages\"])]}\n",
    "\n",
    "\n",
    "# SNS 포스트 생성 함수 정의\n",
    "def create_sns_post(state: State):\n",
    "    # SNS 포스트 생성을 위한 프롬프트\n",
    "    sns_prompt = \"\"\"\n",
    "    이전 대화 내용을 바탕으로 SNS 게시글 형식으로 변환해주세요.\n",
    "    다음 형식을 따라주세요:\n",
    "    - 해시태그 포함\n",
    "    - 이모지 사용\n",
    "    - 간결하고 흥미로운 문체 사용\n",
    "    - 200자 이내로 작성\n",
    "    \"\"\"\n",
    "    messages = state[\"messages\"] + [(\"human\", sns_prompt)]\n",
    "    sns_llm = ChatOpenAI(model=\"gpt-4o-mini\").with_config(tags=[\"WANT_TO_STREAM2\"])\n",
    "    return {\"messages\": [sns_llm.invoke(messages)]}\n",
    "\n",
    "\n",
    "# 서브그래프 생성\n",
    "def create_subgraph():\n",
    "    # 서브그래프용 상태 그래프 생성\n",
    "    subgraph = StateGraph(State)\n",
    "\n",
    "    # 챗봇 노드 추가\n",
    "    subgraph.add_node(\"chatbot\", chatbot)\n",
    "\n",
    "    # 도구 노드 생성 및 추가\n",
    "    tool_node = ToolNode(tools=[search_keyword])\n",
    "    subgraph.add_node(\"tools\", tool_node)\n",
    "\n",
    "    # 조건부 엣지 추가\n",
    "    subgraph.add_conditional_edges(\n",
    "        \"chatbot\",\n",
    "        tools_condition,\n",
    "    )\n",
    "\n",
    "    # tools > chatbot\n",
    "    subgraph.add_edge(\"tools\", \"chatbot\")\n",
    "\n",
    "    # START > chatbot\n",
    "    subgraph.add_edge(START, \"chatbot\")\n",
    "\n",
    "    # chatbot > END\n",
    "    subgraph.add_edge(\"chatbot\", END)\n",
    "\n",
    "    return subgraph.compile()\n",
    "\n",
    "\n",
    "# 메인 그래프 생성\n",
    "graph_builder = StateGraph(State)\n",
    "\n",
    "# 서브그래프 추가\n",
    "subgraph = create_subgraph()\n",
    "graph_builder.add_node(\"news_subgraph\", subgraph)\n",
    "\n",
    "# SNS 포스트 생성 노드 추가\n",
    "graph_builder.add_node(\"sns_post\", create_sns_post)\n",
    "\n",
    "# START > news_subgraph\n",
    "graph_builder.add_edge(START, \"news_subgraph\")\n",
    "\n",
    "# news_subgraph > sns_post\n",
    "graph_builder.add_edge(\"news_subgraph\", \"sns_post\")\n",
    "\n",
    "# sns_post > END\n",
    "graph_builder.add_edge(\"sns_post\", END)\n",
    "\n",
    "# 그래프 컴파일\n",
    "graph = graph_builder.compile()"
   ]
  },
  {
   "cell_type": "markdown",
   "id": "61fedc11",
   "metadata": {},
   "source": [
    "그래프를 시각화합니다.\n"
   ]
  },
  {
   "cell_type": "code",
   "execution_count": 19,
   "id": "26008adc",
   "metadata": {},
   "outputs": [
    {
     "data": {
      "image/png": "[encoded data removed]",
      "text/plain": [
       "<IPython.core.display.Image object>"
      ]
     },
     "metadata": {},
     "output_type": "display_data"
    }
   ],
   "source": [
    "# 그래프 시각화\n",
    "visualize_graph(graph, xray=True)"
   ]
  },
  {
   "cell_type": "markdown",
   "id": "4a190b53",
   "metadata": {},
   "source": [
    "### Subgraphs 출력을 '생략' 하는 경우\n"
   ]
  },
  {
   "cell_type": "code",
   "execution_count": 20,
   "id": "9f2a2722",
   "metadata": {},
   "outputs": [
    {
     "name": "stdout",
     "output_type": "stream",
     "text": [
      "\n",
      "========= Update from node news_subgraph =========\n",
      "\n",
      "==================================\u001b[1m Ai Message \u001b[0m==================================\n",
      "\n",
      "최근 AI 관련 뉴스는 다음과 같습니다:\n",
      "\n",
      "1. **허사비스 \"뒤처진 메타, AI 인재 영입은 당연하지만...\"** - AI타임스\n",
      "2. **인공지능: '보그에 실린 AI 모델' 패션과 모델 산업에 큰 화두를 던지다** - BBC\n",
      "3. **[AI픽] 국가AI위원회 인선 본격화…이르면 8월 출범** - 연합뉴스\n",
      "4. **빅테크 AI 지출 증가 기대감에...엔비디아 사상 최고가 또 경신** - 조선일보\n",
      "5. **\"공간정보AI 2027년 상용화 목표\"** - 노컷뉴스\n",
      "\n",
      "더 알고 싶은 내용이 있으면 말씀해 주세요!\n",
      "\n",
      "========= Update from node sns_post =========\n",
      "\n",
      "==================================\u001b[1m Ai Message \u001b[0m==================================\n",
      "\n",
      "🚀 AI의 최신 소식! 💡 \n",
      "\n",
      "🔍 허사비스, 메타의 AI 인재 영입 필요성 언급! \n",
      "👗 보그에 실린 AI 모델, 패션 산업을 뒤흔들다!\n",
      "💰 엔비디아, 빅테크 AI 지출 증가로 사상 최고가 경신 중! \n",
      "\n",
      "미래가 기대되네요! 🌟 \n",
      "\n",
      "#AI #인공지능 #패션 #빅테크 #엔비디아 #미래기술\n"
     ]
    }
   ],
   "source": [
    "# 질문 입력\n",
    "inputs = {\"messages\": [(\"human\", \"AI 관련된 최신 뉴스를 검색해줘\")]}\n",
    "\n",
    "# 노드 업데이트 정보 순차적 처리 및 출력\n",
    "for chunk in graph.stream(inputs, stream_mode=\"updates\"):\n",
    "    # node_name: 현재 처리 중인 노드명, node_chunk: 해당 노드의 청크 데이터\n",
    "    for node_name, node_chunk in chunk.items():\n",
    "        # 현재 처리 중인 노드 구분선 출력\n",
    "        print(f\"\\n========= Update from node {node_name} =========\\n\")\n",
    "        # 해당 노드의 업데이트된 데이터 출력\n",
    "        if \"messages\" in node_chunk:\n",
    "            node_chunk[\"messages\"][-1].pretty_print()\n",
    "        else:\n",
    "            print(node_chunk)"
   ]
  },
  {
   "cell_type": "markdown",
   "id": "cdeb0cbd",
   "metadata": {},
   "source": [
    "### Subgraphs 출력도 '포함' 하는 경우\n",
    "\n",
    "**참고**\n",
    "\n",
    "- `subgraphs=True` 를 통해 Subgraphs 의 출력도 포함할 수 있습니다.\n",
    "- `(namespace, chunk)` 형태로 출력됩니다."
   ]
  },
  {
   "cell_type": "code",
   "execution_count": 21,
   "id": "bbdffaba",
   "metadata": {},
   "outputs": [
    {
     "name": "stdout",
     "output_type": "stream",
     "text": [
      "\n",
      "========= Update from node [chatbot] in [news_subgraph] =========\n",
      "\n",
      "==================================\u001b[1m Ai Message \u001b[0m==================================\n",
      "Tool Calls:\n",
      "  search_keyword (call_xMfsjh8zXJMvL3tYu94hr2fn)\n",
      " Call ID: call_xMfsjh8zXJMvL3tYu94hr2fn\n",
      "  Args:\n",
      "    query: AI\n",
      "\n",
      "========= Update from node [tools] in [news_subgraph] =========\n",
      "\n",
      "=================================\u001b[1m Tool Message \u001b[0m=================================\n",
      "Name: search_keyword\n",
      "\n",
      "- 허사비스 \"뒤처진 메타, AI 인재 영입은 당연하지만...\" - AI타임스\n",
      "- 인공지능: '보그에 실린 AI 모델' 패션과 모델 산업에 큰 화두를 던지다 - BBC\n",
      "- [AI픽] 국가AI위원회 인선 본격화…이르면 8월 출범 - 연합뉴스\n",
      "- 빅테크 AI 지출 증가 기대감에...엔비디아 사상 최고가 또 경신 - 조선일보\n",
      "- \"공간정보AI 2027년 상용화 목표\" - 노컷뉴스\n",
      "\n",
      "========= Update from node [chatbot] in [news_subgraph] =========\n",
      "\n",
      "==================================\u001b[1m Ai Message \u001b[0m==================================\n",
      "\n",
      "최신 AI 관련 뉴스는 다음과 같습니다:\n",
      "\n",
      "1. **허사비스 \"뒤처진 메타, AI 인재 영입은 당연하지만...\"** - AI타임스\n",
      "2. **인공지능: '보그에 실린 AI 모델' 패션과 모델 산업에 큰 화두를 던지다** - BBC\n",
      "3. **[AI픽] 국가AI위원회 인선 본격화…이르면 8월 출범** - 연합뉴스\n",
      "4. **빅테크 AI 지출 증가 기대감에...엔비디아 사상 최고가 또 경신** - 조선일보\n",
      "5. **\"공간정보AI 2027년 상용화 목표\"** - 노컷뉴스\n",
      "\n",
      "더 궁금한 내용이 있으면 말씀해 주세요!\n",
      "\n",
      "========= Update from node [news_subgraph] in [parent graph] =========\n",
      "\n",
      "==================================\u001b[1m Ai Message \u001b[0m==================================\n",
      "\n",
      "최신 AI 관련 뉴스는 다음과 같습니다:\n",
      "\n",
      "1. **허사비스 \"뒤처진 메타, AI 인재 영입은 당연하지만...\"** - AI타임스\n",
      "2. **인공지능: '보그에 실린 AI 모델' 패션과 모델 산업에 큰 화두를 던지다** - BBC\n",
      "3. **[AI픽] 국가AI위원회 인선 본격화…이르면 8월 출범** - 연합뉴스\n",
      "4. **빅테크 AI 지출 증가 기대감에...엔비디아 사상 최고가 또 경신** - 조선일보\n",
      "5. **\"공간정보AI 2027년 상용화 목표\"** - 노컷뉴스\n",
      "\n",
      "더 궁금한 내용이 있으면 말씀해 주세요!\n",
      "\n",
      "========= Update from node [sns_post] in [parent graph] =========\n",
      "\n",
      "==================================\u001b[1m Ai Message \u001b[0m==================================\n",
      "\n",
      "🌟 최신 AI 뉴스! 🌟\n",
      "\n",
      "🔍 메타는 AI 인재 영입에 나서고, 인공지능 모델이 패션산업에 큰 변화를! 👗\n",
      "💡 국가AI위원회 출범이 임박했어요! ⏰\n",
      "📈 엔비디아 주가, 사상 최고 경신 중! 🚀\n",
      "\n",
      "모두가 주목하는 AI 트렌드, 놓치지 마세요! #AI #인공지능 #트렌드 #패션 #테크뉴스\n"
     ]
    }
   ],
   "source": [
    "# 사용자의 메시지를 딕셔너리 형태로 입력 데이터 구성\n",
    "inputs = {\"messages\": [(\"human\", \"AI 관련된 최신 뉴스를 검색해줘\")]}\n",
    "\n",
    "\n",
    "# 네임스페이스 문자열을 보기 좋은 형식으로 변환하는 포맷팅 함수\n",
    "def format_namespace(namespace):\n",
    "    return namespace[-1].split(\":\")[0] if len(namespace) > 0 else \"parent graph\"\n",
    "\n",
    "\n",
    "# subgraphs=True 를 통해 서브그래프의 출력도 포함(namespace, chunk) 형태로 출력됩니다.\n",
    "for namespace, chunk in graph.stream(inputs, stream_mode=\"updates\", subgraphs=True):\n",
    "    # node_name: 현재 처리 중인 노드명, node_chunk: 해당 노드의 청크 데이터\n",
    "    for node_name, node_chunk in chunk.items():\n",
    "        print(\n",
    "            f\"\\n========= Update from node [{node_name}] in [{format_namespace(namespace)}] =========\\n\"\n",
    "        )\n",
    "\n",
    "        # 노드의 청크 데이터 출력\n",
    "        if \"messages\" in node_chunk:\n",
    "            node_chunk[\"messages\"][-1].pretty_print()\n",
    "        else:\n",
    "            print(node_chunk)"
   ]
  },
  {
   "cell_type": "markdown",
   "id": "a79a4ce4",
   "metadata": {},
   "source": [
    "#### Subgraphs 안에서 LLM 출력 토큰 단위 스트리밍"
   ]
  },
  {
   "cell_type": "markdown",
   "id": "8e4fed4e",
   "metadata": {},
   "source": [
    "**참고**\n",
    "\n",
    "- `kind` 는 이벤트 종류를 나타냅니다.\n",
    "- 이벤트 종류는 [StreamEvent 타입별 정리](https://wikidocs.net/265576) 에서 확인하세요!"
   ]
  },
  {
   "cell_type": "code",
   "execution_count": 22,
   "id": "c1bb601f",
   "metadata": {},
   "outputs": [
    {
     "name": "stdout",
     "output_type": "stream",
     "text": [
      "\n",
      "========= on_chat_model_start =========\n",
      "\n",
      "\n",
      "========= tool_start =========\n",
      "\n",
      "{'query': 'AI'}\n",
      "\n",
      "========= tool_end =========\n",
      "\n",
      "- 허사비스 \"뒤처진 메타, AI 인재 영입은 당연하지만...\" - AI타임스\n",
      "- 인공지능: '보그에 실린 AI 모델' 패션과 모델 산업에 큰 화두를 던지다 - BBC\n",
      "- [AI픽] 국가AI위원회 인선 본격화…이르면 8월 출범 - 연합뉴스\n",
      "- 빅테크 AI 지출 증가 기대감에...엔비디아 사상 최고가 또 경신 - 조선일보\n",
      "- \"공간정보AI 2027년 상용화 목표\" - 노컷뉴스\n",
      "\n",
      "========= on_chat_model_start =========\n",
      "\n",
      "최신 AI 관련 뉴스는 다음과 같습니다:\n",
      "\n",
      "1. **허사비스 \"뒤처진 메타, AI 인재 영입은 당연하지만...\"** - AI타임스\n",
      "2. **인공지능: '보그에 실린 AI 모델' 패션과 모델 산업에 큰 화두를 던지다** - BBC\n",
      "3. **[AI픽] 국가AI위원회 인선 본격화…이르면 8월 출범** - 연합뉴스\n",
      "4. **빅테크 AI 지출 증가 기대감에...엔비디아 사상 최고가 또 경신** - 조선일보\n",
      "5. **\"공간정보AI 2027년 상용화 목표\"** - 노컷뉴스\n",
      "\n",
      "더 깊은 내용이나 특정 기사에 대한 추가 정보가 필요하시면 말씀해 주세요!\n",
      "========= on_chat_model_start =========\n",
      "\n",
      "🚀 AI 소식 대공개! 🌟\n",
      "\n",
      "1️⃣ 메타, AI 인재 영입 본격화! 😲\n",
      "2️⃣ AI 모델, 패션과 모델 산업에 새 바람! 👗✨\n",
      "3️⃣ 국가AI위원회, 이르면 8월 출범! 🇰🇷\n",
      "4️⃣ 엔비디아, 사상 최고가 경신! 💹\n",
      "5️⃣ 공간정보AI, 2027년 상용화 목표! 📍\n",
      "\n",
      "AI의 미래가 기대됩니다! 🔮\n",
      "\n",
      "#AI #인공지능 #기술혁신 #패션 #메타 #엔비디아 #미래기술"
     ]
    }
   ],
   "source": [
    "# 네임스페이스 정보를 파싱하는 함수\n",
    "def parse_namespace_info(info: tuple) -> tuple[str, str]:\n",
    "    if len(info) > 1:\n",
    "        namespace, node_name = info\n",
    "        return node_name.split(\":\")[0], namespace.split(\":\")[0]\n",
    "    return info[0].split(\":\")[0], \"parent graph\"\n",
    "\n",
    "\n",
    "kind = None\n",
    "\n",
    "async for event in graph.astream_events(inputs, version=\"v2\", subgraphs=True):\n",
    "    kind = event[\"event\"]\n",
    "\n",
    "    # 이벤트 종류와 태그 정보 추출\n",
    "    if kind == \"on_chat_model_start\":\n",
    "        print(f\"\\n========= on_chat_model_start =========\\n\")\n",
    "\n",
    "    # 채팅 모델 스트림 이벤트 및 최종 노드 태그 필터링\n",
    "    elif kind == \"on_chat_model_stream\":\n",
    "        # 이벤트 데이터 추출\n",
    "        data = event[\"data\"]\n",
    "\n",
    "        # 토큰 단위의 스트리밍 출력\n",
    "        if data[\"chunk\"].content:\n",
    "            print(data[\"chunk\"].content, end=\"\", flush=True)\n",
    "\n",
    "    elif kind == \"on_tool_start\":\n",
    "        print(f\"\\n========= tool_start =========\\n\")\n",
    "        data = event[\"data\"]\n",
    "        if \"input\" in data:\n",
    "            tool_msg = data[\"input\"]\n",
    "            print(tool_msg)\n",
    "\n",
    "    elif kind == \"on_tool_end\":\n",
    "        print(f\"\\n========= tool_end =========\\n\")\n",
    "        data = event[\"data\"]\n",
    "        if \"output\" in data:\n",
    "            tool_msg = data[\"output\"]\n",
    "            print(tool_msg.content)"
   ]
  },
  {
   "cell_type": "markdown",
   "id": "e9e76daf",
   "metadata": {},
   "source": [
    "#### 특정 tags 만 스트리밍 출력하는 경우\n",
    "\n",
    "- `ONLY_STREAM_TAGS` 를 통해 스트리밍 출력하고 싶은 tags 만 설정할 수 있습니다.\n",
    "- 여기서는 \"WANT_TO_STREAM\" 는 출력에서 배제하고 \"WANT_TO_STREAM2\" 만 출력하는 경우를 확인합니다."
   ]
  },
  {
   "cell_type": "code",
   "execution_count": 23,
   "id": "8305f229",
   "metadata": {},
   "outputs": [
    {
     "name": "stdout",
     "output_type": "stream",
     "text": [
      "\n",
      "========= tags: ['seq:step:1', 'WANT_TO_STREAM'] =========\n",
      "\n",
      "\n",
      "========= tool_start =========\n",
      "\n",
      "{'query': 'AI'}\n",
      "\n",
      "========= tool_end =========\n",
      "\n",
      "- 허사비스 \"뒤처진 메타, AI 인재 영입은 당연하지만...\" - AI타임스\n",
      "- 인공지능: '보그에 실린 AI 모델' 패션과 모델 산업에 큰 화두를 던지다 - BBC\n",
      "- [AI픽] 국가AI위원회 인선 본격화…이르면 8월 출범 - 연합뉴스\n",
      "- 빅테크 AI 지출 증가 기대감에...엔비디아 사상 최고가 또 경신 - 조선일보\n",
      "- \"공간정보AI 2027년 상용화 목표\" - 노컷뉴스\n",
      "\n",
      "========= tags: ['seq:step:1', 'WANT_TO_STREAM'] =========\n",
      "\n",
      "다음은 AI 관련 최신 뉴스입니다:\n",
      "\n",
      "1. **허사비스 \"뒤처진 메타, AI 인재 영입은 당연하지만...\"** - AI타임스\n",
      "2. **인공지능: '보그에 실린 AI 모델' 패션과 모델 산업에 큰 화두를 던지다** - BBC\n",
      "3. **[AI픽] 국가AI위원회 인선 본격화…이르면 8월 출범** - 연합뉴스\n",
      "4. **빅테크 AI 지출 증가 기대감에...엔비디아 사상 최고가 또 경신** - 조선일보\n",
      "5. **\"공간정보AI 2027년 상용화 목표\"** - 노컷뉴스\n",
      "\n",
      "각 뉴스는 다양한 측면에서 AI의 발전과 관련된 내용을 다루고 있습니다. 관심 있는 주제를 더 깊이 파고들고 싶으시면 말씀해 주세요!\n",
      "========= tags: ['seq:step:1', 'WANT_TO_STREAM2'] =========\n",
      "\n"
     ]
    }
   ],
   "source": [
    "# 네임스페이스 정보를 파싱하는 함수\n",
    "def parse_namespace_info(info: tuple) -> tuple[str, str]:\n",
    "    if len(info) > 1:\n",
    "        namespace, node_name = info\n",
    "        return node_name.split(\":\")[0], namespace.split(\":\")[0]\n",
    "    return info[0].split(\":\")[0], \"parent graph\"\n",
    "\n",
    "\n",
    "# 스트리밍 출력하고 싶은 tags 만 설정 (여기서는 \"WANT_TO_STREAM\" 는 출력에서 배제)\n",
    "ONLY_STREAM_TAGS = [\"WANT_TO_STREAM\"]\n",
    "\n",
    "kind = None\n",
    "tags = None\n",
    "\n",
    "async for event in graph.astream_events(inputs, version=\"v2\", subgraphs=True):\n",
    "    kind = event[\"event\"]\n",
    "    tags = event.get(\"tags\", [])\n",
    "\n",
    "    # 이벤트 종류와 태그 정보 추출\n",
    "    if kind == \"on_chat_model_start\":\n",
    "        print(f\"\\n========= tags: {tags} =========\\n\")\n",
    "\n",
    "    # 채팅 모델 스트림 이벤트 및 최종 노드 태그 필터링\n",
    "    elif kind == \"on_chat_model_stream\":\n",
    "        for tag in tags:\n",
    "            if tag in ONLY_STREAM_TAGS:\n",
    "                # 이벤트 데이터 추출\n",
    "                data = event[\"data\"]\n",
    "\n",
    "                # 출력 메시지\n",
    "                if data[\"chunk\"].content:\n",
    "                    print(data[\"chunk\"].content, end=\"\", flush=True)\n",
    "    elif kind == \"on_tool_start\":\n",
    "        print(f\"\\n========= tool_start =========\\n\")\n",
    "        data = event[\"data\"]\n",
    "        if \"input\" in data:\n",
    "            tool_msg = data[\"input\"]\n",
    "            print(tool_msg)\n",
    "\n",
    "    elif kind == \"on_tool_end\":\n",
    "        print(f\"\\n========= tool_end =========\\n\")\n",
    "        data = event[\"data\"]\n",
    "        if \"output\" in data:\n",
    "            tool_msg = data[\"output\"]\n",
    "            print(tool_msg.content)"
   ]
  }
 ],
 "metadata": {
  "kernelspec": {
   "display_name": "langchain-kr-szXyjQUn-py3.11",
   "language": "python",
   "name": "python3"
  },
  "language_info": {
   "codemirror_mode": {
    "name": "ipython",
    "version": 3
   },
   "file_extension": ".py",
   "mimetype": "text/x-python",
   "name": "python",
   "nbconvert_exporter": "python",
   "pygments_lexer": "ipython3",
   "version": "3.11.9"
  }
 },
 "nbformat": 4,
 "nbformat_minor": 5
}
